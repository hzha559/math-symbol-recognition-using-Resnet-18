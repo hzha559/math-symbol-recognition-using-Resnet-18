{
 "cells": [
  {
   "cell_type": "code",
   "execution_count": 16,
   "metadata": {},
   "outputs": [],
   "source": [
    "import numpy as np\n",
    "from PIL import Image\n",
    "import pickle\n",
    "import matplotlib.pyplot as plt\n",
    "%matplotlib inline\n",
    "import os\n",
    "import cv2\n",
    "from skimage import io\n",
    "import fs\n",
    "import torchvision\n",
    "from torchvision import transforms\n",
    "import torch\n",
    "\n",
    "from torch.utils.data import Dataset, DataLoader\n",
    "import torchvision\n",
    "\n",
    "import multiprocessing\n",
    "import numpy as np\n",
    "import matplotlib.pyplot as plt\n",
    "import torch.nn as nn\n",
    "cuda = torch.cuda.is_available()\n",
    "import time\n",
    "device = torch.device(\"cuda\" if cuda else \"cpu\")\n",
    "from mlxtend.data import loadlocal_mnist"
   ]
  },
  {
   "cell_type": "code",
   "execution_count": 125,
   "metadata": {},
   "outputs": [
    {
     "data": {
      "image/png": "[encoded data removed]",
      "text/plain": [
       "<Figure size 432x288 with 1 Axes>"
      ]
     },
     "metadata": {
      "needs_background": "light"
     },
     "output_type": "display_data"
    },
    {
     "name": "stdout",
     "output_type": "stream",
     "text": [
      "1\n"
     ]
    },
    {
     "data": {
      "image/png": "[encoded data removed]",
      "text/plain": [
       "<Figure size 432x288 with 1 Axes>"
      ]
     },
     "metadata": {
      "needs_background": "light"
     },
     "output_type": "display_data"
    }
   ],
   "source": [
    "path='C:/Users/zhaoh/Downloads/FYP/dataset/test/'\n",
    "i=0\n",
    "for f in os.listdir(path):\n",
    "    name=os.path.join(path+str(f))\n",
    "    if \"PNG\" in name:\n",
    "        im = cv2.imread(name)\n",
    "        plt.imshow(im)\n",
    "        plt.show()\n",
    "        im1=im[300:435,420:580]\n",
    "        im2=im[450:570,420:570]\n",
    "        im3=im[580:700,420:570]\n",
    "        im4=im[720:850,420:570]\n",
    "        im5=im[870:990,420:570]\n",
    "        \n",
    "        plt.imshow(im[870:990,420:570])\n",
    "        i+=1\n",
    "        #im=255-im\n",
    "        #flip = cv2.flip(im, 1)\n",
    "        cv2.imwrite(path+'1.jpg',im1)\n",
    "        cv2.imwrite(path+'2.jpg',im2)\n",
    "        cv2.imwrite(path+'3.jpg',im3)\n",
    "        cv2.imwrite(path+'4.jpg',im4)\n",
    "        cv2.imwrite(path+'5.jpg',im5)\n",
    "print(i)"
   ]
  },
  {
   "cell_type": "code",
   "execution_count": 31,
   "metadata": {},
   "outputs": [
    {
     "name": "stdout",
     "output_type": "stream",
     "text": [
      "4132\n"
     ]
    }
   ],
   "source": [
    "'''path='C:/Users/zhaoh/Downloads/FYP/dataset/div/lr/'\n",
    "i=0\n",
    "for f in os.listdir(path):\n",
    "    name=os.path.join(path+str(f))\n",
    "    if \"png\" in name:\n",
    "        im = cv2.imread(name)\n",
    "        i+=1\n",
    "        flip = cv2.flip(im, 1)\n",
    "        cv2.imwrite(name,flip)\n",
    "print(i)\n",
    "'''\n",
    "\n",
    "path='C:/Users/zhaoh/Downloads/FYP/dataset/Mnist/zero/'\n",
    "i=0\n",
    "for f in os.listdir(path):\n",
    "    name=os.path.join(path+str(f))\n",
    "    if \"jpg\" in name:\n",
    "        im = cv2.imread(name)\n",
    "        i+=1\n",
    "        im=255-im\n",
    "        #flip = cv2.flip(im, 1)\n",
    "        cv2.imwrite(name,im)\n",
    "print(i)\n"
   ]
  },
  {
   "cell_type": "code",
   "execution_count": 2,
   "metadata": {},
   "outputs": [
    {
     "data": {
      "text/plain": [
       "'\\ntest_path = \\'C:/Users/zhaoh/Downloads/car recognition/croped_images/audi/\\'\\ni=0\\n#carlabel=[[0 for x in range(10000)] for x in range(2)] \\n#print(carlabel)\\nfor f in os.listdir(test_path):\\n    name=os.path.join(test_path+str(f))\\n    if \"jpg.\" not in name:\\n        test_path =name\\n        #newname=os.path.join(test_path,\\'benz suv\\'+str(i)+\\'.jpg\\')\\n        #os.rename(name, newname)\\n        #test_image=newname\\n        filename = os.path.join(test_path, test_image)\\n    else:\\n        i=i+1\\n    #print(format(filename))\\n    \\n    img=io.imread(filename)\\n    #print(img.shape)\\n    #carlabel[1][i]=401\\n    #carlabel[0][i]=str(img)\\n    i=i+1\\n#print(carlabel)\\n\\nwrite_file=open(\\'train_data.pkl\\',\\'wb\\')  \\npickle.dump(carlabel,write_file)  \\nwrite_file.close()\\n'"
      ]
     },
     "execution_count": 2,
     "metadata": {},
     "output_type": "execute_result"
    }
   ],
   "source": [
    "#rename all the training pictures#################### only for rename\n",
    "'''\n",
    "test_path = 'C:/Users/zhaoh/Downloads/car recognition/croped_images/audi/'\n",
    "i=0\n",
    "#carlabel=[[0 for x in range(10000)] for x in range(2)] \n",
    "#print(carlabel)\n",
    "for f in os.listdir(test_path):\n",
    "    name=os.path.join(test_path+str(f))\n",
    "    if \"jpg.\" not in name:\n",
    "        test_path =name\n",
    "        #newname=os.path.join(test_path,'benz suv'+str(i)+'.jpg')\n",
    "        #os.rename(name, newname)\n",
    "        #test_image=newname\n",
    "        filename = os.path.join(test_path, test_image)\n",
    "    else:\n",
    "        i=i+1\n",
    "    #print(format(filename))\n",
    "    \n",
    "    img=io.imread(filename)\n",
    "    #print(img.shape)\n",
    "    #carlabel[1][i]=401\n",
    "    #carlabel[0][i]=str(img)\n",
    "    i=i+1\n",
    "#print(carlabel)\n",
    "\n",
    "write_file=open('train_data.pkl','wb')  \n",
    "pickle.dump(carlabel,write_file)  \n",
    "write_file.close()\n",
    "'''\n",
    "############################################################"
   ]
  },
  {
   "cell_type": "code",
   "execution_count": 10,
   "metadata": {},
   "outputs": [],
   "source": [
    "from torch.utils.data import Dataset, DataLoader\n",
    "threshold=200\n",
    "class DrivingDataset(Dataset):\n",
    "    def __init__(self,data_dir, input_w=224, input_h=224,is_train=True,transform=None):\n",
    "        namelist = [[] for i in range(15)]\n",
    "        \"\"\"{0:\"other\",1:\"drink\",2:\"phone\",3:\"smoke\"}\"\"\"\n",
    "        self.data_filenames = []\n",
    "        self.data_ids = []\n",
    "        self.is_train=is_train\n",
    "\n",
    "        self.data_root=fs.open_fs(data_dir)\n",
    "        self.transform = transform\n",
    "        for p in self.data_root.walk.files(filter=[\"*.jpg\",\"*.png\"]):\n",
    "            filename=data_dir+p\n",
    "            if is_train==True:\n",
    "                if \"zero\"  in filename:\n",
    "                    if len(namelist[0])<threshold:\n",
    "                        self.data_filenames.append(filename)\n",
    "                        self.data_ids.append(0)\n",
    "                        namelist[0].append(1)\n",
    "                elif \"one\" in filename:\n",
    "                    if len(namelist[1])<threshold:\n",
    "                        self.data_filenames.append(filename)\n",
    "                        self.data_ids.append(1)\n",
    "                        namelist[1].append(1)\n",
    "                elif \"two\" in filename:\n",
    "                    if len(namelist[2])<threshold:\n",
    "                        self.data_filenames.append(filename)\n",
    "                        self.data_ids.append(2)\n",
    "                        namelist[2].append(1)\n",
    "                elif \"three\" in filename:\n",
    "                    if len(namelist[3])<threshold:\n",
    "                        self.data_filenames.append(filename)\n",
    "                        self.data_ids.append(3)\n",
    "                        namelist[3].append(1)\n",
    "                elif \"four\" in filename:\n",
    "                    if len(namelist[4])<threshold:\n",
    "                        self.data_filenames.append(filename)\n",
    "                        self.data_ids.append(4)\n",
    "                        namelist[4].append(1)\n",
    "                elif \"five\" in filename:\n",
    "                    if len(namelist[5])<threshold:\n",
    "                        self.data_filenames.append(filename)\n",
    "                        self.data_ids.append(5)\n",
    "                        namelist[5].append(1)\n",
    "                elif \"six\" in filename:\n",
    "                    if len(namelist[6])<threshold:\n",
    "                        self.data_filenames.append(filename)\n",
    "                        self.data_ids.append(6)\n",
    "                        namelist[6].append(1)\n",
    "                elif \"seven\" in filename:\n",
    "                    if len(namelist[7])<threshold:\n",
    "                        self.data_filenames.append(filename)\n",
    "                        self.data_ids.append(7)\n",
    "                        namelist[7].append(1)\n",
    "                elif \"eight\" in filename:\n",
    "                    if len(namelist[8])<threshold:\n",
    "                        self.data_filenames.append(filename)\n",
    "                        self.data_ids.append(8)\n",
    "                        namelist[8].append(1)\n",
    "                elif \"nine\" in filename:\n",
    "                    if len(namelist[9])<threshold:\n",
    "                        self.data_filenames.append(filename)\n",
    "                        self.data_ids.append(9)\n",
    "                        namelist[9].append(1)\n",
    "                elif \"plus\" in filename:\n",
    "                    if len(namelist[10])<threshold:\n",
    "                        self.data_filenames.append(filename)\n",
    "                        self.data_ids.append(10)\n",
    "                        namelist[10].append(1)\n",
    "                elif \"minus\" in filename:\n",
    "                    if len(namelist[11])<threshold:\n",
    "                        self.data_filenames.append(filename)\n",
    "                        self.data_ids.append(11)\n",
    "                        namelist[11].append(1)\n",
    "\n",
    "                elif \"times\" in filename:\n",
    "                    if len(namelist[12])<threshold:\n",
    "                        self.data_filenames.append(filename)\n",
    "                        self.data_ids.append(12)\n",
    "                        namelist[12].append(1)\n",
    "                elif \"div\" in filename:\n",
    "                    if len(namelist[13])<threshold:\n",
    "                        self.data_filenames.append(filename)\n",
    "                        self.data_ids.append(13)\n",
    "                        namelist[13].append(1)\n",
    "                elif \"=\" in filename:\n",
    "                    if len(namelist[14])<threshold:\n",
    "                        self.data_filenames.append(filename)\n",
    "                        self.data_ids.append(14)\n",
    "                        namelist[14].append(1)\n",
    "            else:\n",
    "                self.data_filenames.append(filename)\n",
    "                self.data_ids.append(0)\n",
    "        \n",
    "        \n",
    "        # print(self.data_filenames)\n",
    "        print(self.data_ids)\n",
    "        print(len(self.data_ids))\n",
    "\n",
    "        #self.input_w = input_w\n",
    "        #self.input_h = input_h\n",
    "\n",
    "    def __getitem__(self, item):\n",
    "        \"\"\"Grey(i, j) = 0.299 × R(i, j) + 0.587 × G(i, j) + 0.114 × B(i, j)\"\"\"\n",
    "\n",
    "        img_path = self.data_filenames[item]\n",
    "        #print(img_path)\n",
    "        target = self.data_ids[item]\n",
    "\n",
    "        image = cv2.imread(img_path)#发现cv2不支持路径中有中文，换成io.imread\n",
    "        #image=cv2.resize(image, (56, 56))\n",
    "        if self.transform:\n",
    "            image = self.transform(image)\n",
    "        \n",
    "        target = np.array([target], dtype=np.long)\n",
    "        target = torch.from_numpy(target)\n",
    "        \n",
    "        return image,target\n",
    "\n",
    "    def __len__(self):\n",
    "        return len(self.data_filenames)\n",
    "    "
   ]
  },
  {
   "cell_type": "code",
   "execution_count": 72,
   "metadata": {},
   "outputs": [],
   "source": [
    "#新的transform，通过padding保证不畸变图片,ratio是需要设置的最终图片长宽比\n",
    "class ratio_crop(object):\n",
    "    def __init__(self, ratio=1.0):\n",
    "        self.ratio = ratio\n",
    "    def __call__(self, images):\n",
    "            ratio=1.0\n",
    "            #for img in images:\n",
    "            #print(images.shape)\n",
    "            w=images.shape[1]\n",
    "            h=images.shape[0]\n",
    "            aspect_ratio=float(w)/float(h)\n",
    "            #print(images.shape,aspect_ratio)\n",
    "            if aspect_ratio==ratio:\n",
    "                a=1\n",
    "            elif aspect_ratio>ratio:\n",
    "                dif = np.abs(w  - h)\n",
    "                pad1, pad2 = int(dif // 2), int(dif - dif // 2)\n",
    "                pad = ((0, 0),(pad1, pad2) ,(0, 0))\n",
    "                images = np.pad(images, pad, \"constant\", constant_values=255)\n",
    "                #input_img = cv2.resize(input_x, (inputwidth, inputheight))\n",
    "            else:\n",
    "                # padding w\n",
    "                dif = np.abs(h  - w)\n",
    "                pad1, pad2 = int(dif // 2), int(dif - dif // 2)\n",
    "                pad = ((0, 0),(pad1, pad2),(0, 0))\n",
    "                images = np.pad(images, pad, \"constant\", constant_values=255)\n",
    "                #input_img = cv2.resize(input_x, (inputwidth, inputheight))\n",
    "            return images\n",
    "        \n",
    "transform = transforms.Compose([\n",
    "            ratio_crop(1.0),\n",
    "            transforms.ToPILImage(),\n",
    "            transforms.Pad(10, fill=255, padding_mode='constant'),\n",
    "            transforms.RandomResizedCrop(56, scale=(0.6, 1.0)),\n",
    "            transforms.Resize((56,56), interpolation=2),\n",
    "            \n",
    "            #transforms.RandomHorizontalFlip(0.2), \n",
    "            transforms.ToTensor(),\n",
    "            #transforms.Normalize(mean=[0.485, 0.456, 0.406],std=[0.229, 0.224, 0.225])\n",
    "    ]) "
   ]
  },
  {
   "cell_type": "code",
   "execution_count": 38,
   "metadata": {},
   "outputs": [
    {
     "data": {
      "text/plain": [
       "'\\n#a new file system that can go through all sub-folders##################################only for test\\n\\n#test_path = \\'C:/Users/zhaoh/Downloads/car recognition/data/honda/sedan/\\'\\ntest_path=\\'C:/Users/zhaoh/Downloads/car recognition/croped_images/大众/\\'\\ni=0\\n#carlabel=[[0 for x in range(10000)] for x in range(2)] \\n#print(carlabel)\\ndata_root=fs.open_fs(test_path)\\nfor p in data_root.walk.files(filter=[\"*.jpg\"]):\\n    i=i+1\\n\\nprint(i)\\n##############################################\\n'"
      ]
     },
     "execution_count": 38,
     "metadata": {},
     "output_type": "execute_result"
    }
   ],
   "source": [
    "'''\n",
    "#a new file system that can go through all sub-folders##################################only for test\n",
    "\n",
    "#test_path = 'C:/Users/zhaoh/Downloads/car recognition/data/honda/sedan/'\n",
    "test_path='C:/Users/zhaoh/Downloads/car recognition/croped_images/大众/'\n",
    "i=0\n",
    "#carlabel=[[0 for x in range(10000)] for x in range(2)] \n",
    "#print(carlabel)\n",
    "data_root=fs.open_fs(test_path)\n",
    "for p in data_root.walk.files(filter=[\"*.jpg\"]):\n",
    "    i=i+1\n",
    "\n",
    "print(i)\n",
    "##############################################\n",
    "'''"
   ]
  },
  {
   "cell_type": "code",
   "execution_count": 73,
   "metadata": {},
   "outputs": [
    {
     "name": "stdout",
     "output_type": "stream",
     "text": [
      "[13, 13, 13, 13, 13, 13, 13, 13, 13, 13, 13, 13, 13, 13, 13, 13, 13, 13, 13, 13, 13, 13, 13, 13, 13, 13, 13, 13, 13, 13, 13, 13, 13, 13, 13, 13, 13, 13, 13, 13, 13, 13, 13, 13, 13, 13, 13, 13, 13, 13, 13, 13, 13, 13, 13, 13, 13, 13, 13, 13, 13, 13, 13, 13, 13, 13, 13, 13, 13, 13, 13, 13, 13, 13, 13, 13, 13, 13, 13, 13, 13, 13, 13, 13, 13, 13, 13, 13, 13, 13, 13, 13, 13, 13, 13, 13, 13, 13, 13, 13, 13, 13, 13, 13, 13, 13, 13, 13, 13, 13, 13, 13, 13, 13, 13, 13, 13, 13, 13, 13, 13, 13, 13, 13, 13, 13, 13, 13, 13, 13, 13, 13, 13, 13, 13, 13, 13, 13, 13, 13, 13, 13, 13, 13, 13, 13, 13, 13, 13, 13, 13, 13, 13, 13, 13, 13, 13, 14, 14, 14, 14, 14, 14, 14, 14, 14, 14, 14, 14, 14, 14, 14, 14, 14, 14, 14, 14, 14, 14, 14, 14, 14, 14, 14, 14, 14, 14, 14, 14, 14, 14, 14, 14, 14, 14, 14, 14, 14, 14, 14, 14, 14, 14, 14, 14, 14, 14, 14, 14, 14, 14, 14, 14, 14, 14, 14, 14, 14, 14, 14, 14, 14, 14, 14, 14, 14, 14, 14, 14, 14, 14, 14, 14, 14, 14, 14, 14, 14, 14, 14, 14, 14, 14, 14, 14, 14, 14, 14, 14, 14, 14, 14, 14, 14, 14, 14, 14, 14, 14, 14, 14, 14, 14, 14, 14, 14, 14, 14, 14, 14, 14, 14, 14, 14, 14, 14, 14, 14, 14, 14, 14, 14, 14, 14, 14, 14, 14, 14, 14, 14, 14, 14, 14, 14, 14, 14, 14, 14, 14, 14, 14, 14, 14, 14, 14, 14, 14, 14, 14, 14, 14, 14, 14, 14, 14, 14, 14, 14, 14, 14, 14, 14, 14, 14, 14, 14, 14, 14, 14, 14, 14, 14, 14, 14, 14, 14, 14, 14, 14, 14, 14, 14, 14, 14, 14, 14, 14, 14, 14, 14, 14, 14, 14, 14, 14, 14, 14, 11, 11, 11, 11, 11, 11, 11, 11, 11, 11, 11, 11, 11, 11, 11, 11, 11, 11, 11, 11, 11, 11, 11, 11, 11, 11, 11, 11, 11, 11, 11, 11, 11, 11, 11, 11, 11, 11, 11, 11, 11, 11, 11, 11, 11, 11, 11, 11, 11, 11, 11, 11, 11, 11, 11, 11, 11, 11, 11, 11, 11, 11, 11, 11, 11, 11, 11, 11, 11, 11, 11, 11, 11, 11, 11, 11, 11, 11, 11, 11, 11, 11, 11, 11, 11, 11, 11, 11, 11, 11, 11, 11, 11, 11, 11, 11, 11, 11, 11, 11, 11, 11, 11, 11, 11, 11, 11, 11, 11, 11, 11, 11, 11, 11, 11, 11, 11, 11, 11, 11, 11, 11, 11, 11, 11, 11, 11, 11, 11, 11, 11, 11, 11, 11, 11, 11, 11, 11, 11, 11, 11, 11, 11, 11, 11, 11, 11, 11, 11, 11, 11, 11, 11, 11, 11, 11, 11, 11, 11, 11, 11, 11, 11, 11, 11, 11, 11, 11, 11, 11, 11, 11, 11, 11, 11, 11, 11, 11, 11, 11, 11, 11, 11, 11, 11, 11, 11, 11, 11, 11, 11, 11, 11, 11, 11, 11, 11, 11, 11, 11, 10, 10, 10, 10, 10, 10, 10, 10, 10, 10, 10, 10, 10, 10, 10, 10, 10, 10, 10, 10, 10, 10, 10, 10, 10, 10, 10, 10, 10, 10, 10, 10, 10, 10, 10, 10, 10, 10, 10, 10, 10, 10, 10, 10, 10, 10, 10, 10, 10, 10, 10, 10, 10, 10, 10, 10, 10, 10, 10, 10, 10, 10, 10, 10, 10, 10, 10, 10, 10, 10, 10, 10, 10, 10, 10, 10, 10, 10, 10, 10, 10, 10, 10, 10, 10, 10, 10, 10, 10, 10, 10, 10, 10, 10, 10, 10, 10, 10, 10, 10, 10, 10, 10, 10, 10, 10, 10, 10, 10, 10, 10, 10, 10, 10, 10, 10, 10, 10, 10, 10, 10, 10, 10, 10, 10, 10, 10, 10, 10, 10, 10, 10, 10, 10, 10, 10, 10, 10, 10, 10, 10, 10, 10, 10, 10, 10, 10, 10, 10, 10, 10, 10, 10, 10, 10, 10, 10, 10, 10, 10, 10, 10, 10, 10, 10, 10, 10, 10, 10, 10, 10, 10, 10, 10, 10, 10, 10, 10, 10, 10, 10, 10, 10, 10, 10, 10, 10, 10, 10, 10, 10, 10, 10, 10, 10, 10, 10, 10, 10, 10, 12, 12, 12, 12, 12, 12, 12, 12, 12, 12, 12, 12, 12, 12, 12, 12, 12, 12, 12, 12, 12, 12, 12, 12, 12, 12, 12, 12, 12, 12, 12, 12, 12, 12, 12, 12, 12, 12, 12, 12, 12, 12, 12, 12, 12, 12, 12, 12, 12, 12, 12, 12, 12, 12, 12, 12, 12, 12, 12, 12, 12, 12, 12, 12, 12, 12, 12, 12, 12, 12, 12, 12, 12, 12, 12, 12, 12, 12, 12, 12, 12, 12, 12, 12, 12, 12, 12, 12, 12, 12, 12, 12, 12, 12, 12, 12, 12, 12, 12, 12, 12, 12, 12, 12, 12, 12, 12, 12, 12, 12, 12, 12, 12, 12, 12, 12, 12, 12, 12, 12, 12, 12, 12, 12, 12, 12, 12, 12, 12, 12, 12, 12, 12, 12, 12, 12, 12, 12, 12, 12, 12, 12, 12, 12, 12, 12, 12, 12, 12, 12, 12, 12, 12, 12, 12, 12, 12, 12, 12, 12, 12, 12, 12, 12, 12, 12, 12, 12, 12, 12, 12, 12, 12, 12, 12, 12, 12, 12, 12, 12, 12, 12, 12, 12, 12, 12, 12, 12, 12, 12, 12, 12, 12, 12, 12, 12, 12, 12, 12, 12, 13, 13, 13, 13, 13, 13, 13, 13, 13, 13, 13, 13, 13, 13, 13, 13, 13, 13, 13, 13, 13, 13, 13, 13, 13, 13, 13, 13, 13, 13, 13, 13, 13, 13, 13, 13, 13, 13, 13, 13, 13, 13, 13, 8, 8, 8, 8, 8, 8, 8, 8, 8, 8, 8, 8, 8, 8, 8, 8, 8, 8, 8, 8, 8, 8, 8, 8, 8, 8, 8, 8, 8, 8, 8, 8, 8, 8, 8, 8, 8, 8, 8, 8, 8, 8, 8, 8, 8, 8, 8, 8, 8, 8, 8, 8, 8, 8, 8, 8, 8, 8, 8, 8, 8, 8, 8, 8, 8, 8, 8, 8, 8, 8, 8, 8, 8, 8, 8, 8, 8, 8, 8, 8, 8, 8, 8, 8, 8, 8, 8, 8, 8, 8, 8, 8, 8, 8, 8, 8, 8, 8, 8, 8, 8, 8, 8, 8, 8, 8, 8, 8, 8, 8, 8, 8, 8, 8, 8, 8, 8, 8, 8, 8, 8, 8, 8, 8, 8, 8, 8, 8, 8, 8, 8, 8, 8, 8, 8, 8, 8, 8, 8, 8, 8, 8, 8, 8, 8, 8, 8, 8, 8, 8, 8, 8, 8, 8, 8, 8, 8, 8, 8, 8, 8, 8, 8, 8, 8, 8, 8, 8, 8, 8, 8, 8, 8, 8, 8, 8, 8, 8, 8, 8, 8, 8, 8, 8, 8, 8, 8, 8, 8, 8, 8, 8, 8, 8, 8, 8, 8, 8, 8, 8, 5, 5, 5, 5, 5, 5, 5, 5, 5, 5, 5, 5, 5, 5, 5, 5, 5, 5, 5, 5, 5, 5, 5, 5, 5, 5, 5, 5, 5, 5, 5, 5, 5, 5, 5, 5, 5, 5, 5, 5, 5, 5, 5, 5, 5, 5, 5, 5, 5, 5, 5, 5, 5, 5, 5, 5, 5, 5, 5, 5, 5, 5, 5, 5, 5, 5, 5, 5, 5, 5, 5, 5, 5, 5, 5, 5, 5, 5, 5, 5, 5, 5, 5, 5, 5, 5, 5, 5, 5, 5, 5, 5, 5, 5, 5, 5, 5, 5, 5, 5, 5, 5, 5, 5, 5, 5, 5, 5, 5, 5, 5, 5, 5, 5, 5, 5, 5, 5, 5, 5, 5, 5, 5, 5, 5, 5, 5, 5, 5, 5, 5, 5, 5, 5, 5, 5, 5, 5, 5, 5, 5, 5, 5, 5, 5, 5, 5, 5, 5, 5, 5, 5, 5, 5, 5, 5, 5, 5, 5, 5, 5, 5, 5, 5, 5, 5, 5, 5, 5, 5, 5, 5, 5, 5, 5, 5, 5, 5, 5, 5, 5, 5, 5, 5, 5, 5, 5, 5, 5, 5, 5, 5, 5, 5, 5, 5, 5, 5, 5, 5, 4, 4, 4, 4, 4, 4, 4, 4, 4, 4, 4, 4, 4, 4, 4, 4, 4, 4, 4, 4, 4, 4, 4, 4, 4, 4, 4, 4, 4, 4, 4, 4, 4, 4, 4, 4, 4, 4, 4, 4, 4, 4, 4, 4, 4, 4, 4, 4, 4, 4, 4, 4, 4, 4, 4, 4, 4, 4, 4, 4, 4, 4, 4, 4, 4, 4, 4, 4, 4, 4, 4, 4, 4, 4, 4, 4, 4, 4, 4, 4, 4, 4, 4, 4, 4, 4, 4, 4, 4, 4, 4, 4, 4, 4, 4, 4, 4, 4, 4, 4, 4, 4, 4, 4, 4, 4, 4, 4, 4, 4, 4, 4, 4, 4, 4, 4, 4, 4, 4, 4, 4, 4, 4, 4, 4, 4, 4, 4, 4, 4, 4, 4, 4, 4, 4, 4, 4, 4, 4, 4, 4, 4, 4, 4, 4, 4, 4, 4, 4, 4, 4, 4, 4, 4, 4, 4, 4, 4, 4, 4, 4, 4, 4, 4, 4, 4, 4, 4, 4, 4, 4, 4, 4, 4, 4, 4, 4, 4, 4, 4, 4, 4, 4, 4, 4, 4, 4, 4, 4, 4, 4, 4, 4, 4, 4, 4, 4, 4, 4, 4, 9, 9, 9, 9, 9, 9, 9, 9, 9, 9, 9, 9, 9, 9, 9, 9, 9, 9, 9, 9, 9, 9, 9, 9, 9, 9, 9, 9, 9, 9, 9, 9, 9, 9, 9, 9, 9, 9, 9, 9, 9, 9, 9, 9, 9, 9, 9, 9, 9, 9, 9, 9, 9, 9, 9, 9, 9, 9, 9, 9, 9, 9, 9, 9, 9, 9, 9, 9, 9, 9, 9, 9, 9, 9, 9, 9, 9, 9, 9, 9, 9, 9, 9, 9, 9, 9, 9, 9, 9, 9, 9, 9, 9, 9, 9, 9, 9, 9, 9, 9, 9, 9, 9, 9, 9, 9, 9, 9, 9, 9, 9, 9, 9, 9, 9, 9, 9, 9, 9, 9, 9, 9, 9, 9, 9, 9, 9, 9, 9, 9, 9, 9, 9, 9, 9, 9, 9, 9, 9, 9, 9, 9, 9, 9, 9, 9, 9, 9, 9, 9, 9, 9, 9, 9, 9, 9, 9, 9, 9, 9, 9, 9, 9, 9, 9, 9, 9, 9, 9, 9, 9, 9, 9, 9, 9, 9, 9, 9, 9, 9, 9, 9, 9, 9, 9, 9, 9, 9, 9, 9, 9, 9, 9, 9, 9, 9, 9, 9, 9, 9, 1, 1, 1, 1, 1, 1, 1, 1, 1, 1, 1, 1, 1, 1, 1, 1, 1, 1, 1, 1, 1, 1, 1, 1, 1, 1, 1, 1, 1, 1, 1, 1, 1, 1, 1, 1, 1, 1, 1, 1, 1, 1, 1, 1, 1, 1, 1, 1, 1, 1, 1, 1, 1, 1, 1, 1, 1, 1, 1, 1, 1, 1, 1, 1, 1, 1, 1, 1, 1, 1, 1, 1, 1, 1, 1, 1, 1, 1, 1, 1, 1, 1, 1, 1, 1, 1, 1, 1, 1, 1, 1, 1, 1, 1, 1, 1, 1, 1, 1, 1, 1, 1, 1, 1, 1, 1, 1, 1, 1, 1, 1, 1, 1, 1, 1, 1, 1, 1, 1, 1, 1, 1, 1, 1, 1, 1, 1, 1, 1, 1, 1, 1, 1, 1, 1, 1, 1, 1, 1, 1, 1, 1, 1, 1, 1, 1, 1, 1, 1, 1, 1, 1, 1, 1, 1, 1, 1, 1, 1, 1, 1, 1, 1, 1, 1, 1, 1, 1, 1, 1, 1, 1, 1, 1, 1, 1, 1, 1, 1, 1, 1, 1, 1, 1, 1, 1, 1, 1, 1, 1, 1, 1, 1, 1, 1, 1, 1, 1, 1, 1, 7, 7, 7, 7, 7, 7, 7, 7, 7, 7, 7, 7, 7, 7, 7, 7, 7, 7, 7, 7, 7, 7, 7, 7, 7, 7, 7, 7, 7, 7, 7, 7, 7, 7, 7, 7, 7, 7, 7, 7, 7, 7, 7, 7, 7, 7, 7, 7, 7, 7, 7, 7, 7, 7, 7, 7, 7, 7, 7, 7, 7, 7, 7, 7, 7, 7, 7, 7, 7, 7, 7, 7, 7, 7, 7, 7, 7, 7, 7, 7, 7, 7, 7, 7, 7, 7, 7, 7, 7, 7, 7, 7, 7, 7, 7, 7, 7, 7, 7, 7, 7, 7, 7, 7, 7, 7, 7, 7, 7, 7, 7, 7, 7, 7, 7, 7, 7, 7, 7, 7, 7, 7, 7, 7, 7, 7, 7, 7, 7, 7, 7, 7, 7, 7, 7, 7, 7, 7, 7, 7, 7, 7, 7, 7, 7, 7, 7, 7, 7, 7, 7, 7, 7, 7, 7, 7, 7, 7, 7, 7, 7, 7, 7, 7, 7, 7, 7, 7, 7, 7, 7, 7, 7, 7, 7, 7, 7, 7, 7, 7, 7, 7, 7, 7, 7, 7, 7, 7, 7, 7, 7, 7, 7, 7, 7, 7, 7, 7, 7, 7, 6, 6, 6, 6, 6, 6, 6, 6, 6, 6, 6, 6, 6, 6, 6, 6, 6, 6, 6, 6, 6, 6, 6, 6, 6, 6, 6, 6, 6, 6, 6, 6, 6, 6, 6, 6, 6, 6, 6, 6, 6, 6, 6, 6, 6, 6, 6, 6, 6, 6, 6, 6, 6, 6, 6, 6, 6, 6, 6, 6, 6, 6, 6, 6, 6, 6, 6, 6, 6, 6, 6, 6, 6, 6, 6, 6, 6, 6, 6, 6, 6, 6, 6, 6, 6, 6, 6, 6, 6, 6, 6, 6, 6, 6, 6, 6, 6, 6, 6, 6, 6, 6, 6, 6, 6, 6, 6, 6, 6, 6, 6, 6, 6, 6, 6, 6, 6, 6, 6, 6, 6, 6, 6, 6, 6, 6, 6, 6, 6, 6, 6, 6, 6, 6, 6, 6, 6, 6, 6, 6, 6, 6, 6, 6, 6, 6, 6, 6, 6, 6, 6, 6, 6, 6, 6, 6, 6, 6, 6, 6, 6, 6, 6, 6, 6, 6, 6, 6, 6, 6, 6, 6, 6, 6, 6, 6, 6, 6, 6, 6, 6, 6, 6, 6, 6, 6, 6, 6, 6, 6, 6, 6, 6, 6, 6, 6, 6, 6, 6, 6, 3, 3, 3, 3, 3, 3, 3, 3, 3, 3, 3, 3, 3, 3, 3, 3, 3, 3, 3, 3, 3, 3, 3, 3, 3, 3, 3, 3, 3, 3, 3, 3, 3, 3, 3, 3, 3, 3, 3, 3, 3, 3, 3, 3, 3, 3, 3, 3, 3, 3, 3, 3, 3, 3, 3, 3, 3, 3, 3, 3, 3, 3, 3, 3, 3, 3, 3, 3, 3, 3, 3, 3, 3, 3, 3, 3, 3, 3, 3, 3, 3, 3, 3, 3, 3, 3, 3, 3, 3, 3, 3, 3, 3, 3, 3, 3, 3, 3, 3, 3, 3, 3, 3, 3, 3, 3, 3, 3, 3, 3, 3, 3, 3, 3, 3, 3, 3, 3, 3, 3, 3, 3, 3, 3, 3, 3, 3, 3, 3, 3, 3, 3, 3, 3, 3, 3, 3, 3, 3, 3, 3, 3, 3, 3, 3, 3, 3, 3, 3, 3, 3, 3, 3, 3, 3, 3, 3, 3, 3, 3, 3, 3, 3, 3, 3, 3, 3, 3, 3, 3, 3, 3, 3, 3, 3, 3, 3, 3, 3, 3, 3, 3, 3, 3, 3, 3, 3, 3, 3, 3, 3, 3, 3, 3, 3, 3, 3, 3, 3, 3, 2, 2, 2, 2, 2, 2, 2, 2, 2, 2, 2, 2, 2, 2, 2, 2, 2, 2, 2, 2, 2, 2, 2, 2, 2, 2, 2, 2, 2, 2, 2, 2, 2, 2, 2, 2, 2, 2, 2, 2, 2, 2, 2, 2, 2, 2, 2, 2, 2, 2, 2, 2, 2, 2, 2, 2, 2, 2, 2, 2, 2, 2, 2, 2, 2, 2, 2, 2, 2, 2, 2, 2, 2, 2, 2, 2, 2, 2, 2, 2, 2, 2, 2, 2, 2, 2, 2, 2, 2, 2, 2, 2, 2, 2, 2, 2, 2, 2, 2, 2, 2, 2, 2, 2, 2, 2, 2, 2, 2, 2, 2, 2, 2, 2, 2, 2, 2, 2, 2, 2, 2, 2, 2, 2, 2, 2, 2, 2, 2, 2, 2, 2, 2, 2, 2, 2, 2, 2, 2, 2, 2, 2, 2, 2, 2, 2, 2, 2, 2, 2, 2, 2, 2, 2, 2, 2, 2, 2, 2, 2, 2, 2, 2, 2, 2, 2, 2, 2, 2, 2, 2, 2, 2, 2, 2, 2, 2, 2, 2, 2, 2, 2, 2, 2, 2, 2, 2, 2, 2, 2, 2, 2, 2, 2, 2, 2, 2, 2, 2, 2, 0, 0, 0, 0, 0, 0, 0, 0, 0, 0, 0, 0, 0, 0, 0, 0, 0, 0, 0, 0, 0, 0, 0, 0, 0, 0, 0, 0, 0, 0, 0, 0, 0, 0, 0, 0, 0, 0, 0, 0, 0, 0, 0, 0, 0, 0, 0, 0, 0, 0, 0, 0, 0, 0, 0, 0, 0, 0, 0, 0, 0, 0, 0, 0, 0, 0, 0, 0, 0, 0, 0, 0, 0, 0, 0, 0, 0, 0, 0, 0, 0, 0, 0, 0, 0, 0, 0, 0, 0, 0, 0, 0, 0, 0, 0, 0, 0, 0, 0, 0, 0, 0, 0, 0, 0, 0, 0, 0, 0, 0, 0, 0, 0, 0, 0, 0, 0, 0, 0, 0, 0, 0, 0, 0, 0, 0, 0, 0, 0, 0, 0, 0, 0, 0, 0, 0, 0, 0, 0, 0, 0, 0, 0, 0, 0, 0, 0, 0, 0, 0, 0, 0, 0, 0, 0, 0, 0, 0, 0, 0, 0, 0, 0, 0, 0, 0, 0, 0, 0, 0, 0, 0, 0, 0, 0, 0, 0, 0, 0, 0, 0, 0, 0, 0, 0, 0, 0, 0, 0, 0, 0, 0, 0, 0, 0, 0, 0, 0, 0, 0]"
     ]
    },
    {
     "name": "stdout",
     "output_type": "stream",
     "text": [
      "\n",
      "3000\n"
     ]
    }
   ],
   "source": [
    "train_set = DrivingDataset(data_dir=\"C:/Users/zhaoh/Downloads/FYP/dataset/\", is_train=True,transform=transform) \n",
    "#val_set = DrivingDataset(trn_val_tst=1, transform=torchvision.transforms.ToTensor()) \n",
    "#test_set = DrivingDataset(trn_val_tst=2, transform=torchvision.transforms.ToTensor()) \n"
   ]
  },
  {
   "cell_type": "code",
   "execution_count": 74,
   "metadata": {},
   "outputs": [],
   "source": [
    "batch_size = 50\n",
    "#n_workers = multiprocessing.cpu_count()\n",
    "trainloader = torch.utils.data.DataLoader(train_set, batch_size=batch_size,\n",
    "                                          shuffle=True, num_workers=0)\n",
    "#testloader = torch.utils.data.DataLoader(train_set, batch_size=50,\n",
    "                                          #shuffle=True, num_workers=0)\n",
    "#valloader = torch.utils.data.DataLoader(val_set, batch_size=100,\n",
    "                                          #shuffle=True, num_workers=0)"
   ]
  },
  {
   "cell_type": "code",
   "execution_count": 7,
   "metadata": {},
   "outputs": [
    {
     "data": {
      "text/plain": [
       "'\\ndata=[0,0,0,0,0,0,0,0,0,0,0,0,0,0,0,0]\\nfor i,j in train_set:\\n    if j==0:\\n        data[0]=data[0]+1\\n    if j==1:\\n        data[1]=data[1]+1\\n    if j==2:\\n        data[2]=data[2]+1\\n    if j==3:\\n        data[3]=data[3]+1\\n    if j==4:\\n        data[4]=data[4]+1\\n    if j==5:\\n        data[5]=data[5]+1\\n    if j==6:\\n        data[6]=data[6]+1\\n    if j==7:\\n        data[7]=data[7]+1\\n    if j==8:\\n        data[8]=data[8]+1\\n    if j==9:\\n        data[9]=data[9]+1\\n    if j==10:\\n        data[10]=data[10]+1\\n    if j==11:\\n        data[11]=data[11]+1\\n    if j==12:\\n        data[12]=data[12]+1\\n    if j==13:\\n        data[13]=data[13]+1\\n    if j==14:\\n        data[14]=data[14]+1\\n    if j==44:\\n        data[15]=data[15]+1\\nprint(data)\\n'"
      ]
     },
     "execution_count": 7,
     "metadata": {},
     "output_type": "execute_result"
    }
   ],
   "source": [
    "'''\n",
    "data=[0,0,0,0,0,0,0,0,0,0,0,0,0,0,0,0]\n",
    "for i,j in train_set:\n",
    "    if j==0:\n",
    "        data[0]=data[0]+1\n",
    "    if j==1:\n",
    "        data[1]=data[1]+1\n",
    "    if j==2:\n",
    "        data[2]=data[2]+1\n",
    "    if j==3:\n",
    "        data[3]=data[3]+1\n",
    "    if j==4:\n",
    "        data[4]=data[4]+1\n",
    "    if j==5:\n",
    "        data[5]=data[5]+1\n",
    "    if j==6:\n",
    "        data[6]=data[6]+1\n",
    "    if j==7:\n",
    "        data[7]=data[7]+1\n",
    "    if j==8:\n",
    "        data[8]=data[8]+1\n",
    "    if j==9:\n",
    "        data[9]=data[9]+1\n",
    "    if j==10:\n",
    "        data[10]=data[10]+1\n",
    "    if j==11:\n",
    "        data[11]=data[11]+1\n",
    "    if j==12:\n",
    "        data[12]=data[12]+1\n",
    "    if j==13:\n",
    "        data[13]=data[13]+1\n",
    "    if j==14:\n",
    "        data[14]=data[14]+1\n",
    "    if j==44:\n",
    "        data[15]=data[15]+1\n",
    "print(data)\n",
    "'''"
   ]
  },
  {
   "cell_type": "code",
   "execution_count": 14,
   "metadata": {},
   "outputs": [
    {
     "name": "stdout",
     "output_type": "stream",
     "text": [
      "torch.Size([50, 3, 56, 56])\n",
      "torch.Size([50, 3, 56, 56])\n",
      "torch.Size([50, 3, 56, 56])\n",
      "torch.Size([50, 3, 56, 56])\n",
      "torch.Size([50, 3, 56, 56])\n",
      "torch.Size([50, 3, 56, 56])\n",
      "torch.Size([50, 3, 56, 56])\n",
      "torch.Size([50, 3, 56, 56])\n",
      "torch.Size([50, 3, 56, 56])\n",
      "torch.Size([50, 3, 56, 56])\n",
      "torch.Size([50, 3, 56, 56])\n",
      "torch.Size([50, 3, 56, 56])\n",
      "torch.Size([50, 3, 56, 56])\n",
      "torch.Size([50, 3, 56, 56])\n",
      "torch.Size([50, 3, 56, 56])\n",
      "torch.Size([50, 3, 56, 56])\n",
      "torch.Size([50, 3, 56, 56])\n",
      "torch.Size([50, 3, 56, 56])\n",
      "torch.Size([50, 3, 56, 56])\n",
      "torch.Size([50, 3, 56, 56])\n",
      "torch.Size([50, 3, 56, 56])\n",
      "torch.Size([50, 3, 56, 56])\n",
      "torch.Size([50, 3, 56, 56])\n",
      "torch.Size([50, 3, 56, 56])\n",
      "torch.Size([50, 3, 56, 56])\n",
      "torch.Size([50, 3, 56, 56])\n",
      "torch.Size([50, 3, 56, 56])\n",
      "torch.Size([50, 3, 56, 56])\n",
      "torch.Size([50, 3, 56, 56])\n",
      "torch.Size([50, 3, 56, 56])\n",
      "torch.Size([50, 3, 56, 56])\n",
      "torch.Size([50, 3, 56, 56])\n",
      "torch.Size([50, 3, 56, 56])\n",
      "torch.Size([50, 3, 56, 56])\n",
      "torch.Size([50, 3, 56, 56])\n",
      "torch.Size([50, 3, 56, 56])\n",
      "torch.Size([50, 3, 56, 56])\n",
      "torch.Size([50, 3, 56, 56])\n",
      "torch.Size([50, 3, 56, 56])\n",
      "torch.Size([50, 3, 56, 56])\n",
      "torch.Size([50, 3, 56, 56])\n",
      "torch.Size([50, 3, 56, 56])\n",
      "torch.Size([50, 3, 56, 56])\n",
      "torch.Size([50, 3, 56, 56])\n",
      "torch.Size([50, 3, 56, 56])\n",
      "torch.Size([50, 3, 56, 56])\n",
      "torch.Size([50, 3, 56, 56])\n",
      "torch.Size([50, 3, 56, 56])\n",
      "torch.Size([50, 3, 56, 56])\n",
      "torch.Size([50, 3, 56, 56])\n",
      "torch.Size([50, 3, 56, 56])\n",
      "torch.Size([50, 3, 56, 56])\n",
      "torch.Size([50, 3, 56, 56])\n",
      "torch.Size([50, 3, 56, 56])\n",
      "torch.Size([50, 3, 56, 56])\n",
      "torch.Size([50, 3, 56, 56])\n",
      "torch.Size([50, 3, 56, 56])\n",
      "torch.Size([50, 3, 56, 56])\n",
      "torch.Size([50, 3, 56, 56])\n",
      "torch.Size([50, 3, 56, 56])\n"
     ]
    }
   ],
   "source": [
    "for i,j in trainloader:\n",
    "    print (i.shape)"
   ]
  },
  {
   "cell_type": "code",
   "execution_count": 115,
   "metadata": {},
   "outputs": [],
   "source": [
    "'''\n",
    "for i,j in trainloader:\n",
    "    print (i.shape)\n",
    "\n",
    "\n",
    "X, y = loadlocal_mnist(\n",
    "        images_path='C:/Users/zhaoh/Downloads/FYP/deeplearning new/new-number-identification/train-images.idx3-ubyte', \n",
    "        labels_path='C:/Users/zhaoh/Downloads/FYP/deeplearning new/new-number-identification/train-labels.idx1-ubyte')\n",
    "    '''"
   ]
  },
  {
   "cell_type": "code",
   "execution_count": 82,
   "metadata": {},
   "outputs": [
    {
     "data": {
      "text/plain": [
       "'image_batch, labels = next(iter(trainloader))\\nprint(image_batch[19].shape)'"
      ]
     },
     "execution_count": 82,
     "metadata": {},
     "output_type": "execute_result"
    }
   ],
   "source": [
    "#print (X.shape)\n",
    "'''image_batch, labels = next(iter(trainloader))\n",
    "print(image_batch[19].shape)'''\n"
   ]
  },
  {
   "cell_type": "code",
   "execution_count": 79,
   "metadata": {
    "scrolled": true
   },
   "outputs": [
    {
     "data": {
      "image/png": "[encoded data removed]",
      "text/plain": [
       "<Figure size 432x288 with 1 Axes>"
      ]
     },
     "metadata": {
      "needs_background": "light"
     },
     "output_type": "display_data"
    },
    {
     "data": {
      "image/png": "[encoded data removed]",
      "text/plain": [
       "<Figure size 432x288 with 8 Axes>"
      ]
     },
     "metadata": {
      "needs_background": "light"
     },
     "output_type": "display_data"
    },
    {
     "data": {
      "image/png": "[encoded data removed]",
      "text/plain": [
       "<Figure size 432x288 with 8 Axes>"
      ]
     },
     "metadata": {
      "needs_background": "light"
     },
     "output_type": "display_data"
    },
    {
     "name": "stdout",
     "output_type": "stream",
     "text": [
      "(3, 56, 56)\n"
     ]
    },
    {
     "data": {
      "image/png": "[encoded data removed]",
      "text/plain": [
       "<Figure size 432x288 with 3 Axes>"
      ]
     },
     "metadata": {
      "needs_background": "light"
     },
     "output_type": "display_data"
    }
   ],
   "source": [
    "\n",
    "image_batch,label= next(iter(trainloader))\n",
    "for i in range(20): \n",
    "    img = (image_batch[i].numpy())\n",
    "    plt.subplot(2,4,(i%8+1))\n",
    "    plt.imshow(img[0],cmap = \"gray\")\n",
    "    if i%8==0:\n",
    "        plt.show()\n",
    "    \n",
    "print(img.shape)\n"
   ]
  },
  {
   "cell_type": "code",
   "execution_count": 35,
   "metadata": {},
   "outputs": [],
   "source": [
    "#define the network below\n",
    "####################################\n",
    "#######################################\n",
    "###########################################\n",
    "import torch\n",
    "import torch.nn as nn\n",
    "from torch.hub import load_state_dict_from_url \n",
    "\n",
    "\n",
    "__all__ = ['ResNet', 'resnet18', 'resnet34', 'resnet50', 'resnet101',\n",
    "           'resnet152', 'resnext50_32x4d', 'resnext101_32x8d',\n",
    "           'wide_resnet50_2', 'wide_resnet101_2']\n",
    "\n",
    "\n",
    "model_urls = {\n",
    "    'resnet18': 'https://download.pytorch.org/models/resnet18-5c106cde.pth',\n",
    "    'resnet34': 'https://download.pytorch.org/models/resnet34-333f7ec4.pth',\n",
    "    'resnet50': 'https://download.pytorch.org/models/resnet50-19c8e357.pth',\n",
    "    'resnet101': 'https://download.pytorch.org/models/resnet101-5d3b4d8f.pth',\n",
    "    'resnet152': 'https://download.pytorch.org/models/resnet152-b121ed2d.pth',\n",
    "    'resnext50_32x4d': 'https://download.pytorch.org/models/resnext50_32x4d-7cdf4587.pth',\n",
    "    'resnext101_32x8d': 'https://download.pytorch.org/models/resnext101_32x8d-8ba56ff5.pth',\n",
    "    'wide_resnet50_2': 'https://download.pytorch.org/models/wide_resnet50_2-95faca4d.pth',\n",
    "    'wide_resnet101_2': 'https://download.pytorch.org/models/wide_resnet101_2-32ee1156.pth',\n",
    "}\n",
    "\n",
    "\n",
    "def conv3x3(in_planes, out_planes, stride=1, groups=1, dilation=1):\n",
    "    \"\"\"3x3 convolution with padding\"\"\"\n",
    "    return nn.Conv2d(in_planes, out_planes, kernel_size=3, stride=stride,\n",
    "                     padding=dilation, groups=groups, bias=False, dilation=dilation)\n",
    "\n",
    "\n",
    "def conv1x1(in_planes, out_planes, stride=1):\n",
    "    \"\"\"1x1 convolution\"\"\"\n",
    "    return nn.Conv2d(in_planes, out_planes, kernel_size=1, stride=stride, bias=False)\n",
    "\n",
    "\n",
    "class BasicBlock(nn.Module):\n",
    "    expansion = 1\n",
    "    __constants__ = ['downsample']\n",
    "\n",
    "    def __init__(self, inplanes, planes, stride=1, downsample=None, groups=1,\n",
    "                 base_width=64, dilation=1, norm_layer=None):\n",
    "        super(BasicBlock, self).__init__()\n",
    "        if norm_layer is None:\n",
    "            norm_layer = nn.BatchNorm2d\n",
    "        if groups != 1 or base_width != 64:\n",
    "            raise ValueError('BasicBlock only supports groups=1 and base_width=64')\n",
    "        if dilation > 1:\n",
    "            raise NotImplementedError(\"Dilation > 1 not supported in BasicBlock\")\n",
    "        # Both self.conv1 and self.downsample layers downsample the input when stride != 1\n",
    "        self.conv1 = conv3x3(inplanes, planes, stride)\n",
    "        self.bn1 = norm_layer(planes)\n",
    "        self.relu = nn.ReLU(inplace=True)\n",
    "        self.conv2 = conv3x3(planes, planes)\n",
    "        self.bn2 = norm_layer(planes)\n",
    "        self.downsample = downsample\n",
    "        self.stride = stride\n",
    "\n",
    "    def forward(self, x):\n",
    "        identity = x\n",
    "\n",
    "        out = self.conv1(x)\n",
    "        out = self.bn1(out)\n",
    "        out = self.relu(out)\n",
    "\n",
    "        out = self.conv2(out)\n",
    "        out = self.bn2(out)\n",
    "\n",
    "        if self.downsample is not None:\n",
    "            identity = self.downsample(x)\n",
    "\n",
    "        out += identity\n",
    "        out = self.relu(out)\n",
    "\n",
    "        return out\n",
    "\n",
    "\n",
    "class Bottleneck(nn.Module):\n",
    "    expansion = 4\n",
    "    __constants__ = ['downsample']\n",
    "\n",
    "    def __init__(self, inplanes, planes, stride=1, downsample=None, groups=1,\n",
    "                 base_width=64, dilation=1, norm_layer=None):\n",
    "        super(Bottleneck, self).__init__()\n",
    "        if norm_layer is None:\n",
    "            norm_layer = nn.BatchNorm2d\n",
    "        width = int(planes * (base_width / 64.)) * groups\n",
    "        # Both self.conv2 and self.downsample layers downsample the input when stride != 1\n",
    "        self.conv1 = conv1x1(inplanes, width)\n",
    "        self.bn1 = norm_layer(width)\n",
    "        self.conv2 = conv3x3(width, width, stride, groups, dilation)\n",
    "        self.bn2 = norm_layer(width)\n",
    "        self.conv3 = conv1x1(width, planes * self.expansion)\n",
    "        self.bn3 = norm_layer(planes * self.expansion)\n",
    "        self.relu = nn.ReLU(inplace=True)\n",
    "        self.downsample = downsample\n",
    "        self.stride = stride\n",
    "\n",
    "    def forward(self, x):\n",
    "        identity = x\n",
    "\n",
    "        out = self.conv1(x)\n",
    "        out = self.bn1(out)\n",
    "        out = self.relu(out)\n",
    "\n",
    "        out = self.conv2(out)\n",
    "        out = self.bn2(out)\n",
    "        out = self.relu(out)\n",
    "\n",
    "        out = self.conv3(out)\n",
    "        out = self.bn3(out)\n",
    "\n",
    "        if self.downsample is not None:\n",
    "            identity = self.downsample(x)\n",
    "\n",
    "        out += identity\n",
    "        out = self.relu(out)\n",
    "\n",
    "        return out\n",
    "\n",
    "\n",
    "class ResNet(nn.Module):\n",
    "\n",
    "    def __init__(self, block, layers, num_classes=1000, zero_init_residual=False,\n",
    "                 groups=1, width_per_group=64, replace_stride_with_dilation=None,\n",
    "                 norm_layer=None):\n",
    "        super(ResNet, self).__init__()\n",
    "        if norm_layer is None:\n",
    "            norm_layer = nn.BatchNorm2d\n",
    "        self._norm_layer = norm_layer\n",
    "\n",
    "        self.inplanes = 64\n",
    "        self.dilation = 1\n",
    "        if replace_stride_with_dilation is None:\n",
    "            # each element in the tuple indicates if we should replace\n",
    "            # the 2x2 stride with a dilated convolution instead\n",
    "            replace_stride_with_dilation = [False, False, False]\n",
    "        if len(replace_stride_with_dilation) != 3:\n",
    "            raise ValueError(\"replace_stride_with_dilation should be None \"\n",
    "                             \"or a 3-element tuple, got {}\".format(replace_stride_with_dilation))\n",
    "        self.groups = groups\n",
    "        self.base_width = width_per_group\n",
    "        self.conv1 = nn.Conv2d(3, self.inplanes, kernel_size=7, stride=2, padding=3,\n",
    "                               bias=False)########################################################################use to be 3\n",
    "        self.bn1 = norm_layer(self.inplanes)\n",
    "        self.relu = nn.ReLU(inplace=True)\n",
    "        self.maxpool = nn.MaxPool2d(kernel_size=3, stride=2, padding=1)\n",
    "        self.layer1 = self._make_layer(block, 64, layers[0])\n",
    "        self.layer2 = self._make_layer(block, 128, layers[1], stride=2,\n",
    "                                       dilate=replace_stride_with_dilation[0])\n",
    "        self.layer3 = self._make_layer(block, 256, layers[2], stride=2,\n",
    "                                       dilate=replace_stride_with_dilation[1])\n",
    "        self.layer4 = self._make_layer(block, 512, layers[3], stride=2,\n",
    "                                       dilate=replace_stride_with_dilation[2])\n",
    "        self.avgpool = nn.AdaptiveAvgPool2d((1, 1))\n",
    "        self.fc = nn.Linear(512 * block.expansion, num_classes)\n",
    "\n",
    "        for m in self.modules():\n",
    "            if isinstance(m, nn.Conv2d):\n",
    "                nn.init.kaiming_normal_(m.weight, mode='fan_out', nonlinearity='relu')\n",
    "            elif isinstance(m, (nn.BatchNorm2d, nn.GroupNorm)):\n",
    "                nn.init.constant_(m.weight, 1)\n",
    "                nn.init.constant_(m.bias, 0)\n",
    "\n",
    "        # Zero-initialize the last BN in each residual branch,\n",
    "        # so that the residual branch starts with zeros, and each residual block behaves like an identity.\n",
    "        # This improves the model by 0.2~0.3% according to https://arxiv.org/abs/1706.02677\n",
    "        if zero_init_residual:\n",
    "            for m in self.modules():\n",
    "                if isinstance(m, Bottleneck):\n",
    "                    nn.init.constant_(m.bn3.weight, 0)\n",
    "                elif isinstance(m, BasicBlock):\n",
    "                    nn.init.constant_(m.bn2.weight, 0)\n",
    "\n",
    "    def _make_layer(self, block, planes, blocks, stride=1, dilate=False):\n",
    "        norm_layer = self._norm_layer\n",
    "        downsample = None\n",
    "        previous_dilation = self.dilation\n",
    "        if dilate:\n",
    "            self.dilation *= stride\n",
    "            stride = 1\n",
    "        if stride != 1 or self.inplanes != planes * block.expansion:\n",
    "            downsample = nn.Sequential(\n",
    "                conv1x1(self.inplanes, planes * block.expansion, stride),\n",
    "                norm_layer(planes * block.expansion),\n",
    "            )\n",
    "\n",
    "        layers = []\n",
    "        layers.append(block(self.inplanes, planes, stride, downsample, self.groups,\n",
    "                            self.base_width, previous_dilation, norm_layer))\n",
    "        self.inplanes = planes * block.expansion\n",
    "        for _ in range(1, blocks):\n",
    "            layers.append(block(self.inplanes, planes, groups=self.groups,\n",
    "                                base_width=self.base_width, dilation=self.dilation,\n",
    "                                norm_layer=norm_layer))\n",
    "\n",
    "        return nn.Sequential(*layers)\n",
    "\n",
    "    def _forward(self, x):\n",
    "        x = self.conv1(x)\n",
    "        x = self.bn1(x)\n",
    "        x = self.relu(x)\n",
    "        x = self.maxpool(x)\n",
    "\n",
    "        x = self.layer1(x)\n",
    "        x = self.layer2(x)\n",
    "        x = self.layer3(x)\n",
    "        x = self.layer4(x)\n",
    "\n",
    "        x = self.avgpool(x)\n",
    "        x = torch.flatten(x, 1)\n",
    "        x = self.fc(x)\n",
    "\n",
    "        return x\n",
    "\n",
    "    # Allow for accessing forward method in a inherited class\n",
    "    forward = _forward\n",
    "\n",
    "\n",
    "def _resnet(arch, block, layers, pretrained, progress, **kwargs):\n",
    "    model = ResNet(block, layers, **kwargs)\n",
    "    if pretrained:\n",
    "        state_dict = load_state_dict_from_url(model_urls[arch],\n",
    "                                              progress=progress)\n",
    "        model.load_state_dict(state_dict)\n",
    "    return model\n",
    "\n",
    "\n",
    "\n",
    "\n",
    "\n",
    "def resnet152(pretrained=True, progress=True, **kwargs):\n",
    "    r\"\"\"ResNet-152 model from\n",
    "    `\"Deep Residual Learning for Image Recognition\" <https://arxiv.org/pdf/1512.03385.pdf>`_\n",
    "\n",
    "    Args:\n",
    "        pretrained (bool): If True, returns a model pre-trained on ImageNet\n",
    "        progress (bool): If True, displays a progress bar of the download to stderr\n",
    "    \"\"\"\n",
    "    return _resnet('resnet152', Bottleneck, [3, 8, 36, 3], pretrained, progress,\n",
    "                   **kwargs)\n",
    "\n",
    "def resnet18(pretrained=True, **kwargs):\n",
    "    \"\"\"Constructs a ResNet-18 model.\n",
    "    Args:\n",
    "        pretrained (bool): If True, returns a model pre-trained on ImageNet\n",
    "    \"\"\"\n",
    "    model = ResNet(BasicBlock, [2, 2, 2, 2], **kwargs)\n",
    "    \n",
    "    return model\n",
    "\n",
    "\n"
   ]
  },
  {
   "cell_type": "code",
   "execution_count": 88,
   "metadata": {},
   "outputs": [
    {
     "name": "stdout",
     "output_type": "stream",
     "text": [
      "ResNet(\n",
      "  (conv1): Conv2d(3, 64, kernel_size=(7, 7), stride=(2, 2), padding=(3, 3), bias=False)\n",
      "  (bn1): BatchNorm2d(64, eps=1e-05, momentum=0.1, affine=True, track_running_stats=True)\n",
      "  (relu): ReLU(inplace=True)\n",
      "  (maxpool): MaxPool2d(kernel_size=3, stride=2, padding=1, dilation=1, ceil_mode=False)\n",
      "  (layer1): Sequential(\n",
      "    (0): BasicBlock(\n",
      "      (conv1): Conv2d(64, 64, kernel_size=(3, 3), stride=(1, 1), padding=(1, 1), bias=False)\n",
      "      (bn1): BatchNorm2d(64, eps=1e-05, momentum=0.1, affine=True, track_running_stats=True)\n",
      "      (relu): ReLU(inplace=True)\n",
      "      (conv2): Conv2d(64, 64, kernel_size=(3, 3), stride=(1, 1), padding=(1, 1), bias=False)\n",
      "      (bn2): BatchNorm2d(64, eps=1e-05, momentum=0.1, affine=True, track_running_stats=True)\n",
      "    )\n",
      "    (1): BasicBlock(\n",
      "      (conv1): Conv2d(64, 64, kernel_size=(3, 3), stride=(1, 1), padding=(1, 1), bias=False)\n",
      "      (bn1): BatchNorm2d(64, eps=1e-05, momentum=0.1, affine=True, track_running_stats=True)\n",
      "      (relu): ReLU(inplace=True)\n",
      "      (conv2): Conv2d(64, 64, kernel_size=(3, 3), stride=(1, 1), padding=(1, 1), bias=False)\n",
      "      (bn2): BatchNorm2d(64, eps=1e-05, momentum=0.1, affine=True, track_running_stats=True)\n",
      "    )\n",
      "  )\n",
      "  (layer2): Sequential(\n",
      "    (0): BasicBlock(\n",
      "      (conv1): Conv2d(64, 128, kernel_size=(3, 3), stride=(2, 2), padding=(1, 1), bias=False)\n",
      "      (bn1): BatchNorm2d(128, eps=1e-05, momentum=0.1, affine=True, track_running_stats=True)\n",
      "      (relu): ReLU(inplace=True)\n",
      "      (conv2): Conv2d(128, 128, kernel_size=(3, 3), stride=(1, 1), padding=(1, 1), bias=False)\n",
      "      (bn2): BatchNorm2d(128, eps=1e-05, momentum=0.1, affine=True, track_running_stats=True)\n",
      "      (downsample): Sequential(\n",
      "        (0): Conv2d(64, 128, kernel_size=(1, 1), stride=(2, 2), bias=False)\n",
      "        (1): BatchNorm2d(128, eps=1e-05, momentum=0.1, affine=True, track_running_stats=True)\n",
      "      )\n",
      "    )\n",
      "    (1): BasicBlock(\n",
      "      (conv1): Conv2d(128, 128, kernel_size=(3, 3), stride=(1, 1), padding=(1, 1), bias=False)\n",
      "      (bn1): BatchNorm2d(128, eps=1e-05, momentum=0.1, affine=True, track_running_stats=True)\n",
      "      (relu): ReLU(inplace=True)\n",
      "      (conv2): Conv2d(128, 128, kernel_size=(3, 3), stride=(1, 1), padding=(1, 1), bias=False)\n",
      "      (bn2): BatchNorm2d(128, eps=1e-05, momentum=0.1, affine=True, track_running_stats=True)\n",
      "    )\n",
      "  )\n",
      "  (layer3): Sequential(\n",
      "    (0): BasicBlock(\n",
      "      (conv1): Conv2d(128, 256, kernel_size=(3, 3), stride=(2, 2), padding=(1, 1), bias=False)\n",
      "      (bn1): BatchNorm2d(256, eps=1e-05, momentum=0.1, affine=True, track_running_stats=True)\n",
      "      (relu): ReLU(inplace=True)\n",
      "      (conv2): Conv2d(256, 256, kernel_size=(3, 3), stride=(1, 1), padding=(1, 1), bias=False)\n",
      "      (bn2): BatchNorm2d(256, eps=1e-05, momentum=0.1, affine=True, track_running_stats=True)\n",
      "      (downsample): Sequential(\n",
      "        (0): Conv2d(128, 256, kernel_size=(1, 1), stride=(2, 2), bias=False)\n",
      "        (1): BatchNorm2d(256, eps=1e-05, momentum=0.1, affine=True, track_running_stats=True)\n",
      "      )\n",
      "    )\n",
      "    (1): BasicBlock(\n",
      "      (conv1): Conv2d(256, 256, kernel_size=(3, 3), stride=(1, 1), padding=(1, 1), bias=False)\n",
      "      (bn1): BatchNorm2d(256, eps=1e-05, momentum=0.1, affine=True, track_running_stats=True)\n",
      "      (relu): ReLU(inplace=True)\n",
      "      (conv2): Conv2d(256, 256, kernel_size=(3, 3), stride=(1, 1), padding=(1, 1), bias=False)\n",
      "      (bn2): BatchNorm2d(256, eps=1e-05, momentum=0.1, affine=True, track_running_stats=True)\n",
      "    )\n",
      "  )\n",
      "  (layer4): Sequential(\n",
      "    (0): BasicBlock(\n",
      "      (conv1): Conv2d(256, 512, kernel_size=(3, 3), stride=(2, 2), padding=(1, 1), bias=False)\n",
      "      (bn1): BatchNorm2d(512, eps=1e-05, momentum=0.1, affine=True, track_running_stats=True)\n",
      "      (relu): ReLU(inplace=True)\n",
      "      (conv2): Conv2d(512, 512, kernel_size=(3, 3), stride=(1, 1), padding=(1, 1), bias=False)\n",
      "      (bn2): BatchNorm2d(512, eps=1e-05, momentum=0.1, affine=True, track_running_stats=True)\n",
      "      (downsample): Sequential(\n",
      "        (0): Conv2d(256, 512, kernel_size=(1, 1), stride=(2, 2), bias=False)\n",
      "        (1): BatchNorm2d(512, eps=1e-05, momentum=0.1, affine=True, track_running_stats=True)\n",
      "      )\n",
      "    )\n",
      "    (1): BasicBlock(\n",
      "      (conv1): Conv2d(512, 512, kernel_size=(3, 3), stride=(1, 1), padding=(1, 1), bias=False)\n",
      "      (bn1): BatchNorm2d(512, eps=1e-05, momentum=0.1, affine=True, track_running_stats=True)\n",
      "      (relu): ReLU(inplace=True)\n",
      "      (conv2): Conv2d(512, 512, kernel_size=(3, 3), stride=(1, 1), padding=(1, 1), bias=False)\n",
      "      (bn2): BatchNorm2d(512, eps=1e-05, momentum=0.1, affine=True, track_running_stats=True)\n",
      "    )\n",
      "  )\n",
      "  (avgpool): AdaptiveAvgPool2d(output_size=(1, 1))\n",
      "  (fc): Linear(in_features=512, out_features=1000, bias=True)\n",
      ")\n"
     ]
    }
   ],
   "source": [
    "import torch.optim as optim\n",
    "model = resnet18(pretrained=True)#torch.load('model2.pkl')\n",
    "criterion = nn.CrossEntropyLoss()\n",
    "criterion_hinge=nn.MultiMarginLoss()\n",
    "learning_rate = 1e-4\n",
    "print(model)\n",
    "\n",
    "optimizer = optim.Adam(model.parameters(), lr=1e-3)"
   ]
  },
  {
   "cell_type": "code",
   "execution_count": 38,
   "metadata": {},
   "outputs": [],
   "source": [
    "#features = model.conv1.in_channels\n",
    "\n",
    "#model.conv1 = nn.Conv2d(1, 64, kernel_size=(7, 7), stride=(2, 2), padding=(3, 3), bias=False)"
   ]
  },
  {
   "cell_type": "code",
   "execution_count": 90,
   "metadata": {},
   "outputs": [],
   "source": [
    "def train_epoch(model, train_loader, criterion, optimizer):\n",
    "    model.train()\n",
    "    model.to(device)\n",
    "\n",
    "    running_loss = 0.0\n",
    "    total_predictions = 0.0\n",
    "    correct_predictions = 0.0\n",
    "    \n",
    "    start_time = time.time()\n",
    "    for label,[data, target] in enumerate(train_loader):   \n",
    "        optimizer.zero_grad()\n",
    "        #data=data.reshape(-1,1,56,56)\n",
    "        data = data.float().to(device)\n",
    "        #print(target)\n",
    "        target=target.squeeze(1)\n",
    "        target = target.long().to(device)\n",
    "\n",
    "        outputs = model(data)\n",
    "        loss = criterion(outputs, target)\n",
    "        loss+=criterion_hinge(outputs, target)\n",
    "        running_loss += loss.item()\n",
    "        _, predicted = torch.max(outputs.data, 1)\n",
    "        total_predictions += target.size(0)\n",
    "        correct_predictions += (predicted == target).sum().item()\n",
    "        acc = (correct_predictions/total_predictions)*100.0\n",
    "        loss.backward()\n",
    "        optimizer.step()\n",
    "\n",
    "    end_time = time.time()\n",
    "    \n",
    "    running_loss /= len(train_loader)\n",
    "    print('Training Loss: ', running_loss, 'Time: ',end_time - start_time,' train accuracy',acc)\n",
    "    return running_loss,acc"
   ]
  },
  {
   "cell_type": "code",
   "execution_count": 91,
   "metadata": {},
   "outputs": [],
   "source": [
    "def test_model(model, test_loader, criterion):\n",
    "    with torch.no_grad():\n",
    "        model.eval()\n",
    "        model.to(device)\n",
    "\n",
    "        running_loss = 0.0\n",
    "        total_predictions = 0.0\n",
    "        correct_predictions = 0.0\n",
    "        #Predicted=[]\n",
    "        for data, target in (test_loader):\n",
    "            \n",
    "            data = data.float().to(device)\n",
    "            #print(data.shape)\n",
    "            target=target.squeeze(1)\n",
    "            target = target.long().to(device)\n",
    "            \n",
    "            outputs = model(data)\n",
    "            \n",
    "            _, predicted = torch.max(outputs.data, 1)\n",
    "            #print(predicted.shape)\n",
    "            #Predicted.append(predicted)\n",
    "            total_predictions += target.size(0)\n",
    "            correct_predictions += (predicted == target).sum().item()\n",
    "\n",
    "            loss = criterion(outputs, target).detach()\n",
    "            loss+=criterion_hinge(outputs, target).detach()\n",
    "            running_loss += loss.item()\n",
    "\n",
    "\n",
    "        running_loss /= len(test_loader)\n",
    "        acc = (correct_predictions/total_predictions)*100.0\n",
    "        print('Testing Loss: ', running_loss)\n",
    "        print('Testing Accuracy: ', acc, '%')\n",
    "        return running_loss, acc"
   ]
  },
  {
   "cell_type": "code",
   "execution_count": 92,
   "metadata": {},
   "outputs": [
    {
     "name": "stdout",
     "output_type": "stream",
     "text": [
      "Training Loss:  1.418626686433951 Time:  3.781876564025879  train accuracy 58.63333333333334\n",
      "0 epoch=epoch=epoch=epoch=epoch=epoch=epoch=epoch=epoch=epoch=epoch=epoch=epoch=epoch=epoch=epoch=epoch=epoch=epoch=epoch=\n",
      "Training Loss:  0.44383030086755754 Time:  3.887627124786377  train accuracy 85.7\n",
      "1 epoch=epoch=epoch=epoch=epoch=epoch=epoch=epoch=epoch=epoch=epoch=epoch=epoch=epoch=epoch=epoch=epoch=epoch=epoch=epoch=\n",
      "Training Loss:  0.30534907213101786 Time:  3.7669496536254883  train accuracy 89.96666666666667\n",
      "2 epoch=epoch=epoch=epoch=epoch=epoch=epoch=epoch=epoch=epoch=epoch=epoch=epoch=epoch=epoch=epoch=epoch=epoch=epoch=epoch=\n",
      "Training Loss:  0.25360955223441123 Time:  3.744009017944336  train accuracy 92.26666666666667\n",
      "3 epoch=epoch=epoch=epoch=epoch=epoch=epoch=epoch=epoch=epoch=epoch=epoch=epoch=epoch=epoch=epoch=epoch=epoch=epoch=epoch=\n",
      "Training Loss:  0.19807454987118642 Time:  3.7210628986358643  train accuracy 93.26666666666667\n",
      "4 epoch=epoch=epoch=epoch=epoch=epoch=epoch=epoch=epoch=epoch=epoch=epoch=epoch=epoch=epoch=epoch=epoch=epoch=epoch=epoch=\n",
      "Training Loss:  0.19021693486720323 Time:  3.736032247543335  train accuracy 94.03333333333333\n",
      "5 epoch=epoch=epoch=epoch=epoch=epoch=epoch=epoch=epoch=epoch=epoch=epoch=epoch=epoch=epoch=epoch=epoch=epoch=epoch=epoch=\n",
      "Training Loss:  0.14658679448378584 Time:  3.773930311203003  train accuracy 95.5\n",
      "6 epoch=epoch=epoch=epoch=epoch=epoch=epoch=epoch=epoch=epoch=epoch=epoch=epoch=epoch=epoch=epoch=epoch=epoch=epoch=epoch=\n",
      "Training Loss:  0.1352989632015427 Time:  3.671205520629883  train accuracy 95.96666666666667\n",
      "7 epoch=epoch=epoch=epoch=epoch=epoch=epoch=epoch=epoch=epoch=epoch=epoch=epoch=epoch=epoch=epoch=epoch=epoch=epoch=epoch=\n",
      "Training Loss:  0.1427428341160218 Time:  3.6981332302093506  train accuracy 95.53333333333333\n",
      "8 epoch=epoch=epoch=epoch=epoch=epoch=epoch=epoch=epoch=epoch=epoch=epoch=epoch=epoch=epoch=epoch=epoch=epoch=epoch=epoch=\n",
      "Training Loss:  0.13050596619335314 Time:  3.682166814804077  train accuracy 96.26666666666667\n",
      "9 epoch=epoch=epoch=epoch=epoch=epoch=epoch=epoch=epoch=epoch=epoch=epoch=epoch=epoch=epoch=epoch=epoch=epoch=epoch=epoch=\n"
     ]
    }
   ],
   "source": [
    "n_epochs = 10\n",
    "Train_loss = []\n",
    "Test_loss = []\n",
    "Test_acc = []\n",
    "Val_loss = []\n",
    "Val_acc = []\n",
    "Train_acc=[]\n",
    "for i in range(n_epochs):\n",
    "    train_loss,train_acc = train_epoch(model, trainloader, criterion, optimizer)\n",
    "    #test_loss, test_acc = test_model(model, testloader, criterion)\n",
    "    #val_loss, val_acc = test_model(model, valloader, criterion)\n",
    "    Train_acc.append(train_acc)\n",
    "    Train_loss.append(train_loss)\n",
    "    #Val_acc.append(val_acc)\n",
    "    #Val_loss.append(val_loss)\n",
    "    #Test_loss.append(test_loss)\n",
    "    #Test_acc.append(test_acc)\n",
    "    print(i,'epoch='*20)\n",
    "#test_loss, test_acc = test_model(model, testloader, criterion)"
   ]
  },
  {
   "cell_type": "code",
   "execution_count": 220,
   "metadata": {},
   "outputs": [
    {
     "name": "stdout",
     "output_type": "stream",
     "text": [
      "Testing Loss:  0.2809570661435525\n",
      "Testing Accuracy:  91.77777777777779 %\n"
     ]
    }
   ],
   "source": [
    "test_loss, test_acc = test_model(model, testloader, criterion)"
   ]
  },
  {
   "cell_type": "code",
   "execution_count": 94,
   "metadata": {},
   "outputs": [],
   "source": [
    "#torch.save(model, 'model.pkl')"
   ]
  },
  {
   "cell_type": "code",
   "execution_count": 93,
   "metadata": {},
   "outputs": [
    {
     "name": "stdout",
     "output_type": "stream",
     "text": [
      "(576, 1021, 3)\n"
     ]
    },
    {
     "data": {
      "image/png": "[encoded data removed]",
      "text/plain": [
       "<Figure size 432x288 with 1 Axes>"
      ]
     },
     "metadata": {
      "needs_background": "light"
     },
     "output_type": "display_data"
    }
   ],
   "source": [
    "im = cv2.imread(\"save.jpg\") \n",
    "#im=PIL.ImageOps.invert(im)\n",
    "#image = transforms.ToTensor()(im)  \n",
    "plt.imshow(255-im, cmap = 'gray')\n",
    "#image=image[0]\n",
    "# This method will show image in any image viewer  \n",
    "\n",
    "image=255-im\n",
    "print(image.shape)"
   ]
  },
  {
   "cell_type": "code",
   "execution_count": 82,
   "metadata": {},
   "outputs": [
    {
     "data": {
      "image/png": "[encoded data removed]",
      "text/plain": [
       "<Figure size 432x288 with 1 Axes>"
      ]
     },
     "metadata": {
      "needs_background": "light"
     },
     "output_type": "display_data"
    },
    {
     "data": {
      "image/png": "[encoded data removed]",
      "text/plain": [
       "<Figure size 432x288 with 1 Axes>"
      ]
     },
     "metadata": {
      "needs_background": "light"
     },
     "output_type": "display_data"
    },
    {
     "data": {
      "image/png": "[encoded data removed]",
      "text/plain": [
       "<Figure size 432x288 with 1 Axes>"
      ]
     },
     "metadata": {
      "needs_background": "light"
     },
     "output_type": "display_data"
    },
    {
     "data": {
      "image/png": "[encoded data removed]",
      "text/plain": [
       "<Figure size 432x288 with 1 Axes>"
      ]
     },
     "metadata": {
      "needs_background": "light"
     },
     "output_type": "display_data"
    },
    {
     "data": {
      "image/png": "[encoded data removed]",
      "text/plain": [
       "<Figure size 432x288 with 1 Axes>"
      ]
     },
     "metadata": {
      "needs_background": "light"
     },
     "output_type": "display_data"
    },
    {
     "data": {
      "image/png": "[encoded data removed]",
      "text/plain": [
       "<Figure size 432x288 with 1 Axes>"
      ]
     },
     "metadata": {
      "needs_background": "light"
     },
     "output_type": "display_data"
    },
    {
     "data": {
      "image/png": "[encoded data removed]",
      "text/plain": [
       "<Figure size 432x288 with 1 Axes>"
      ]
     },
     "metadata": {
      "needs_background": "light"
     },
     "output_type": "display_data"
    },
    {
     "data": {
      "image/png": "[encoded data removed]",
      "text/plain": [
       "<Figure size 432x288 with 1 Axes>"
      ]
     },
     "metadata": {
      "needs_background": "light"
     },
     "output_type": "display_data"
    },
    {
     "name": "stdout",
     "output_type": "stream",
     "text": [
      "(220, 150, 3)\n"
     ]
    },
    {
     "data": {
      "text/plain": [
       "True"
      ]
     },
     "execution_count": 82,
     "metadata": {},
     "output_type": "execute_result"
    }
   ],
   "source": [
    "# image shape: torch.Size([576, 1021])\n",
    "cell0=image[200:400,0:100,:]\n",
    "cell1=image[180:400,150:250,:]\n",
    "cell2=image[180:400,300:400,:]\n",
    "cell3=image[180:400,400:550,:]\n",
    "cell4=image[200:400,550:700,:]\n",
    "cell5=image[180:400,700:800,:]\n",
    "cell6=image[130:400,800:900,:]\n",
    "cell7=image[180:400,400:550,:]\n",
    "cell8=image[100:400,100:400,:]\n",
    "\n",
    "'''\n",
    "cell0=transforms.ToPILImage()(cell0)\n",
    "cell1=transforms.ToPILImage()(cell1)\n",
    "cell2=transforms.ToPILImage()(cell2)\n",
    "cell3=transforms.ToPILImage()(cell3)\n",
    "cell4=transforms.ToPILImage()(cell4)\n",
    "cell5=transforms.ToPILImage()(cell5)\n",
    "cell6=transforms.ToPILImage()(cell6)\n",
    "cell7=transforms.ToPILImage()(cell7)\n",
    "'''\n",
    "#print(cell8.shape)\n",
    "'''\n",
    "cell0=ratio_crop(1.0)(cell0)\n",
    "cell1=ratio_crop(1.0)(cell1)\n",
    "cell2=ratio_crop(1.0)(cell2)\n",
    "cell3=ratio_crop(1.0)(cell3)\n",
    "cell4=ratio_crop(1.0)(cell4)\n",
    "cell5=ratio_crop(1.0)(cell5)\n",
    "cell6=ratio_crop(1.0)(cell6)\n",
    "cell7=ratio_crop(1.0)(cell7)\n",
    "\n",
    "print(cell0.dtype)\n",
    "'''\n",
    "'''\n",
    "cell0=cv2.resize(cell0, (56, 56))\n",
    "cell1=cv2.resize(cell1, (56, 56))\n",
    "cell2=cv2.resize(cell2, (56, 56))\n",
    "cell3=cv2.resize(cell3, (56, 56))\n",
    "cell4=cv2.resize(cell4, (56, 56))\n",
    "cell5=cv2.resize(cell5, (56, 56))\n",
    "cell6=cv2.resize(cell6, (56, 56))\n",
    "cell7=cv2.resize(cell7, (56, 56))\n",
    "'''\n",
    "#cell0=transforms.Pad(10, fill=255, padding_mode='constant')(cell0)\n",
    "#plt.subplot(4,4,1)\n",
    "#img = np.moveaxis(cell0.numpy(),0,2)\n",
    "#cell0=cell0.reshape(56,56,3)\n",
    "plt.imshow(cell0)\n",
    "#plt.savefig(\"C:/Users/zhaoh/Downloads/FYP/deeplearning new/new-number-identification/crop/\"+'1.jpg')\n",
    "plt.show()\n",
    "\n",
    "#plt.subplot(4,4,2)\n",
    "plt.imshow(cell1)\n",
    "#plt.savefig(\"C:/Users/zhaoh/Downloads/FYP/deeplearning new/new-number-identification/crop/\"+'2.jpg')\n",
    "plt.show()\n",
    "\n",
    "#plt.subplot(4,4,3)\n",
    "plt.imshow(cell2)\n",
    "#plt.savefig(\"C:/Users/zhaoh/Downloads/FYP/deeplearning new/new-number-identification/crop/\"+'3.jpg')\n",
    "plt.show()\n",
    "#plt.subplot(4,4,4)\n",
    "plt.imshow(cell3)\n",
    "plt.show()\n",
    "#plt.subplot(4,4,1)\n",
    "plt.imshow(cell4)\n",
    "plt.show()\n",
    "#plt.subplot(4,4,2)\n",
    "plt.imshow(cell5)\n",
    "plt.show()\n",
    "#plt.subplot(4,4,3)\n",
    "plt.imshow(cell6)\n",
    "plt.show()\n",
    "#plt.subplot(4,4,4)\n",
    "plt.imshow(cell7)\n",
    "plt.show()\n",
    "\n",
    "\n",
    "print(cell3.shape)\n",
    "cv2.imwrite(\"C:/Users/zhaoh/Downloads/FYP/deeplearning new/new-number-identification/crop/\"+'1.jpg',cell0)\n",
    "cv2.imwrite(\"C:/Users/zhaoh/Downloads/FYP/deeplearning new/new-number-identification/crop/\"+'2.jpg',cell1)\n",
    "cv2.imwrite(\"C:/Users/zhaoh/Downloads/FYP/deeplearning new/new-number-identification/crop/\"+'3.jpg',cell2)\n",
    "cv2.imwrite(\"C:/Users/zhaoh/Downloads/FYP/deeplearning new/new-number-identification/crop/\"+'4.jpg',cell3)\n",
    "cv2.imwrite(\"C:/Users/zhaoh/Downloads/FYP/deeplearning new/new-number-identification/crop/\"+'5.jpg',cell4)\n",
    "cv2.imwrite(\"C:/Users/zhaoh/Downloads/FYP/deeplearning new/new-number-identification/crop/\"+'6.jpg',cell5)\n",
    "cv2.imwrite(\"C:/Users/zhaoh/Downloads/FYP/deeplearning new/new-number-identification/crop/\"+'7.jpg',cell6)\n",
    "cv2.imwrite(\"C:/Users/zhaoh/Downloads/FYP/deeplearning new/new-number-identification/crop/\"+'8.jpg',cell7)"
   ]
  },
  {
   "cell_type": "code",
   "execution_count": 126,
   "metadata": {},
   "outputs": [
    {
     "name": "stdout",
     "output_type": "stream",
     "text": [
      "[0, 0, 0, 0, 0, 0, 0, 0, 0, 0, 0, 0, 0, 0, 0, 0, 0, 0]\n",
      "18\n",
      "torch.Size([5, 3, 56, 56])\n"
     ]
    },
    {
     "data": {
      "image/png": "[encoded data removed]",
      "text/plain": [
       "<Figure size 432x288 with 1 Axes>"
      ]
     },
     "metadata": {
      "needs_background": "light"
     },
     "output_type": "display_data"
    },
    {
     "data": {
      "image/png": "[encoded data removed]",
      "text/plain": [
       "<Figure size 432x288 with 1 Axes>"
      ]
     },
     "metadata": {
      "needs_background": "light"
     },
     "output_type": "display_data"
    },
    {
     "data": {
      "image/png": "[encoded data removed]",
      "text/plain": [
       "<Figure size 432x288 with 1 Axes>"
      ]
     },
     "metadata": {
      "needs_background": "light"
     },
     "output_type": "display_data"
    },
    {
     "data": {
      "image/png": "[encoded data removed]",
      "text/plain": [
       "<Figure size 432x288 with 1 Axes>"
      ]
     },
     "metadata": {
      "needs_background": "light"
     },
     "output_type": "display_data"
    },
    {
     "name": "stdout",
     "output_type": "stream",
     "text": [
      "prediction tensor([13,  0,  2,  3,  7], device='cuda:0')\n",
      "torch.Size([5, 3, 56, 56])\n"
     ]
    },
    {
     "data": {
      "image/png": "[encoded data removed]",
      "text/plain": [
       "<Figure size 432x288 with 1 Axes>"
      ]
     },
     "metadata": {
      "needs_background": "light"
     },
     "output_type": "display_data"
    },
    {
     "data": {
      "image/png": "[encoded data removed]",
      "text/plain": [
       "<Figure size 432x288 with 1 Axes>"
      ]
     },
     "metadata": {
      "needs_background": "light"
     },
     "output_type": "display_data"
    },
    {
     "data": {
      "image/png": "[encoded data removed]",
      "text/plain": [
       "<Figure size 432x288 with 1 Axes>"
      ]
     },
     "metadata": {
      "needs_background": "light"
     },
     "output_type": "display_data"
    },
    {
     "data": {
      "image/png": "[encoded data removed]",
      "text/plain": [
       "<Figure size 432x288 with 1 Axes>"
      ]
     },
     "metadata": {
      "needs_background": "light"
     },
     "output_type": "display_data"
    },
    {
     "name": "stdout",
     "output_type": "stream",
     "text": [
      "prediction tensor([10,  9,  0,  3, 10], device='cuda:0')\n",
      "torch.Size([5, 3, 56, 56])\n"
     ]
    },
    {
     "data": {
      "image/png": "[encoded data removed]",
      "text/plain": [
       "<Figure size 432x288 with 1 Axes>"
      ]
     },
     "metadata": {
      "needs_background": "light"
     },
     "output_type": "display_data"
    },
    {
     "data": {
      "image/png": "[encoded data removed]",
      "text/plain": [
       "<Figure size 432x288 with 1 Axes>"
      ]
     },
     "metadata": {
      "needs_background": "light"
     },
     "output_type": "display_data"
    },
    {
     "data": {
      "image/png": "[encoded data removed]",
      "text/plain": [
       "<Figure size 432x288 with 1 Axes>"
      ]
     },
     "metadata": {
      "needs_background": "light"
     },
     "output_type": "display_data"
    },
    {
     "data": {
      "image/png": "[encoded data removed]",
      "text/plain": [
       "<Figure size 432x288 with 1 Axes>"
      ]
     },
     "metadata": {
      "needs_background": "light"
     },
     "output_type": "display_data"
    },
    {
     "name": "stdout",
     "output_type": "stream",
     "text": [
      "prediction tensor([ 3,  0, 10, 10,  0], device='cuda:0')\n",
      "torch.Size([3, 3, 56, 56])\n"
     ]
    },
    {
     "data": {
      "image/png": "[encoded data removed]",
      "text/plain": [
       "<Figure size 432x288 with 1 Axes>"
      ]
     },
     "metadata": {
      "needs_background": "light"
     },
     "output_type": "display_data"
    },
    {
     "data": {
      "image/png": "[encoded data removed]",
      "text/plain": [
       "<Figure size 432x288 with 1 Axes>"
      ]
     },
     "metadata": {
      "needs_background": "light"
     },
     "output_type": "display_data"
    },
    {
     "data": {
      "image/png": "[encoded data removed]",
      "text/plain": [
       "<Figure size 432x288 with 1 Axes>"
      ]
     },
     "metadata": {
      "needs_background": "light"
     },
     "output_type": "display_data"
    },
    {
     "ename": "IndexError",
     "evalue": "index 3 is out of bounds for dimension 0 with size 3",
     "output_type": "error",
     "traceback": [
      "\u001b[1;31m---------------------------------------------------------------------------\u001b[0m",
      "\u001b[1;31mIndexError\u001b[0m                                Traceback (most recent call last)",
      "\u001b[1;32m<ipython-input-126-eab58cbea23e>\u001b[0m in \u001b[0;36m<module>\u001b[1;34m\u001b[0m\n\u001b[0;32m     19\u001b[0m     \u001b[0mprint\u001b[0m\u001b[1;33m(\u001b[0m\u001b[0mi\u001b[0m\u001b[1;33m.\u001b[0m\u001b[0mshape\u001b[0m\u001b[1;33m)\u001b[0m\u001b[1;33m\u001b[0m\u001b[1;33m\u001b[0m\u001b[0m\n\u001b[0;32m     20\u001b[0m     \u001b[1;32mfor\u001b[0m \u001b[0mk\u001b[0m \u001b[1;32min\u001b[0m \u001b[0mrange\u001b[0m\u001b[1;33m(\u001b[0m\u001b[1;36m4\u001b[0m\u001b[1;33m)\u001b[0m\u001b[1;33m:\u001b[0m\u001b[1;33m\u001b[0m\u001b[1;33m\u001b[0m\u001b[0m\n\u001b[1;32m---> 21\u001b[1;33m         \u001b[0mimg\u001b[0m \u001b[1;33m=\u001b[0m \u001b[0mnp\u001b[0m\u001b[1;33m.\u001b[0m\u001b[0mmoveaxis\u001b[0m\u001b[1;33m(\u001b[0m\u001b[0mi\u001b[0m\u001b[1;33m[\u001b[0m\u001b[0mk\u001b[0m\u001b[1;33m]\u001b[0m\u001b[1;33m.\u001b[0m\u001b[0mnumpy\u001b[0m\u001b[1;33m(\u001b[0m\u001b[1;33m)\u001b[0m\u001b[1;33m,\u001b[0m\u001b[1;36m0\u001b[0m\u001b[1;33m,\u001b[0m\u001b[1;36m2\u001b[0m\u001b[1;33m)\u001b[0m\u001b[1;33m\u001b[0m\u001b[1;33m\u001b[0m\u001b[0m\n\u001b[0m\u001b[0;32m     22\u001b[0m         \u001b[1;31m#print(img.shape)\u001b[0m\u001b[1;33m\u001b[0m\u001b[1;33m\u001b[0m\u001b[1;33m\u001b[0m\u001b[0m\n\u001b[0;32m     23\u001b[0m         \u001b[0mplt\u001b[0m\u001b[1;33m.\u001b[0m\u001b[0mimshow\u001b[0m\u001b[1;33m(\u001b[0m\u001b[0mimg\u001b[0m\u001b[1;33m[\u001b[0m\u001b[1;33m:\u001b[0m\u001b[1;33m,\u001b[0m\u001b[1;33m:\u001b[0m\u001b[1;33m,\u001b[0m\u001b[1;36m0\u001b[0m\u001b[1;33m]\u001b[0m\u001b[1;33m,\u001b[0m\u001b[0mcmap\u001b[0m\u001b[1;33m=\u001b[0m\u001b[1;34m'gray'\u001b[0m\u001b[1;33m)\u001b[0m\u001b[1;33m\u001b[0m\u001b[1;33m\u001b[0m\u001b[0m\n",
      "\u001b[1;31mIndexError\u001b[0m: index 3 is out of bounds for dimension 0 with size 3"
     ]
    }
   ],
   "source": [
    "#\"C:/Users/zhaoh/Downloads/FYP/deeplearning new/new-number-identification/crop/\"\n",
    "#\"C:/Users/zhaoh/Downloads/FYP/dataset/test/\"\n",
    "'''path='C:/Users/zhaoh/Downloads/FYP/dataset/test/'\n",
    "i=0\n",
    "for f in os.listdir(path):\n",
    "    name=os.path.join(path+str(f))\n",
    "    if \"jpg\" in name:\n",
    "        im = cv2.imread(name)\n",
    "        i+=1\n",
    "        flip = 255-im\n",
    "        cv2.imwrite(name,flip)\n",
    "print(i)\n",
    "'''\n",
    "test_set = DrivingDataset(data_dir=\"C:/Users/zhaoh/Downloads/FYP/dataset/test/\", is_train=False,transform=transform)\n",
    "testloader = torch.utils.data.DataLoader(test_set, batch_size=5,\n",
    "                                          shuffle=True, num_workers=0)\n",
    "for i,j in testloader:\n",
    "    #i=255-i\n",
    "    print(i.shape)\n",
    "    for k in range(4):\n",
    "        img = np.moveaxis(i[k].numpy(),0,2)\n",
    "        #print(img.shape)\n",
    "        plt.imshow(img[:,:,0],cmap='gray')\n",
    "        plt.show()\n",
    "    i=i.reshape(-1,3,56,56)\n",
    "    outputs = model(i.to(device))\n",
    "    _, predicted = torch.max(outputs.data, 1)\n",
    "    #outputs = model(cell0.to(device))\n",
    "    #_, predicted = torch.max(outputs.data, 1)\n",
    "    #plt.show()\n",
    "    print(\"prediction\",predicted)"
   ]
  },
  {
   "cell_type": "code",
   "execution_count": null,
   "metadata": {},
   "outputs": [],
   "source": []
  },
  {
   "cell_type": "code",
   "execution_count": 390,
   "metadata": {},
   "outputs": [
    {
     "name": "stdout",
     "output_type": "stream",
     "text": [
      "(200, 100, 3)\n"
     ]
    }
   ],
   "source": [
    "image = io.imread('C:/Users/zhaoh/Downloads/FYP/deeplearning new/new-number-identification/crop/1.jpg')\n",
    "print(image.shape) "
   ]
  },
  {
   "cell_type": "code",
   "execution_count": 187,
   "metadata": {},
   "outputs": [
    {
     "name": "stdout",
     "output_type": "stream",
     "text": [
      "torch.Size([8, 1, 56, 56])\n",
      "prediction tensor([13, 11,  2,  6,  5,  7, 13, 13], device='cuda:0')\n"
     ]
    }
   ],
   "source": [
    "\n",
    "\n",
    "#cell0=cv2.resize(cell0, (56,56))\n",
    "\n",
    "cell0=cell0.reshape(1,56,56)\n",
    "cell1=cell1.reshape(1,56,56)\n",
    "cell2=cell2.reshape(1,56,56)\n",
    "cell3=cell3.reshape(1,56,56)\n",
    "cell4=cell4.reshape(1,56,56)\n",
    "cell5=cell5.reshape(1,56,56)\n",
    "cell6=cell6.reshape(1,56,56)\n",
    "cell7=cell7.reshape(1,56,56)\n",
    "cell0=transforms.ToTensor()(cell0)\n",
    "cell1=transforms.ToTensor()(cell1)\n",
    "cell2=transforms.ToTensor()(cell2)\n",
    "cell3=transforms.ToTensor()(cell3)\n",
    "cell4=transforms.ToTensor()(cell4)\n",
    "cell5=transforms.ToTensor()(cell5)\n",
    "cell6=transforms.ToTensor()(cell6)\n",
    "cell7=transforms.ToTensor()(cell7)\n",
    "totalcell=torch.cat((cell0,cell1,cell2,cell3,cell4,cell5,cell6,cell7),1)\n",
    "totalcell=totalcell.reshape(8,1,56,56)\n",
    "print(totalcell.shape)\n",
    "outputs = model(totalcell.to(device))\n",
    "_, predicted = torch.max(outputs.data, 1)\n",
    "#outputs = model(cell0.to(device))\n",
    "#_, predicted = torch.max(outputs.data, 1)\n",
    "#plt.show()\n",
    "print(\"prediction\",predicted)"
   ]
  },
  {
   "cell_type": "code",
   "execution_count": null,
   "metadata": {},
   "outputs": [],
   "source": []
  },
  {
   "cell_type": "code",
   "execution_count": null,
   "metadata": {},
   "outputs": [],
   "source": []
  },
  {
   "cell_type": "code",
   "execution_count": null,
   "metadata": {},
   "outputs": [],
   "source": []
  }
 ],
 "metadata": {
  "kernelspec": {
   "display_name": "Python 3",
   "language": "python",
   "name": "python3"
  },
  "language_info": {
   "codemirror_mode": {
    "name": "ipython",
    "version": 3
   },
   "file_extension": ".py",
   "mimetype": "text/x-python",
   "name": "python",
   "nbconvert_exporter": "python",
   "pygments_lexer": "ipython3",
   "version": "3.7.3"
  }
 },
 "nbformat": 4,
 "nbformat_minor": 2
}
