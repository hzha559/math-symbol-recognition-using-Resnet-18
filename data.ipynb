{
 "cells": [
  {
   "cell_type": "code",
   "execution_count": 1,
   "metadata": {},
   "outputs": [],
   "source": [
    "import numpy as np\n",
    "from PIL import Image\n",
    "import pickle\n",
    "import matplotlib.pyplot as plt\n",
    "%matplotlib inline\n",
    "import os\n",
    "import cv2\n",
    "from skimage import io\n",
    "import fs\n",
    "import torchvision\n",
    "from torchvision import transforms\n",
    "import torch\n",
    "\n",
    "from torch.utils.data import Dataset, DataLoader\n",
    "import torchvision\n",
    "\n",
    "import multiprocessing\n",
    "\n",
    "import torch.nn as nn\n",
    "cuda = torch.cuda.is_available()\n",
    "import time\n",
    "device = torch.device(\"cuda\" if cuda else \"cpu\")\n",
    "from tqdm import tqdm"
   ]
  },
  {
   "cell_type": "code",
   "execution_count": null,
   "metadata": {},
   "outputs": [],
   "source": [
    "path='C:/Users/zhaoh/Downloads/FYP/dataset/previous train/'#segment the training images from the ipad\n",
    "i=0\n",
    "for f in os.listdir(path):\n",
    "    name=os.path.join(path+str(f))\n",
    "    if \"png\" in name:\n",
    "        im = cv2.imread(name)\n",
    "        plt.imshow(im)\n",
    "        #plt.show()\n",
    "        im1=im[300:435,420:575]#vertical 135,horizontal 155\n",
    "        im2=im[300:435,580:735]\n",
    "        im3=im[300:435,740:895]\n",
    "        im4=im[300:435,900:1055]\n",
    "        im5=im[300:435,1060:1210]\n",
    "        im6=im[300:435,1215:1370]\n",
    "        \n",
    "        im7=im[440:575,420:575]\n",
    "        im8=im[440:575,580:735]\n",
    "        im9=im[440:575,740:895]\n",
    "        im10=im[440:575,900:1055]\n",
    "        im11=im[440:575,1060:1210]\n",
    "        im12=im[440:575,1215:1370]\n",
    "        \n",
    "        im13=im[580:715,420:575]\n",
    "        im14=im[580:715,580:735]\n",
    "        im15=im[580:715,740:895]\n",
    "        im16=im[580:715,900:1055]\n",
    "        im17=im[580:715,1060:1210]\n",
    "        im18=im[580:715,1215:1370]\n",
    "        \n",
    "        im19=im[720:855,420:575]\n",
    "        im20=im[720:855,580:735]\n",
    "        im21=im[720:855,740:895]\n",
    "        im22=im[720:855,900:1055]\n",
    "        im23=im[720:855,1060:1210]\n",
    "        im24=im[720:855,1215:1370]\n",
    "        \n",
    "        im25=im[860:995,420:575]\n",
    "        im26=im[860:995,580:735]\n",
    "        im27=im[860:995,740:895]\n",
    "        im28=im[860:995,900:1055]\n",
    "        im29=im[860:995,1060:1210]\n",
    "        im30=im[860:995,1215:1370]\n",
    "        \n",
    "        im31=im[1000:1140,420:575]\n",
    "        im32=im[1000:1140,580:735]\n",
    "        im33=im[1000:1140,740:895]\n",
    "        im34=im[1000:1140,900:1055]\n",
    "        im35=im[1000:1140,1060:1210]\n",
    "        im36=im[1000:1140,1215:1370]\n",
    "        \n",
    "        im37=im[1145:1280,420:575]\n",
    "        im38=im[1145:1280,580:735]\n",
    "        im39=im[1145:1280,740:895]\n",
    "        im40=im[1145:1280,900:1055]\n",
    "        im41=im[1145:1280,1060:1210]\n",
    "        im42=im[1145:1280,1215:1370]\n",
    "        \n",
    "        im43=im[1285:1420,420:575]\n",
    "        im44=im[1285:1420,580:735]\n",
    "        im45=im[1285:1420,740:895]\n",
    "        im46=im[1285:1420,900:1055]\n",
    "        im47=im[1285:1420,1060:1210]\n",
    "        im48=im[1285:1420,1215:1370]\n",
    "        \n",
    "        im49=im[1425:1560,420:575]\n",
    "        im50=im[1425:1560,580:735]\n",
    "        im51=im[1425:1560,740:895]\n",
    "        im52=im[1425:1560,900:1055]\n",
    "        im53=im[1425:1560,1060:1210]\n",
    "        im54=im[1425:1560,1215:1370]\n",
    "        \n",
    "        im55=im[1980:2117,420:575]\n",
    "        im56=im[1980:2117,580:735]\n",
    "        im57=im[1980:2117,740:895]\n",
    "        im58=im[1980:2117,900:1055]\n",
    "        im59=im[1980:2117,1060:1210]\n",
    "        im60=im[1980:2117,1215:1370]\n",
    "        #im5=im[870:990,420:575]\n",
    "        '''\n",
    "        plt.imshow(im55)\n",
    "        plt.show()\n",
    "        plt.imshow(im56)\n",
    "        plt.show()\n",
    "        plt.imshow(im57)\n",
    "        plt.show()\n",
    "        plt.imshow(im58)\n",
    "        plt.show()\n",
    "        plt.imshow(im59)\n",
    "        plt.show()\n",
    "        plt.imshow(im60)\n",
    "        plt.show()\n",
    "        '''\n",
    "        i+=1\n",
    "        #im=255-im\n",
    "        #flip = cv2.flip(im, 1)\n",
    "        \n",
    "        cv2.imwrite(path+'one/'+str(np.random.randint(100000,size=1).item())+'.jpg',im1)\n",
    "        cv2.imwrite(path+'one/'+str(np.random.randint(100000,size=1).item())+'.jpg',im2)\n",
    "        cv2.imwrite(path+'one/'+str(np.random.randint(100000,size=1).item())+'.jpg',im3)\n",
    "        cv2.imwrite(path+'one/'+str(np.random.randint(100000,size=1).item())+'.jpg',im4)\n",
    "        cv2.imwrite(path+'one/'+str(np.random.randint(100000,size=1).item())+'.jpg',im5)\n",
    "        cv2.imwrite(path+'one/'+str(np.random.randint(100000,size=1).item())+'.jpg',im6)\n",
    "        \n",
    "        cv2.imwrite(path+'two/'+str(np.random.randint(100000,size=1).item())+'.jpg',im7)\n",
    "        cv2.imwrite(path+'two/'+str(np.random.randint(100000,size=1).item())+'.jpg',im8)\n",
    "        cv2.imwrite(path+'two/'+str(np.random.randint(100000,size=1).item())+'.jpg',im9)\n",
    "        cv2.imwrite(path+'two/'+str(np.random.randint(100000,size=1).item())+'.jpg',im10)\n",
    "        cv2.imwrite(path+'two/'+str(np.random.randint(100000,size=1).item())+'.jpg',im11)\n",
    "        cv2.imwrite(path+'two/'+str(np.random.randint(100000,size=1).item())+'.jpg',im12)\n",
    "        \n",
    "        cv2.imwrite(path+'three/'+str(np.random.randint(100000,size=1).item())+'.jpg',im13)\n",
    "        cv2.imwrite(path+'three/'+str(np.random.randint(100000,size=1).item())+'.jpg',im14)\n",
    "        cv2.imwrite(path+'three/'+str(np.random.randint(100000,size=1).item())+'.jpg',im15)\n",
    "        cv2.imwrite(path+'three/'+str(np.random.randint(100000,size=1).item())+'.jpg',im16)\n",
    "        cv2.imwrite(path+'three/'+str(np.random.randint(100000,size=1).item())+'.jpg',im17)\n",
    "        cv2.imwrite(path+'three/'+str(np.random.randint(100000,size=1).item())+'.jpg',im18)\n",
    "        \n",
    "        cv2.imwrite(path+'four/'+str(np.random.randint(100000,size=1).item())+'.jpg',im19)\n",
    "        cv2.imwrite(path+'four/'+str(np.random.randint(100000,size=1).item())+'.jpg',im20)\n",
    "        cv2.imwrite(path+'four/'+str(np.random.randint(100000,size=1).item())+'.jpg',im21)\n",
    "        cv2.imwrite(path+'four/'+str(np.random.randint(100000,size=1).item())+'.jpg',im22)\n",
    "        cv2.imwrite(path+'four/'+str(np.random.randint(100000,size=1).item())+'.jpg',im23)\n",
    "        cv2.imwrite(path+'four/'+str(np.random.randint(100000,size=1).item())+'.jpg',im24)\n",
    "        \n",
    "        cv2.imwrite(path+'five/'+str(np.random.randint(100000,size=1).item())+'.jpg',im25)\n",
    "        cv2.imwrite(path+'five/'+str(np.random.randint(100000,size=1).item())+'.jpg',im26)\n",
    "        cv2.imwrite(path+'five/'+str(np.random.randint(100000,size=1).item())+'.jpg',im27)\n",
    "        cv2.imwrite(path+'five/'+str(np.random.randint(100000,size=1).item())+'.jpg',im28)\n",
    "        cv2.imwrite(path+'five/'+str(np.random.randint(100000,size=1).item())+'.jpg',im29)\n",
    "        cv2.imwrite(path+'five/'+str(np.random.randint(100000,size=1).item())+'.jpg',im30)\n",
    "        \n",
    "        cv2.imwrite(path+'six/'+str(np.random.randint(100000,size=1).item())+'.jpg',im31)\n",
    "        cv2.imwrite(path+'six/'+str(np.random.randint(100000,size=1).item())+'.jpg',im32)\n",
    "        cv2.imwrite(path+'six/'+str(np.random.randint(100000,size=1).item())+'.jpg',im33)\n",
    "        cv2.imwrite(path+'six/'+str(np.random.randint(100000,size=1).item())+'.jpg',im34)\n",
    "        cv2.imwrite(path+'six/'+str(np.random.randint(100000,size=1).item())+'.jpg',im35)\n",
    "        cv2.imwrite(path+'six/'+str(np.random.randint(100000,size=1).item())+'.jpg',im36)\n",
    "        \n",
    "        cv2.imwrite(path+'seven/'+str(np.random.randint(100000,size=1).item())+'.jpg',im37)\n",
    "        cv2.imwrite(path+'seven/'+str(np.random.randint(100000,size=1).item())+'.jpg',im38)\n",
    "        cv2.imwrite(path+'seven/'+str(np.random.randint(100000,size=1).item())+'.jpg',im39)\n",
    "        cv2.imwrite(path+'seven/'+str(np.random.randint(100000,size=1).item())+'.jpg',im40)\n",
    "        cv2.imwrite(path+'seven/'+str(np.random.randint(100000,size=1).item())+'.jpg',im41)\n",
    "        cv2.imwrite(path+'seven/'+str(np.random.randint(100000,size=1).item())+'.jpg',im42)\n",
    "        \n",
    "        cv2.imwrite(path+'eight/'+str(np.random.randint(100000,size=1).item())+'.jpg',im43)\n",
    "        cv2.imwrite(path+'eight/'+str(np.random.randint(100000,size=1).item())+'.jpg',im44)\n",
    "        cv2.imwrite(path+'eight/'+str(np.random.randint(100000,size=1).item())+'.jpg',im45)\n",
    "        cv2.imwrite(path+'eight/'+str(np.random.randint(100000,size=1).item())+'.jpg',im46)\n",
    "        cv2.imwrite(path+'eight/'+str(np.random.randint(100000,size=1).item())+'.jpg',im47)\n",
    "        cv2.imwrite(path+'eight/'+str(np.random.randint(100000,size=1).item())+'.jpg',im48)\n",
    "        \n",
    "        cv2.imwrite(path+'nine/'+str(np.random.randint(100000,size=1).item())+'.jpg',im49)\n",
    "        cv2.imwrite(path+'nine/'+str(np.random.randint(100000,size=1).item())+'.jpg',im50)\n",
    "        cv2.imwrite(path+'nine/'+str(np.random.randint(100000,size=1).item())+'.jpg',im51)\n",
    "        cv2.imwrite(path+'nine/'+str(np.random.randint(100000,size=1).item())+'.jpg',im52)\n",
    "        cv2.imwrite(path+'nine/'+str(np.random.randint(100000,size=1).item())+'.jpg',im53)\n",
    "        cv2.imwrite(path+'nine/'+str(np.random.randint(100000,size=1).item())+'.jpg',im54)\n",
    "        \n",
    "        cv2.imwrite(path+'zero/'+str(np.random.randint(100000,size=1).item())+'.jpg',im55)\n",
    "        cv2.imwrite(path+'zero/'+str(np.random.randint(100000,size=1).item())+'.jpg',im56)\n",
    "        cv2.imwrite(path+'zero/'+str(np.random.randint(100000,size=1).item())+'.jpg',im57)\n",
    "        cv2.imwrite(path+'zero/'+str(np.random.randint(100000,size=1).item())+'.jpg',im58)\n",
    "        cv2.imwrite(path+'zero/'+str(np.random.randint(100000,size=1).item())+'.jpg',im59)\n",
    "        cv2.imwrite(path+'zero/'+str(np.random.randint(100000,size=1).item())+'.jpg',im60)\n",
    "        \n",
    "        \n",
    "print(i)"
   ]
  },
  {
   "cell_type": "code",
   "execution_count": null,
   "metadata": {},
   "outputs": [],
   "source": [
    "path='C:/Users/zhaoh/Downloads/FYP/dataset/previous train/'#segment the training images from the ipad\n",
    "i=0\n",
    "for f in os.listdir(path):\n",
    "    name=os.path.join(path+str(f))\n",
    "    if \"png\" in name:\n",
    "        im = cv2.imread(name)\n",
    "        plt.imshow(im)\n",
    "        plt.show()\n",
    "        im1=im[300:435,420:575]#vertical 135,horizontal 155\n",
    "        im2=im[300:435,580:735]\n",
    "        im3=im[300:435,740:895]\n",
    "        im4=im[300:435,900:1055]\n",
    "        im5=im[300:435,1060:1210]\n",
    "        im6=im[300:435,1215:1370]\n",
    "        \n",
    "        im7=im[440:575,420:575]\n",
    "        im8=im[440:575,580:735]\n",
    "        im9=im[440:575,740:895]\n",
    "        im10=im[440:575,900:1055]\n",
    "        im11=im[440:575,1060:1210]\n",
    "        im12=im[440:575,1215:1370]\n",
    "        \n",
    "        im13=im[580:715,420:575]\n",
    "        im14=im[580:715,580:735]\n",
    "        im15=im[580:715,740:895]\n",
    "        im16=im[580:715,900:1055]\n",
    "        im17=im[580:715,1060:1210]\n",
    "        im18=im[580:715,1215:1370]\n",
    "        \n",
    "        im19=im[720:855,420:575]\n",
    "        im20=im[720:855,580:735]\n",
    "        im21=im[720:855,740:895]\n",
    "        im22=im[720:855,900:1055]\n",
    "        im23=im[720:855,1060:1210]\n",
    "        im24=im[720:855,1215:1370]\n",
    "        \n",
    "        im25=im[860:995,420:575]\n",
    "        im26=im[860:995,580:735]\n",
    "        im27=im[860:995,740:895]\n",
    "        im28=im[860:995,900:1055]\n",
    "        im29=im[860:995,1060:1210]\n",
    "        im30=im[860:995,1215:1370]\n",
    "        \n",
    "        im31=im[1000:1140,420:575]\n",
    "        im32=im[1000:1140,580:735]\n",
    "        im33=im[1000:1140,740:895]\n",
    "        im34=im[1000:1140,900:1055]\n",
    "        im35=im[1000:1140,1060:1210]\n",
    "        im36=im[1000:1140,1215:1370]\n",
    "        \n",
    "        im37=im[1145:1280,420:575]\n",
    "        im38=im[1145:1280,580:735]\n",
    "        im39=im[1145:1280,740:895]\n",
    "        im40=im[1145:1280,900:1055]\n",
    "        im41=im[1145:1280,1060:1210]\n",
    "        im42=im[1145:1280,1215:1370]\n",
    "        \n",
    "        im43=im[1285:1420,420:575]\n",
    "        im44=im[1285:1420,580:735]\n",
    "        im45=im[1285:1420,740:895]\n",
    "        im46=im[1285:1420,900:1055]\n",
    "        im47=im[1285:1420,1060:1210]\n",
    "        im48=im[1285:1420,1215:1370]\n",
    "        \n",
    "        im49=im[1425:1560,420:575]\n",
    "        im50=im[1425:1560,580:735]\n",
    "        im51=im[1425:1560,740:895]\n",
    "        im52=im[1425:1560,900:1055]\n",
    "        im53=im[1425:1560,1060:1210]\n",
    "        im54=im[1425:1560,1215:1370]\n",
    "        \n",
    "        #im5=im[870:990,420:575]\n",
    "        \n",
    "        plt.imshow(im54)\n",
    "        i+=1\n",
    "        #im=255-im\n",
    "        #flip = cv2.flip(im, 1)\n",
    "        \n",
    "        cv2.imwrite(path+'plus/'+str(np.random.randint(10000,size=1).item())+'.jpg',im1)\n",
    "        cv2.imwrite(path+'plus/'+str(np.random.randint(10000,size=1).item())+'.jpg',im7)\n",
    "        cv2.imwrite(path+'plus/'+str(np.random.randint(10000,size=1).item())+'.jpg',im13)\n",
    "        cv2.imwrite(path+'plus/'+str(np.random.randint(10000,size=1).item())+'.jpg',im19)\n",
    "        cv2.imwrite(path+'plus/'+str(np.random.randint(10000,size=1).item())+'.jpg',im25)\n",
    "        cv2.imwrite(path+'plus/'+str(np.random.randint(10000,size=1).item())+'.jpg',im31)\n",
    "        cv2.imwrite(path+'plus/'+str(np.random.randint(10000,size=1).item())+'.jpg',im37)\n",
    "        cv2.imwrite(path+'plus/'+str(np.random.randint(10000,size=1).item())+'.jpg',im43)\n",
    "        cv2.imwrite(path+'plus/'+str(np.random.randint(10000,size=1).item())+'.jpg',im49)\n",
    "        \n",
    "        \n",
    "        cv2.imwrite(path+'minus/'+str(np.random.randint(10000,size=1).item())+'.jpg',im2)\n",
    "        cv2.imwrite(path+'minus/'+str(np.random.randint(10000,size=1).item())+'.jpg',im8)\n",
    "        cv2.imwrite(path+'minus/'+str(np.random.randint(10000,size=1).item())+'.jpg',im14)\n",
    "        cv2.imwrite(path+'minus/'+str(np.random.randint(10000,size=1).item())+'.jpg',im20)\n",
    "        cv2.imwrite(path+'minus/'+str(np.random.randint(10000,size=1).item())+'.jpg',im26)\n",
    "        cv2.imwrite(path+'minus/'+str(np.random.randint(10000,size=1).item())+'.jpg',im32)\n",
    "        cv2.imwrite(path+'minus/'+str(np.random.randint(10000,size=1).item())+'.jpg',im38)\n",
    "        cv2.imwrite(path+'minus/'+str(np.random.randint(10000,size=1).item())+'.jpg',im44)\n",
    "        cv2.imwrite(path+'minus/'+str(np.random.randint(10000,size=1).item())+'.jpg',im50)\n",
    "        \n",
    "        cv2.imwrite(path+'times/'+str(np.random.randint(10000,size=1).item())+'.jpg',im3)\n",
    "        cv2.imwrite(path+'times/'+str(np.random.randint(10000,size=1).item())+'.jpg',im9)\n",
    "        cv2.imwrite(path+'times/'+str(np.random.randint(10000,size=1).item())+'.jpg',im15)\n",
    "        cv2.imwrite(path+'times/'+str(np.random.randint(10000,size=1).item())+'.jpg',im21)\n",
    "        cv2.imwrite(path+'times/'+str(np.random.randint(10000,size=1).item())+'.jpg',im27)\n",
    "        cv2.imwrite(path+'times/'+str(np.random.randint(10000,size=1).item())+'.jpg',im33)\n",
    "        cv2.imwrite(path+'times/'+str(np.random.randint(10000,size=1).item())+'.jpg',im39)\n",
    "        cv2.imwrite(path+'times/'+str(np.random.randint(10000,size=1).item())+'.jpg',im45)\n",
    "        cv2.imwrite(path+'times/'+str(np.random.randint(10000,size=1).item())+'.jpg',im51)\n",
    "        \n",
    "        cv2.imwrite(path+'div/'+str(np.random.randint(10000,size=1).item())+'.jpg',im4)\n",
    "        cv2.imwrite(path+'div/'+str(np.random.randint(10000,size=1).item())+'.jpg',im10)\n",
    "        cv2.imwrite(path+'div/'+str(np.random.randint(10000,size=1).item())+'.jpg',im16)\n",
    "        cv2.imwrite(path+'div/'+str(np.random.randint(10000,size=1).item())+'.jpg',im22)\n",
    "        cv2.imwrite(path+'div/'+str(np.random.randint(10000,size=1).item())+'.jpg',im28)\n",
    "        cv2.imwrite(path+'div/'+str(np.random.randint(10000,size=1).item())+'.jpg',im34)\n",
    "        cv2.imwrite(path+'div/'+str(np.random.randint(10000,size=1).item())+'.jpg',im40)\n",
    "        cv2.imwrite(path+'div/'+str(np.random.randint(10000,size=1).item())+'.jpg',im46)\n",
    "        cv2.imwrite(path+'div/'+str(np.random.randint(10000,size=1).item())+'.jpg',im52)\n",
    "        \n",
    "        cv2.imwrite(path+'equal/'+str(np.random.randint(10000,size=1).item())+'.jpg',im5)\n",
    "        cv2.imwrite(path+'equal/'+str(np.random.randint(10000,size=1).item())+'.jpg',im11)\n",
    "        cv2.imwrite(path+'equal/'+str(np.random.randint(10000,size=1).item())+'.jpg',im17)\n",
    "        cv2.imwrite(path+'equal/'+str(np.random.randint(10000,size=1).item())+'.jpg',im23)\n",
    "        cv2.imwrite(path+'equal/'+str(np.random.randint(10000,size=1).item())+'.jpg',im29)\n",
    "        cv2.imwrite(path+'equal/'+str(np.random.randint(10000,size=1).item())+'.jpg',im35)\n",
    "        cv2.imwrite(path+'equal/'+str(np.random.randint(10000,size=1).item())+'.jpg',im41)\n",
    "        cv2.imwrite(path+'equal/'+str(np.random.randint(10000,size=1).item())+'.jpg',im47)\n",
    "        cv2.imwrite(path+'equal/'+str(np.random.randint(10000,size=1).item())+'.jpg',im53)\n",
    "        '''\n",
    "        cv2.imwrite(path+str(np.random.randint(10000,size=1).item())+'.jpg',im6)\n",
    "        cv2.imwrite(path+str(np.random.randint(10000,size=1).item())+'.jpg',im12)\n",
    "        cv2.imwrite(path+str(np.random.randint(10000,size=1).item())+'.jpg',im18)\n",
    "        cv2.imwrite(path+str(np.random.randint(10000,size=1).item())+'.jpg',im24)\n",
    "        cv2.imwrite(path+str(np.random.randint(10000,size=1).item())+'.jpg',im30)\n",
    "        cv2.imwrite(path+str(np.random.randint(10000,size=1).item())+'.jpg',im36)\n",
    "        cv2.imwrite(path+str(np.random.randint(10000,size=1).item())+'.jpg',im42)\n",
    "        cv2.imwrite(path+str(np.random.randint(10000,size=1).item())+'.jpg',im48)\n",
    "        cv2.imwrite(path+str(np.random.randint(10000,size=1).item())+'.jpg',im54)\n",
    "        '''\n",
    "print(i)"
   ]
  },
  {
   "cell_type": "code",
   "execution_count": null,
   "metadata": {},
   "outputs": [],
   "source": []
  },
  {
   "cell_type": "code",
   "execution_count": null,
   "metadata": {},
   "outputs": [],
   "source": [
    "#invert black and white of MNIST, only do it once\n",
    "'''\n",
    "path='C:/Users/zhaoh/Downloads/FYP/dataset/Mnist/zero/'\n",
    "i=0\n",
    "for f in os.listdir(path):\n",
    "    name=os.path.join(path+str(f))\n",
    "    if \"jpg\" in name:\n",
    "        im = cv2.imread(name)\n",
    "        i+=1\n",
    "        im=255-im#invert the color \n",
    "        \n",
    "        cv2.imwrite(name,im)\n",
    "print(i)#number of images\n",
    "'''"
   ]
  },
  {
   "cell_type": "code",
   "execution_count": 2,
   "metadata": {},
   "outputs": [],
   "source": [
    "#the dataloader object which loads the training images and gives them a label \n",
    "class DrivingDataset(Dataset):\n",
    "    def __init__(self,data_dir, input_w=224, input_h=224,is_train=True,transform=None):\n",
    "        if is_train==False:\n",
    "            threshold=55#use 50 from each class as validation\n",
    "        else:\n",
    "            threshold=450#300 as training\n",
    "        namelist = [0 for i in range(16)]# 15 list to contain images for each class\n",
    "        \n",
    "        self.data_filenames = []\n",
    "        self.data_ids = []\n",
    "        self.is_train=is_train\n",
    "\n",
    "        self.data_root=fs.open_fs(data_dir)\n",
    "        self.transform = transform\n",
    "        keyword=['zero','one','two','three','four','five','six','seven','eight','nine','plus','minus','times','div','equal','decimal']\n",
    "        for p in self.data_root.walk.files(filter=[\"*.jpg\",\"*.png\"]):\n",
    "            filename=data_dir+p\n",
    "            if is_train==True or 1==1:#temporary bug if in training, a label will be given to a training image depending on its folder name\n",
    "                #like all images of 4 is contained in the folder \"four\"\n",
    "                for i,j in enumerate(keyword):\n",
    "                    if j in filename:\n",
    "                        if namelist[i]<threshold:\n",
    "                            self.data_filenames.append(filename)\n",
    "                            self.data_ids.append(i)\n",
    "                            namelist[i]+=1\n",
    "                \n",
    "            else:#if not training, it is not necessary to load a label\n",
    "                self.data_filenames.append(filename)\n",
    "                #self.data_ids.append(0)\n",
    "        \n",
    "        \n",
    "        # print(self.data_filenames)\n",
    "        #print(namelist)\n",
    "        print(len(self.data_filenames))#displays how many images are there in a class\n",
    "\n",
    "\n",
    "    def __getitem__(self, item):\n",
    "        \"\"\"Grey(i, j) = 0.299 × R(i, j) + 0.587 × G(i, j) + 0.114 × B(i, j)\"\"\"\n",
    "\n",
    "        img_path = self.data_filenames[item]\n",
    "        #print(img_path)\n",
    "        target = self.data_ids[item]\n",
    "\n",
    "        image = cv2.imread(img_path)\n",
    "        \n",
    "        if self.transform:\n",
    "            image = self.transform(image)\n",
    "        \n",
    "        target = np.array([target], dtype=np.long)\n",
    "        target = torch.from_numpy(target)\n",
    "        \n",
    "        return image,target\n",
    "\n",
    "    def __len__(self):\n",
    "        return len(self.data_filenames)\n",
    "    "
   ]
  },
  {
   "cell_type": "code",
   "execution_count": 3,
   "metadata": {},
   "outputs": [],
   "source": [
    "#新的transform，通过padding保证不畸变图片,ratio是需要设置的最终图片长宽比\n",
    "class ratio_crop(object):\n",
    "    def __init__(self, ratio=1.0):\n",
    "        self.ratio = ratio\n",
    "    def __call__(self, images):\n",
    "            ratio=1.0\n",
    "            #for img in images:\n",
    "            #print(images.shape)\n",
    "            w=images.shape[1]\n",
    "            h=images.shape[0]\n",
    "            aspect_ratio=float(w)/float(h)\n",
    "            #print(images.shape,aspect_ratio)\n",
    "            if aspect_ratio==ratio:\n",
    "                a=1\n",
    "            elif aspect_ratio>ratio:\n",
    "                dif = np.abs(w  - h)\n",
    "                pad1, pad2 = int(dif // 2), int(dif - dif // 2)\n",
    "                pad = ((0, 0),(pad1, pad2) ,(0, 0))\n",
    "                images = np.pad(images, pad, \"constant\", constant_values=255)\n",
    "                #input_img = cv2.resize(input_x, (inputwidth, inputheight))\n",
    "            else:\n",
    "                # padding w\n",
    "                dif = np.abs(h  - w)\n",
    "                pad1, pad2 = int(dif // 2), int(dif - dif // 2)\n",
    "                pad = ((0, 0),(pad1, pad2),(0, 0))\n",
    "                images = np.pad(images, pad, \"constant\", constant_values=255)\n",
    "                #input_img = cv2.resize(input_x, (inputwidth, inputheight))\n",
    "            return images\n",
    "        \n",
    "transform = transforms.Compose([\n",
    "            ratio_crop(1.0),\n",
    "            transforms.ToPILImage(),\n",
    "            #transforms.Resize((28,28), interpolation=2),\n",
    "            #transforms.Pad(5, fill=255, padding_mode='constant'),\n",
    "            #transforms.RandomResizedCrop(56, scale=(0.9, 1.0)),\n",
    "            transforms.Resize((56,56), interpolation=2),\n",
    "            transforms.ToTensor(),\n",
    "    ]) \n",
    "transform2 = transforms.Compose([\n",
    "            ratio_crop(1.0),\n",
    "            transforms.ToPILImage(),\n",
    "            #transforms.Resize((28,28), interpolation=2),\n",
    "            #transforms.Pad(5, fill=255, padding_mode='constant'),\n",
    "            #transforms.RandomResizedCrop(56, scale=(0.7, 1.0)),\n",
    "            transforms.Resize((56,56), interpolation=2),\n",
    "            transforms.ToTensor(),\n",
    "    ]) \n"
   ]
  },
  {
   "cell_type": "code",
   "execution_count": 4,
   "metadata": {},
   "outputs": [
    {
     "name": "stdout",
     "output_type": "stream",
     "text": [
      "3747\n",
      "868\n",
      "408\n"
     ]
    }
   ],
   "source": [
    "train_set = DrivingDataset(data_dir=\"C:/Users/zhaoh/Downloads/FYP/dataset/previous train/\", is_train=True,transform=transform2) \n",
    "val_set = DrivingDataset(data_dir=\"C:/Users/zhaoh/Downloads/FYP/dataset/eval/\", is_train=False,transform=transform) \n",
    "test_set = DrivingDataset(data_dir=\"C:/Users/zhaoh/Downloads/FYP/dataset/test/\", is_train=False,transform=transform2) \n",
    "\n"
   ]
  },
  {
   "cell_type": "code",
   "execution_count": 5,
   "metadata": {},
   "outputs": [],
   "source": [
    "batch_size = 10\n",
    "\n",
    "trainloader = torch.utils.data.DataLoader(train_set, batch_size=batch_size,\n",
    "                                          shuffle=True, num_workers=0)\n",
    "valloader = torch.utils.data.DataLoader(val_set, batch_size=batch_size,\n",
    "                                          shuffle=True, num_workers=0)\n",
    "testloader = torch.utils.data.DataLoader(test_set, batch_size=batch_size,\n",
    "                                          shuffle=True, num_workers=0)"
   ]
  },
  {
   "cell_type": "code",
   "execution_count": 23,
   "metadata": {
    "scrolled": true
   },
   "outputs": [
    {
     "data": {
      "image/png": "[encoded data removed]",
      "text/plain": [
       "<Figure size 432x288 with 1 Axes>"
      ]
     },
     "metadata": {
      "needs_background": "light"
     },
     "output_type": "display_data"
    },
    {
     "data": {
      "image/png": "[encoded data removed]",
      "text/plain": [
       "<Figure size 432x288 with 8 Axes>"
      ]
     },
     "metadata": {
      "needs_background": "light"
     },
     "output_type": "display_data"
    },
    {
     "ename": "IndexError",
     "evalue": "index 10 is out of bounds for dimension 0 with size 10",
     "output_type": "error",
     "traceback": [
      "\u001b[1;31m---------------------------------------------------------------------------\u001b[0m",
      "\u001b[1;31mIndexError\u001b[0m                                Traceback (most recent call last)",
      "\u001b[1;32m<ipython-input-23-45b63b6b340c>\u001b[0m in \u001b[0;36m<module>\u001b[1;34m\u001b[0m\n\u001b[0;32m      2\u001b[0m \u001b[0mimage_batch\u001b[0m\u001b[1;33m,\u001b[0m\u001b[0mlabel\u001b[0m\u001b[1;33m=\u001b[0m \u001b[0mnext\u001b[0m\u001b[1;33m(\u001b[0m\u001b[0miter\u001b[0m\u001b[1;33m(\u001b[0m\u001b[0mtrainloader\u001b[0m\u001b[1;33m)\u001b[0m\u001b[1;33m)\u001b[0m\u001b[1;33m\u001b[0m\u001b[1;33m\u001b[0m\u001b[0m\n\u001b[0;32m      3\u001b[0m \u001b[1;32mfor\u001b[0m \u001b[0mi\u001b[0m \u001b[1;32min\u001b[0m \u001b[0mrange\u001b[0m\u001b[1;33m(\u001b[0m\u001b[1;36m30\u001b[0m\u001b[1;33m)\u001b[0m\u001b[1;33m:\u001b[0m\u001b[1;33m\u001b[0m\u001b[1;33m\u001b[0m\u001b[0m\n\u001b[1;32m----> 4\u001b[1;33m     \u001b[0mimg\u001b[0m \u001b[1;33m=\u001b[0m \u001b[1;33m(\u001b[0m\u001b[0mimage_batch\u001b[0m\u001b[1;33m[\u001b[0m\u001b[0mi\u001b[0m\u001b[1;33m]\u001b[0m\u001b[1;33m.\u001b[0m\u001b[0mnumpy\u001b[0m\u001b[1;33m(\u001b[0m\u001b[1;33m)\u001b[0m\u001b[1;33m)\u001b[0m\u001b[1;33m\u001b[0m\u001b[1;33m\u001b[0m\u001b[0m\n\u001b[0m\u001b[0;32m      5\u001b[0m     \u001b[0mplt\u001b[0m\u001b[1;33m.\u001b[0m\u001b[0msubplot\u001b[0m\u001b[1;33m(\u001b[0m\u001b[1;36m2\u001b[0m\u001b[1;33m,\u001b[0m\u001b[1;36m4\u001b[0m\u001b[1;33m,\u001b[0m\u001b[1;33m(\u001b[0m\u001b[0mi\u001b[0m\u001b[1;33m%\u001b[0m\u001b[1;36m8\u001b[0m\u001b[1;33m+\u001b[0m\u001b[1;36m1\u001b[0m\u001b[1;33m)\u001b[0m\u001b[1;33m)\u001b[0m\u001b[1;33m\u001b[0m\u001b[1;33m\u001b[0m\u001b[0m\n\u001b[0;32m      6\u001b[0m     \u001b[0mplt\u001b[0m\u001b[1;33m.\u001b[0m\u001b[0mimshow\u001b[0m\u001b[1;33m(\u001b[0m\u001b[0mimg\u001b[0m\u001b[1;33m[\u001b[0m\u001b[1;36m0\u001b[0m\u001b[1;33m]\u001b[0m\u001b[1;33m,\u001b[0m\u001b[0mcmap\u001b[0m \u001b[1;33m=\u001b[0m \u001b[1;34m\"gray\"\u001b[0m\u001b[1;33m)\u001b[0m\u001b[1;33m\u001b[0m\u001b[1;33m\u001b[0m\u001b[0m\n",
      "\u001b[1;31mIndexError\u001b[0m: index 10 is out of bounds for dimension 0 with size 10"
     ]
    },
    {
     "data": {
      "image/png": "[encoded data removed]",
      "text/plain": [
       "<Figure size 432x288 with 1 Axes>"
      ]
     },
     "metadata": {
      "needs_background": "light"
     },
     "output_type": "display_data"
    }
   ],
   "source": [
    "#take a look of training set\n",
    "image_batch,label= next(iter(trainloader))\n",
    "for i in range(30): \n",
    "    img = (image_batch[i].numpy())\n",
    "    plt.subplot(2,4,(i%8+1))\n",
    "    plt.imshow(img[0],cmap = \"gray\")\n",
    "    if i%8==0:\n",
    "        plt.show()\n",
    "    \n",
    "print(img.shape)\n"
   ]
  },
  {
   "cell_type": "code",
   "execution_count": 58,
   "metadata": {},
   "outputs": [],
   "source": [
    "#define the network below\n",
    "####################################\n",
    "#######################################\n",
    "###########################################\n",
    "import torch\n",
    "import torch.nn as nn\n",
    "from torch.hub import load_state_dict_from_url \n",
    "\n",
    "\n",
    "__all__ = ['ResNet', 'resnet18', 'resnet34', 'resnet50', 'resnet101',\n",
    "           'resnet152', 'resnext50_32x4d', 'resnext101_32x8d',\n",
    "           'wide_resnet50_2', 'wide_resnet101_2']\n",
    "\n",
    "\n",
    "model_urls = {\n",
    "    'resnet18': 'https://download.pytorch.org/models/resnet18-5c106cde.pth',\n",
    "    'resnet34': 'https://download.pytorch.org/models/resnet34-333f7ec4.pth',\n",
    "    'resnet50': 'https://download.pytorch.org/models/resnet50-19c8e357.pth',\n",
    "    'resnet101': 'https://download.pytorch.org/models/resnet101-5d3b4d8f.pth',\n",
    "    'resnet152': 'https://download.pytorch.org/models/resnet152-b121ed2d.pth',\n",
    "    'resnext50_32x4d': 'https://download.pytorch.org/models/resnext50_32x4d-7cdf4587.pth',\n",
    "    'resnext101_32x8d': 'https://download.pytorch.org/models/resnext101_32x8d-8ba56ff5.pth',\n",
    "    'wide_resnet50_2': 'https://download.pytorch.org/models/wide_resnet50_2-95faca4d.pth',\n",
    "    'wide_resnet101_2': 'https://download.pytorch.org/models/wide_resnet101_2-32ee1156.pth',\n",
    "}\n",
    "\n",
    "\n",
    "def conv3x3(in_planes, out_planes, stride=1, groups=1, dilation=1):\n",
    "    \"\"\"3x3 convolution with padding\"\"\"\n",
    "    return nn.Conv2d(in_planes, out_planes, kernel_size=3, stride=stride,\n",
    "                     padding=dilation, groups=groups, bias=False, dilation=dilation)\n",
    "\n",
    "\n",
    "def conv1x1(in_planes, out_planes, stride=1):\n",
    "    \"\"\"1x1 convolution\"\"\"\n",
    "    return nn.Conv2d(in_planes, out_planes, kernel_size=1, stride=stride, bias=False)\n",
    "\n",
    "\n",
    "class BasicBlock(nn.Module):\n",
    "    expansion = 1\n",
    "    __constants__ = ['downsample']\n",
    "\n",
    "    def __init__(self, inplanes, planes, stride=1, downsample=None, groups=1,\n",
    "                 base_width=64, dilation=1, norm_layer=None):\n",
    "        super(BasicBlock, self).__init__()\n",
    "        if norm_layer is None:\n",
    "            norm_layer = nn.BatchNorm2d\n",
    "        if groups != 1 or base_width != 64:\n",
    "            raise ValueError('BasicBlock only supports groups=1 and base_width=64')\n",
    "        if dilation > 1:\n",
    "            raise NotImplementedError(\"Dilation > 1 not supported in BasicBlock\")\n",
    "        # Both self.conv1 and self.downsample layers downsample the input when stride != 1\n",
    "        self.conv1 = conv3x3(inplanes, planes, stride)\n",
    "        self.bn1 = norm_layer(planes)\n",
    "        self.relu = nn.ReLU(inplace=True)\n",
    "        self.conv2 = conv3x3(planes, planes)\n",
    "        self.bn2 = norm_layer(planes)\n",
    "        self.downsample = downsample\n",
    "        self.stride = stride\n",
    "\n",
    "    def forward(self, x):\n",
    "        identity = x\n",
    "\n",
    "        out = self.conv1(x)\n",
    "        out = self.bn1(out)\n",
    "        out = self.relu(out)\n",
    "\n",
    "        out = self.conv2(out)\n",
    "        out = self.bn2(out)\n",
    "\n",
    "        if self.downsample is not None:\n",
    "            identity = self.downsample(x)\n",
    "\n",
    "        out += identity\n",
    "        out = self.relu(out)\n",
    "\n",
    "        return out\n",
    "\n",
    "\n",
    "class Bottleneck(nn.Module):\n",
    "    expansion = 4\n",
    "    __constants__ = ['downsample']\n",
    "\n",
    "    def __init__(self, inplanes, planes, stride=1, downsample=None, groups=1,\n",
    "                 base_width=64, dilation=1, norm_layer=None):\n",
    "        super(Bottleneck, self).__init__()\n",
    "        if norm_layer is None:\n",
    "            norm_layer = nn.BatchNorm2d\n",
    "        width = int(planes * (base_width / 64.)) * groups\n",
    "        # Both self.conv2 and self.downsample layers downsample the input when stride != 1\n",
    "        self.conv1 = conv1x1(inplanes, width)\n",
    "        self.bn1 = norm_layer(width)\n",
    "        self.conv2 = conv3x3(width, width, stride, groups, dilation)\n",
    "        self.bn2 = norm_layer(width)\n",
    "        self.conv3 = conv1x1(width, planes * self.expansion)\n",
    "        self.bn3 = norm_layer(planes * self.expansion)\n",
    "        self.relu = nn.ReLU(inplace=True)\n",
    "        self.downsample = downsample\n",
    "        self.stride = stride\n",
    "\n",
    "    def forward(self, x):\n",
    "        identity = x\n",
    "\n",
    "        out = self.conv1(x)\n",
    "        out = self.bn1(out)\n",
    "        out = self.relu(out)\n",
    "\n",
    "        out = self.conv2(out)\n",
    "        out = self.bn2(out)\n",
    "        out = self.relu(out)\n",
    "\n",
    "        out = self.conv3(out)\n",
    "        out = self.bn3(out)\n",
    "\n",
    "        if self.downsample is not None:\n",
    "            identity = self.downsample(x)\n",
    "\n",
    "        out += identity\n",
    "        out = self.relu(out)\n",
    "\n",
    "        return out\n",
    "\n",
    "\n",
    "class ResNet(nn.Module):\n",
    "\n",
    "    def __init__(self, block, layers, num_classes=1000, zero_init_residual=False,\n",
    "                 groups=1, width_per_group=64, replace_stride_with_dilation=None,\n",
    "                 norm_layer=None):\n",
    "        super(ResNet, self).__init__()\n",
    "        if norm_layer is None:\n",
    "            norm_layer = nn.BatchNorm2d\n",
    "        self._norm_layer = norm_layer\n",
    "\n",
    "        self.inplanes = 64\n",
    "        self.dilation = 1\n",
    "        if replace_stride_with_dilation is None:\n",
    "            # each element in the tuple indicates if we should replace\n",
    "            # the 2x2 stride with a dilated convolution instead\n",
    "            replace_stride_with_dilation = [False, False, False]\n",
    "        if len(replace_stride_with_dilation) != 3:\n",
    "            raise ValueError(\"replace_stride_with_dilation should be None \"\n",
    "                             \"or a 3-element tuple, got {}\".format(replace_stride_with_dilation))\n",
    "        self.groups = groups\n",
    "        self.base_width = width_per_group\n",
    "        self.conv1 = nn.Conv2d(3, self.inplanes, kernel_size=7, stride=2, padding=3,\n",
    "                               bias=False)###########################3 input channels\n",
    "        self.bn1 = norm_layer(self.inplanes)\n",
    "        self.relu = nn.ReLU(inplace=True)\n",
    "        self.maxpool = nn.MaxPool2d(kernel_size=3, stride=2, padding=1)\n",
    "        self.layer1 = self._make_layer(block, 64, layers[0])\n",
    "        self.layer2 = self._make_layer(block, 128, layers[1], stride=2,\n",
    "                                       dilate=replace_stride_with_dilation[0])\n",
    "        self.layer3 = self._make_layer(block, 256, layers[2], stride=2,\n",
    "                                       dilate=replace_stride_with_dilation[1])\n",
    "        self.layer4 = self._make_layer(block, 512, layers[3], stride=2,\n",
    "                                       dilate=replace_stride_with_dilation[2])\n",
    "        self.avgpool = nn.AdaptiveAvgPool2d((1, 1))\n",
    "        self.fc = nn.Linear(512 * block.expansion, num_classes)\n",
    "\n",
    "        for m in self.modules():\n",
    "            if isinstance(m, nn.Conv2d):\n",
    "                nn.init.kaiming_normal_(m.weight, mode='fan_out', nonlinearity='relu')\n",
    "            elif isinstance(m, (nn.BatchNorm2d, nn.GroupNorm)):\n",
    "                nn.init.constant_(m.weight, 1)\n",
    "                nn.init.constant_(m.bias, 0)\n",
    "\n",
    "        # Zero-initialize the last BN in each residual branch,\n",
    "        # so that the residual branch starts with zeros, and each residual block behaves like an identity.\n",
    "        # This improves the model by 0.2~0.3% according to https://arxiv.org/abs/1706.02677\n",
    "        if zero_init_residual:\n",
    "            for m in self.modules():\n",
    "                if isinstance(m, Bottleneck):\n",
    "                    nn.init.constant_(m.bn3.weight, 0)\n",
    "                elif isinstance(m, BasicBlock):\n",
    "                    nn.init.constant_(m.bn2.weight, 0)\n",
    "\n",
    "    def _make_layer(self, block, planes, blocks, stride=1, dilate=False):\n",
    "        norm_layer = self._norm_layer\n",
    "        downsample = None\n",
    "        previous_dilation = self.dilation\n",
    "        if dilate:\n",
    "            self.dilation *= stride\n",
    "            stride = 1\n",
    "        if stride != 1 or self.inplanes != planes * block.expansion:\n",
    "            downsample = nn.Sequential(\n",
    "                conv1x1(self.inplanes, planes * block.expansion, stride),\n",
    "                norm_layer(planes * block.expansion),\n",
    "            )\n",
    "\n",
    "        layers = []\n",
    "        layers.append(block(self.inplanes, planes, stride, downsample, self.groups,\n",
    "                            self.base_width, previous_dilation, norm_layer))\n",
    "        self.inplanes = planes * block.expansion\n",
    "        for _ in range(1, blocks):\n",
    "            layers.append(block(self.inplanes, planes, groups=self.groups,\n",
    "                                base_width=self.base_width, dilation=self.dilation,\n",
    "                                norm_layer=norm_layer))\n",
    "\n",
    "        return nn.Sequential(*layers)\n",
    "\n",
    "    def _forward(self, x):\n",
    "        x = self.conv1(x)\n",
    "        x = self.bn1(x)\n",
    "        x = self.relu(x)\n",
    "        x = self.maxpool(x)\n",
    "\n",
    "        x = self.layer1(x)\n",
    "        x = self.layer2(x)\n",
    "        x = self.layer3(x)\n",
    "        x = self.layer4(x)\n",
    "\n",
    "        x = self.avgpool(x)\n",
    "        x = torch.flatten(x, 1)\n",
    "        x = self.fc(x)\n",
    "\n",
    "        return x\n",
    "\n",
    "    # Allow for accessing forward method in a inherited class\n",
    "    forward = _forward\n",
    "\n",
    "\n",
    "def _resnet(arch, block, layers, pretrained, progress, **kwargs):\n",
    "    model = ResNet(block, layers, **kwargs)\n",
    "    if pretrained:\n",
    "        state_dict = load_state_dict_from_url(model_urls[arch],\n",
    "                                              progress=progress)\n",
    "        model.load_state_dict(state_dict)\n",
    "    return model\n",
    "\n",
    "\n",
    "\n",
    "\n",
    "\n",
    "def resnet152(pretrained=True, progress=True, **kwargs):\n",
    "    r\"\"\"ResNet-152 model from\n",
    "    `\"Deep Residual Learning for Image Recognition\" <https://arxiv.org/pdf/1512.03385.pdf>`_\n",
    "\n",
    "    Args:\n",
    "        pretrained (bool): If True, returns a model pre-trained on ImageNet\n",
    "        progress (bool): If True, displays a progress bar of the download to stderr\n",
    "    \"\"\"\n",
    "    return _resnet('resnet152', Bottleneck, [3, 8, 36, 3], pretrained, progress,\n",
    "                   **kwargs)\n",
    "\n",
    "def resnet18(pretrained=True, **kwargs):\n",
    "    \"\"\"Constructs a ResNet-18 model.\n",
    "    Args:\n",
    "        pretrained (bool): If True, returns a model pre-trained on ImageNet\n",
    "    \"\"\"\n",
    "    model = ResNet(BasicBlock, [2, 2, 2, 2], **kwargs)\n",
    "    \n",
    "    return model\n",
    "\n",
    "\n"
   ]
  },
  {
   "cell_type": "code",
   "execution_count": 8,
   "metadata": {},
   "outputs": [],
   "source": [
    "class Simple(nn.Module):\n",
    "    def __init__(self):\n",
    "        super(Simple, self).__init__()\n",
    "        self.conv1 = nn.Sequential(         # input shape (1, 28, 28)\n",
    "            nn.Conv2d(\n",
    "                in_channels=1,              # input height\n",
    "                out_channels=16,            # n_filters\n",
    "                kernel_size=5,              # filter size\n",
    "                stride=1,                   # filter movement/step\n",
    "                padding=2,                  # if want same width and length of this image after con2d, padding=(kernel_size-1)/2 if stride=1\n",
    "            ),                              # output shape (16, 28, 28)\n",
    "            nn.ReLU(),\n",
    "            torch.nn.BatchNorm2d(16),# activation\n",
    "            nn.MaxPool2d(kernel_size=2),    # choose max value in 2x2 area, output shape (16, 14, 14)\n",
    "        )#32\n",
    "        self.conv2 = nn.Sequential(         # input shape (16, 14, 14)\n",
    "            nn.Conv2d(16, 32, 5, 1, 2),     # output shape (32, 14, 14)\n",
    "            nn.ReLU(),\n",
    "            torch.nn.BatchNorm2d(32),# activation\n",
    "            nn.MaxPool2d(2),                # output shape (32, 7, 7)#16\n",
    "        )\n",
    "        self.conv3 = nn.Sequential(         # input shape (16, 14, 14)\n",
    "            nn.Conv2d(32, 32, 5, 1, 2),     # output shape (32, 14, 14)\n",
    "            nn.ReLU(),\n",
    "            torch.nn.BatchNorm2d(32),# activation\n",
    "            nn.MaxPool2d(2),                # output shape (32, 7, 7)#8\n",
    "        )\n",
    "        self.out1 = nn.Sequential(nn.Linear(32 * 7 * 7, 512),\n",
    "            nn.Dropout(0.3)\n",
    "        )\n",
    "        self.out2 = nn.Linear(512, 16)\n",
    "        # fully connected layer, output 10 classes\n",
    " \n",
    "    def forward(self, x):\n",
    "        x = self.conv1(x)\n",
    "        x = self.conv2(x)\n",
    "        x = self.conv3(x)\n",
    "        x = x.view(x.size(0), -1)   \n",
    "        x=self.out1(x)\n",
    "        #print(x.shape)\n",
    "        ## flatten the output of conv2 to (batch_size, 32 * 7 * 7)\n",
    "        output = self.out2(x)\n",
    "        return output   # return x for visualization"
   ]
  },
  {
   "cell_type": "code",
   "execution_count": 78,
   "metadata": {},
   "outputs": [
    {
     "name": "stdout",
     "output_type": "stream",
     "text": [
      "Simple(\n",
      "  (conv1): Sequential(\n",
      "    (0): Conv2d(1, 16, kernel_size=(5, 5), stride=(1, 1), padding=(2, 2))\n",
      "    (1): ReLU()\n",
      "    (2): BatchNorm2d(16, eps=1e-05, momentum=0.1, affine=True, track_running_stats=True)\n",
      "    (3): MaxPool2d(kernel_size=2, stride=2, padding=0, dilation=1, ceil_mode=False)\n",
      "  )\n",
      "  (conv2): Sequential(\n",
      "    (0): Conv2d(16, 32, kernel_size=(5, 5), stride=(1, 1), padding=(2, 2))\n",
      "    (1): ReLU()\n",
      "    (2): BatchNorm2d(32, eps=1e-05, momentum=0.1, affine=True, track_running_stats=True)\n",
      "    (3): MaxPool2d(kernel_size=2, stride=2, padding=0, dilation=1, ceil_mode=False)\n",
      "  )\n",
      "  (conv3): Sequential(\n",
      "    (0): Conv2d(32, 32, kernel_size=(5, 5), stride=(1, 1), padding=(2, 2))\n",
      "    (1): ReLU()\n",
      "    (2): BatchNorm2d(32, eps=1e-05, momentum=0.1, affine=True, track_running_stats=True)\n",
      "    (3): MaxPool2d(kernel_size=2, stride=2, padding=0, dilation=1, ceil_mode=False)\n",
      "  )\n",
      "  (out1): Sequential(\n",
      "    (0): Linear(in_features=1568, out_features=512, bias=True)\n",
      "    (1): Dropout(p=0.3, inplace=False)\n",
      "  )\n",
      "  (out2): Linear(in_features=512, out_features=16, bias=True)\n",
      ")\n"
     ]
    }
   ],
   "source": [
    "import torch.optim as optim\n",
    "\n",
    "model = resnet18(pretrained=False)\n",
    "\n",
    "fc_features = model.fc.in_features\n",
    "#修改类别为9\n",
    "model.fc = nn.Linear(fc_features, 16)\n",
    "features = model.conv1.in_channels\n",
    "\n",
    "#model.conv1 = nn.Conv2d(1, 64, kernel_size=(7, 7), stride=(2, 2), padding=(3, 3), bias=False)#change channels\n",
    "#model.load_state_dict(torch.load('combineddata3.pkl'))#########################\n",
    "#model=torch.load('combineddata3.pkl')\n",
    "#print(model)\n",
    "#model.to(device)\n",
    "model=Simple()\n",
    "#model =visual()\n",
    "print(model)\n",
    "criterion = nn.CrossEntropyLoss()\n",
    "#criterion=nn.MultiMarginLoss()\n",
    "learning_rate = 1e-4\n",
    "#print(model)\n",
    "\n",
    "optimizer = optim.Adam(model.parameters(), lr=learning_rate)"
   ]
  },
  {
   "cell_type": "code",
   "execution_count": 79,
   "metadata": {},
   "outputs": [],
   "source": [
    "def train_epoch(model, train_loader, criterion, optimizer):\n",
    "    model.train()\n",
    "    model.to(device)\n",
    "\n",
    "    running_loss = 0.0\n",
    "    total_predictions = 0.0\n",
    "    correct_predictions = 0.0\n",
    "    \n",
    "    start_time = time.time()\n",
    "    for label,[data, target] in tqdm(enumerate(train_loader)):   \n",
    "        optimizer.zero_grad()\n",
    "        data = data[:,0]\n",
    "        data=data.reshape(-1,1,56,56).float().to(device)#data = data.float().to(device)\n",
    "        #print(target)\n",
    "        target=target.squeeze(1)\n",
    "        target = target.long().to(device)\n",
    "\n",
    "        outputs = model(data)\n",
    "        loss = criterion(outputs, target)\n",
    "        #loss+=criterion_hinge(outputs, target)\n",
    "        running_loss += loss.item()\n",
    "        _, predicted = torch.max(outputs.data, 1)\n",
    "        total_predictions += target.size(0)\n",
    "        correct_predictions += (predicted == target).sum().item()\n",
    "        acc = (correct_predictions/total_predictions)*100.0\n",
    "        loss.backward()\n",
    "        optimizer.step()\n",
    "\n",
    "    end_time = time.time()\n",
    "    \n",
    "    running_loss /= len(train_loader)\n",
    "    print('Training Loss: ', running_loss, 'Time: ',end_time - start_time,' train accuracy',acc)\n",
    "    return running_loss,acc"
   ]
  },
  {
   "cell_type": "code",
   "execution_count": 80,
   "metadata": {},
   "outputs": [],
   "source": [
    "def test_model(model, test_loader, criterion):\n",
    "    with torch.no_grad():\n",
    "        model.eval()\n",
    "        model.to(device)\n",
    "\n",
    "        running_loss = 0.0\n",
    "        total_predictions = 0.0\n",
    "        correct_predictions = 0.0\n",
    "        #Predicted=[]\n",
    "        for data, target in (test_loader):\n",
    "            data = data[:,0]\n",
    "            data=data.reshape(-1,1,56,56).float().to(device)#data = data.float().to(device)\n",
    "            #print(data.shape)\n",
    "            target=target.squeeze(1)\n",
    "            target = target.long().to(device)\n",
    "            \n",
    "            outputs = model(data)\n",
    "            \n",
    "            _, predicted = torch.max(outputs.data, 1)\n",
    "            #print(predicted.shape)\n",
    "            #Predicted.append(predicted)\n",
    "            total_predictions += target.size(0)\n",
    "            correct_predictions += (predicted == target).sum().item()\n",
    "\n",
    "            loss = criterion(outputs, target).detach()\n",
    "            #loss+=criterion_hinge(outputs, target).detach()\n",
    "            running_loss += loss.item()\n",
    "\n",
    "\n",
    "        running_loss /= len(test_loader)\n",
    "        acc = (correct_predictions/total_predictions)*100.0\n",
    "        print('Testing Loss: ', running_loss)\n",
    "        print('Testing Accuracy: ', acc, '%')\n",
    "        return running_loss, acc"
   ]
  },
  {
   "cell_type": "code",
   "execution_count": 84,
   "metadata": {},
   "outputs": [
    {
     "name": "stderr",
     "output_type": "stream",
     "text": [
      "\n",
      "\n",
      "\n",
      "0it [00:00, ?it/s]\n",
      "\n",
      "\n",
      "5it [00:00, 45.74it/s]\n",
      "\n",
      "\n",
      "11it [00:00, 47.81it/s]\n",
      "\n",
      "\n",
      "17it [00:00, 49.98it/s]\n",
      "\n",
      "\n",
      "23it [00:00, 51.48it/s]\n",
      "\n",
      "\n",
      "28it [00:00, 50.79it/s]\n",
      "\n",
      "\n",
      "33it [00:00, 50.32it/s]\n",
      "\n",
      "\n",
      "38it [00:00, 49.86it/s]\n",
      "\n",
      "\n",
      "44it [00:00, 52.04it/s]\n",
      "\n",
      "\n",
      "50it [00:00, 52.33it/s]\n",
      "\n",
      "\n",
      "56it [00:01, 51.86it/s]\n",
      "\n",
      "\n",
      "62it [00:01, 53.14it/s]\n",
      "\n",
      "\n",
      "68it [00:01, 51.76it/s]\n",
      "\n",
      "\n",
      "74it [00:01, 53.21it/s]\n",
      "\n",
      "\n",
      "80it [00:01, 53.28it/s]\n",
      "\n",
      "\n",
      "86it [00:01, 53.20it/s]\n",
      "\n",
      "\n",
      "92it [00:01, 54.84it/s]\n",
      "\n",
      "\n",
      "98it [00:01, 54.71it/s]\n",
      "\n",
      "\n",
      "104it [00:01, 53.20it/s]\n",
      "\n",
      "\n",
      "110it [00:02, 52.73it/s]\n",
      "\n",
      "\n",
      "116it [00:02, 52.41it/s]\n",
      "\n",
      "\n",
      "122it [00:02, 53.54it/s]\n",
      "\n",
      "\n",
      "128it [00:02, 53.80it/s]\n",
      "\n",
      "\n",
      "134it [00:02, 53.14it/s]\n",
      "\n",
      "\n",
      "140it [00:02, 53.94it/s]\n",
      "\n",
      "\n",
      "146it [00:02, 53.23it/s]\n",
      "\n",
      "\n",
      "152it [00:02, 52.08it/s]\n",
      "\n",
      "\n",
      "158it [00:02, 53.44it/s]\n",
      "\n",
      "\n",
      "164it [00:03, 54.59it/s]\n",
      "\n",
      "\n",
      "170it [00:03, 55.42it/s]\n",
      "\n",
      "\n",
      "176it [00:03, 56.48it/s]\n",
      "\n",
      "\n",
      "182it [00:03, 55.69it/s]\n",
      "\n",
      "\n",
      "188it [00:03, 56.51it/s]\n",
      "\n",
      "\n",
      "194it [00:03, 55.86it/s]\n",
      "\n",
      "\n",
      "200it [00:03, 54.68it/s]\n",
      "\n",
      "\n",
      "206it [00:03, 52.49it/s]\n",
      "\n",
      "\n",
      "212it [00:03, 52.11it/s]\n",
      "\n",
      "\n",
      "218it [00:04, 53.05it/s]\n",
      "\n",
      "\n",
      "224it [00:04, 50.92it/s]\n",
      "\n",
      "\n",
      "230it [00:04, 52.45it/s]\n",
      "\n",
      "\n",
      "236it [00:04, 51.43it/s]\n",
      "\n",
      "\n",
      "242it [00:04, 50.36it/s]\n",
      "\n",
      "\n",
      "248it [00:04, 51.64it/s]\n",
      "\n",
      "\n",
      "254it [00:04, 50.37it/s]\n",
      "\n",
      "\n",
      "260it [00:04, 51.78it/s]\n",
      "\n",
      "\n",
      "266it [00:05, 51.48it/s]\n",
      "\n",
      "\n",
      "272it [00:05, 51.67it/s]\n",
      "\n",
      "\n",
      "278it [00:05, 53.00it/s]\n",
      "\n",
      "\n",
      "285it [00:05, 54.99it/s]\n",
      "\n",
      "\n",
      "291it [00:05, 53.95it/s]\n",
      "\n",
      "\n",
      "297it [00:05, 53.10it/s]\n",
      "\n",
      "\n",
      "303it [00:05, 52.94it/s]\n",
      "\n",
      "\n",
      "309it [00:05, 53.50it/s]\n",
      "\n",
      "\n",
      "315it [00:05, 54.63it/s]\n",
      "\n",
      "\n",
      "321it [00:06, 54.42it/s]\n",
      "\n",
      "\n",
      "327it [00:06, 52.33it/s]\n",
      "\n",
      "\n",
      "333it [00:06, 51.87it/s]\n",
      "\n",
      "\n",
      "339it [00:06, 52.47it/s]\n",
      "\n",
      "\n",
      "345it [00:06, 52.09it/s]\n",
      "\n",
      "\n",
      "351it [00:06, 51.70it/s]\n",
      "\n",
      "\n",
      "357it [00:06, 53.16it/s]\n",
      "\n",
      "\n",
      "363it [00:06, 53.11it/s]\n",
      "\n",
      "\n",
      "369it [00:06, 52.13it/s]\n",
      "\n",
      "\n",
      "375it [00:07, 52.99it/s]\n"
     ]
    },
    {
     "name": "stdout",
     "output_type": "stream",
     "text": [
      "Training Loss:  0.1646619874853641 Time:  7.079907655715942  train accuracy 95.56978916466507\n",
      "Testing Loss:  0.35556403154657146\n",
      "Testing Accuracy:  89.28571428571429 %\n",
      "Testing Loss:  0.34323168000796944\n",
      "Testing Accuracy:  89.70588235294117 %\n",
      "0 epoch=epoch=epoch=epoch=epoch=epoch=epoch=epoch=epoch=epoch=epoch=epoch=epoch=epoch=epoch=epoch=epoch=epoch=epoch=epoch=\n"
     ]
    },
    {
     "name": "stderr",
     "output_type": "stream",
     "text": [
      "\n",
      "\n",
      "\n",
      "0it [00:00, ?it/s]\n",
      "\n",
      "\n",
      "7it [00:00, 57.37it/s]\n",
      "\n",
      "\n",
      "12it [00:00, 53.98it/s]\n",
      "\n",
      "\n",
      "18it [00:00, 53.26it/s]\n",
      "\n",
      "\n",
      "25it [00:00, 55.32it/s]\n",
      "\n",
      "\n",
      "31it [00:00, 56.40it/s]\n",
      "\n",
      "\n",
      "37it [00:00, 56.87it/s]\n",
      "\n",
      "\n",
      "43it [00:00, 57.36it/s]\n",
      "\n",
      "\n",
      "49it [00:00, 54.64it/s]\n",
      "\n",
      "\n",
      "55it [00:01, 52.20it/s]\n",
      "\n",
      "\n",
      "61it [00:01, 50.75it/s]\n",
      "\n",
      "\n",
      "66it [00:01, 50.29it/s]\n",
      "\n",
      "\n",
      "71it [00:01, 49.26it/s]\n",
      "\n",
      "\n",
      "77it [00:01, 50.82it/s]\n",
      "\n",
      "\n",
      "83it [00:01, 52.78it/s]\n",
      "\n",
      "\n",
      "89it [00:01, 53.40it/s]\n",
      "\n",
      "\n",
      "95it [00:01, 53.14it/s]\n",
      "\n",
      "\n",
      "101it [00:01, 54.65it/s]\n",
      "\n",
      "\n",
      "107it [00:01, 55.76it/s]\n",
      "\n",
      "\n",
      "113it [00:02, 54.76it/s]\n",
      "\n",
      "\n",
      "120it [00:02, 56.04it/s]\n",
      "\n",
      "\n",
      "126it [00:02, 53.37it/s]\n",
      "\n",
      "\n",
      "132it [00:02, 53.26it/s]\n",
      "\n",
      "\n",
      "138it [00:02, 54.30it/s]\n",
      "\n",
      "\n",
      "144it [00:02, 54.63it/s]\n",
      "\n",
      "\n",
      "150it [00:02, 55.30it/s]\n",
      "\n",
      "\n",
      "157it [00:02, 57.10it/s]\n",
      "\n",
      "\n",
      "163it [00:03, 55.96it/s]\n",
      "\n",
      "\n",
      "169it [00:03, 56.71it/s]\n",
      "\n",
      "\n",
      "175it [00:03, 57.57it/s]\n",
      "\n",
      "\n",
      "181it [00:03, 57.86it/s]\n",
      "\n",
      "\n",
      "187it [00:03, 58.40it/s]\n",
      "\n",
      "\n",
      "193it [00:03, 56.19it/s]\n",
      "\n",
      "\n",
      "199it [00:03, 55.20it/s]\n",
      "\n",
      "\n",
      "205it [00:03, 54.23it/s]\n",
      "\n",
      "\n",
      "211it [00:03, 53.16it/s]\n",
      "\n",
      "\n",
      "217it [00:03, 52.69it/s]\n",
      "\n",
      "\n",
      "223it [00:04, 54.18it/s]\n",
      "\n",
      "\n",
      "229it [00:04, 53.54it/s]\n",
      "\n",
      "\n",
      "235it [00:04, 53.10it/s]\n",
      "\n",
      "\n",
      "241it [00:04, 52.80it/s]\n",
      "\n",
      "\n",
      "247it [00:04, 53.97it/s]\n",
      "\n",
      "\n",
      "253it [00:04, 52.44it/s]\n",
      "\n",
      "\n",
      "259it [00:04, 52.47it/s]\n",
      "\n",
      "\n",
      "265it [00:04, 48.86it/s]\n",
      "\n",
      "\n",
      "270it [00:05, 48.29it/s]\n",
      "\n",
      "\n",
      "275it [00:05, 47.23it/s]\n",
      "\n",
      "\n",
      "280it [00:05, 46.52it/s]\n",
      "\n",
      "\n",
      "285it [00:05, 45.30it/s]\n",
      "\n",
      "\n",
      "290it [00:05, 45.80it/s]\n",
      "\n",
      "\n",
      "295it [00:05, 45.66it/s]"
     ]
    },
    {
     "ename": "KeyboardInterrupt",
     "evalue": "",
     "output_type": "error",
     "traceback": [
      "\u001b[1;31m---------------------------------------------------------------------------\u001b[0m",
      "\u001b[1;31mKeyboardInterrupt\u001b[0m                         Traceback (most recent call last)",
      "\u001b[1;32m<ipython-input-84-3e453161f3e6>\u001b[0m in \u001b[0;36m<module>\u001b[1;34m\u001b[0m\n\u001b[0;32m     11\u001b[0m         \u001b[1;32mfor\u001b[0m \u001b[0mparam_group\u001b[0m \u001b[1;32min\u001b[0m \u001b[0moptimizer\u001b[0m\u001b[1;33m.\u001b[0m\u001b[0mparam_groups\u001b[0m\u001b[1;33m:\u001b[0m\u001b[1;33m\u001b[0m\u001b[1;33m\u001b[0m\u001b[0m\n\u001b[0;32m     12\u001b[0m             \u001b[0mparam_group\u001b[0m\u001b[1;33m[\u001b[0m\u001b[1;34m'lr'\u001b[0m\u001b[1;33m]\u001b[0m \u001b[1;33m=\u001b[0m \u001b[1;36m1e-5\u001b[0m\u001b[1;33m\u001b[0m\u001b[1;33m\u001b[0m\u001b[0m\n\u001b[1;32m---> 13\u001b[1;33m     \u001b[0mtrain_loss\u001b[0m\u001b[1;33m,\u001b[0m\u001b[0mtrain_acc\u001b[0m \u001b[1;33m=\u001b[0m \u001b[0mtrain_epoch\u001b[0m\u001b[1;33m(\u001b[0m\u001b[0mmodel\u001b[0m\u001b[1;33m,\u001b[0m \u001b[0mtrainloader\u001b[0m\u001b[1;33m,\u001b[0m \u001b[0mcriterion\u001b[0m\u001b[1;33m,\u001b[0m \u001b[0moptimizer\u001b[0m\u001b[1;33m)\u001b[0m\u001b[1;33m\u001b[0m\u001b[1;33m\u001b[0m\u001b[0m\n\u001b[0m\u001b[0;32m     14\u001b[0m     \u001b[0mval_loss\u001b[0m\u001b[1;33m,\u001b[0m \u001b[0mval_acc\u001b[0m \u001b[1;33m=\u001b[0m \u001b[0mtest_model\u001b[0m\u001b[1;33m(\u001b[0m\u001b[0mmodel\u001b[0m\u001b[1;33m,\u001b[0m \u001b[0mvalloader\u001b[0m\u001b[1;33m,\u001b[0m \u001b[0mcriterion\u001b[0m\u001b[1;33m)\u001b[0m\u001b[1;33m\u001b[0m\u001b[1;33m\u001b[0m\u001b[0m\n\u001b[0;32m     15\u001b[0m     \u001b[0mtest_loss\u001b[0m\u001b[1;33m,\u001b[0m \u001b[0mtest_acc\u001b[0m \u001b[1;33m=\u001b[0m \u001b[0mtest_model\u001b[0m\u001b[1;33m(\u001b[0m\u001b[0mmodel\u001b[0m\u001b[1;33m,\u001b[0m \u001b[0mtestloader\u001b[0m\u001b[1;33m,\u001b[0m \u001b[0mcriterion\u001b[0m\u001b[1;33m)\u001b[0m\u001b[1;33m\u001b[0m\u001b[1;33m\u001b[0m\u001b[0m\n",
      "\u001b[1;32m<ipython-input-79-93b251f97674>\u001b[0m in \u001b[0;36mtrain_epoch\u001b[1;34m(model, train_loader, criterion, optimizer)\u001b[0m\n\u001b[0;32m      8\u001b[0m \u001b[1;33m\u001b[0m\u001b[0m\n\u001b[0;32m      9\u001b[0m     \u001b[0mstart_time\u001b[0m \u001b[1;33m=\u001b[0m \u001b[0mtime\u001b[0m\u001b[1;33m.\u001b[0m\u001b[0mtime\u001b[0m\u001b[1;33m(\u001b[0m\u001b[1;33m)\u001b[0m\u001b[1;33m\u001b[0m\u001b[1;33m\u001b[0m\u001b[0m\n\u001b[1;32m---> 10\u001b[1;33m     \u001b[1;32mfor\u001b[0m \u001b[0mlabel\u001b[0m\u001b[1;33m,\u001b[0m\u001b[1;33m[\u001b[0m\u001b[0mdata\u001b[0m\u001b[1;33m,\u001b[0m \u001b[0mtarget\u001b[0m\u001b[1;33m]\u001b[0m \u001b[1;32min\u001b[0m \u001b[0mtqdm\u001b[0m\u001b[1;33m(\u001b[0m\u001b[0menumerate\u001b[0m\u001b[1;33m(\u001b[0m\u001b[0mtrain_loader\u001b[0m\u001b[1;33m)\u001b[0m\u001b[1;33m)\u001b[0m\u001b[1;33m:\u001b[0m\u001b[1;33m\u001b[0m\u001b[1;33m\u001b[0m\u001b[0m\n\u001b[0m\u001b[0;32m     11\u001b[0m         \u001b[0moptimizer\u001b[0m\u001b[1;33m.\u001b[0m\u001b[0mzero_grad\u001b[0m\u001b[1;33m(\u001b[0m\u001b[1;33m)\u001b[0m\u001b[1;33m\u001b[0m\u001b[1;33m\u001b[0m\u001b[0m\n\u001b[0;32m     12\u001b[0m         \u001b[0mdata\u001b[0m \u001b[1;33m=\u001b[0m \u001b[0mdata\u001b[0m\u001b[1;33m[\u001b[0m\u001b[1;33m:\u001b[0m\u001b[1;33m,\u001b[0m\u001b[1;36m0\u001b[0m\u001b[1;33m]\u001b[0m\u001b[1;33m\u001b[0m\u001b[1;33m\u001b[0m\u001b[0m\n",
      "\u001b[1;32m~\\Anaconda3\\lib\\site-packages\\tqdm\\std.py\u001b[0m in \u001b[0;36m__iter__\u001b[1;34m(self)\u001b[0m\n\u001b[0;32m   1079\u001b[0m             \"\"\"), fp_write=getattr(self.fp, 'write', sys.stderr.write))\n\u001b[0;32m   1080\u001b[0m \u001b[1;33m\u001b[0m\u001b[0m\n\u001b[1;32m-> 1081\u001b[1;33m         \u001b[1;32mfor\u001b[0m \u001b[0mobj\u001b[0m \u001b[1;32min\u001b[0m \u001b[0miterable\u001b[0m\u001b[1;33m:\u001b[0m\u001b[1;33m\u001b[0m\u001b[1;33m\u001b[0m\u001b[0m\n\u001b[0m\u001b[0;32m   1082\u001b[0m             \u001b[1;32myield\u001b[0m \u001b[0mobj\u001b[0m\u001b[1;33m\u001b[0m\u001b[1;33m\u001b[0m\u001b[0m\n\u001b[0;32m   1083\u001b[0m             \u001b[1;31m# Update and possibly print the progressbar.\u001b[0m\u001b[1;33m\u001b[0m\u001b[1;33m\u001b[0m\u001b[1;33m\u001b[0m\u001b[0m\n",
      "\u001b[1;32m~\\Anaconda3\\lib\\site-packages\\torch\\utils\\data\\dataloader.py\u001b[0m in \u001b[0;36m__next__\u001b[1;34m(self)\u001b[0m\n\u001b[0;32m    344\u001b[0m     \u001b[1;32mdef\u001b[0m \u001b[0m__next__\u001b[0m\u001b[1;33m(\u001b[0m\u001b[0mself\u001b[0m\u001b[1;33m)\u001b[0m\u001b[1;33m:\u001b[0m\u001b[1;33m\u001b[0m\u001b[1;33m\u001b[0m\u001b[0m\n\u001b[0;32m    345\u001b[0m         \u001b[0mindex\u001b[0m \u001b[1;33m=\u001b[0m \u001b[0mself\u001b[0m\u001b[1;33m.\u001b[0m\u001b[0m_next_index\u001b[0m\u001b[1;33m(\u001b[0m\u001b[1;33m)\u001b[0m  \u001b[1;31m# may raise StopIteration\u001b[0m\u001b[1;33m\u001b[0m\u001b[1;33m\u001b[0m\u001b[0m\n\u001b[1;32m--> 346\u001b[1;33m         \u001b[0mdata\u001b[0m \u001b[1;33m=\u001b[0m \u001b[0mself\u001b[0m\u001b[1;33m.\u001b[0m\u001b[0mdataset_fetcher\u001b[0m\u001b[1;33m.\u001b[0m\u001b[0mfetch\u001b[0m\u001b[1;33m(\u001b[0m\u001b[0mindex\u001b[0m\u001b[1;33m)\u001b[0m  \u001b[1;31m# may raise StopIteration\u001b[0m\u001b[1;33m\u001b[0m\u001b[1;33m\u001b[0m\u001b[0m\n\u001b[0m\u001b[0;32m    347\u001b[0m         \u001b[1;32mif\u001b[0m \u001b[0mself\u001b[0m\u001b[1;33m.\u001b[0m\u001b[0mpin_memory\u001b[0m\u001b[1;33m:\u001b[0m\u001b[1;33m\u001b[0m\u001b[1;33m\u001b[0m\u001b[0m\n\u001b[0;32m    348\u001b[0m             \u001b[0mdata\u001b[0m \u001b[1;33m=\u001b[0m \u001b[0m_utils\u001b[0m\u001b[1;33m.\u001b[0m\u001b[0mpin_memory\u001b[0m\u001b[1;33m.\u001b[0m\u001b[0mpin_memory\u001b[0m\u001b[1;33m(\u001b[0m\u001b[0mdata\u001b[0m\u001b[1;33m)\u001b[0m\u001b[1;33m\u001b[0m\u001b[1;33m\u001b[0m\u001b[0m\n",
      "\u001b[1;32m~\\Anaconda3\\lib\\site-packages\\torch\\utils\\data\\_utils\\fetch.py\u001b[0m in \u001b[0;36mfetch\u001b[1;34m(self, possibly_batched_index)\u001b[0m\n\u001b[0;32m     42\u001b[0m     \u001b[1;32mdef\u001b[0m \u001b[0mfetch\u001b[0m\u001b[1;33m(\u001b[0m\u001b[0mself\u001b[0m\u001b[1;33m,\u001b[0m \u001b[0mpossibly_batched_index\u001b[0m\u001b[1;33m)\u001b[0m\u001b[1;33m:\u001b[0m\u001b[1;33m\u001b[0m\u001b[1;33m\u001b[0m\u001b[0m\n\u001b[0;32m     43\u001b[0m         \u001b[1;32mif\u001b[0m \u001b[0mself\u001b[0m\u001b[1;33m.\u001b[0m\u001b[0mauto_collation\u001b[0m\u001b[1;33m:\u001b[0m\u001b[1;33m\u001b[0m\u001b[1;33m\u001b[0m\u001b[0m\n\u001b[1;32m---> 44\u001b[1;33m             \u001b[0mdata\u001b[0m \u001b[1;33m=\u001b[0m \u001b[1;33m[\u001b[0m\u001b[0mself\u001b[0m\u001b[1;33m.\u001b[0m\u001b[0mdataset\u001b[0m\u001b[1;33m[\u001b[0m\u001b[0midx\u001b[0m\u001b[1;33m]\u001b[0m \u001b[1;32mfor\u001b[0m \u001b[0midx\u001b[0m \u001b[1;32min\u001b[0m \u001b[0mpossibly_batched_index\u001b[0m\u001b[1;33m]\u001b[0m\u001b[1;33m\u001b[0m\u001b[1;33m\u001b[0m\u001b[0m\n\u001b[0m\u001b[0;32m     45\u001b[0m         \u001b[1;32melse\u001b[0m\u001b[1;33m:\u001b[0m\u001b[1;33m\u001b[0m\u001b[1;33m\u001b[0m\u001b[0m\n\u001b[0;32m     46\u001b[0m             \u001b[0mdata\u001b[0m \u001b[1;33m=\u001b[0m \u001b[0mself\u001b[0m\u001b[1;33m.\u001b[0m\u001b[0mdataset\u001b[0m\u001b[1;33m[\u001b[0m\u001b[0mpossibly_batched_index\u001b[0m\u001b[1;33m]\u001b[0m\u001b[1;33m\u001b[0m\u001b[1;33m\u001b[0m\u001b[0m\n",
      "\u001b[1;32m~\\Anaconda3\\lib\\site-packages\\torch\\utils\\data\\_utils\\fetch.py\u001b[0m in \u001b[0;36m<listcomp>\u001b[1;34m(.0)\u001b[0m\n\u001b[0;32m     42\u001b[0m     \u001b[1;32mdef\u001b[0m \u001b[0mfetch\u001b[0m\u001b[1;33m(\u001b[0m\u001b[0mself\u001b[0m\u001b[1;33m,\u001b[0m \u001b[0mpossibly_batched_index\u001b[0m\u001b[1;33m)\u001b[0m\u001b[1;33m:\u001b[0m\u001b[1;33m\u001b[0m\u001b[1;33m\u001b[0m\u001b[0m\n\u001b[0;32m     43\u001b[0m         \u001b[1;32mif\u001b[0m \u001b[0mself\u001b[0m\u001b[1;33m.\u001b[0m\u001b[0mauto_collation\u001b[0m\u001b[1;33m:\u001b[0m\u001b[1;33m\u001b[0m\u001b[1;33m\u001b[0m\u001b[0m\n\u001b[1;32m---> 44\u001b[1;33m             \u001b[0mdata\u001b[0m \u001b[1;33m=\u001b[0m \u001b[1;33m[\u001b[0m\u001b[0mself\u001b[0m\u001b[1;33m.\u001b[0m\u001b[0mdataset\u001b[0m\u001b[1;33m[\u001b[0m\u001b[0midx\u001b[0m\u001b[1;33m]\u001b[0m \u001b[1;32mfor\u001b[0m \u001b[0midx\u001b[0m \u001b[1;32min\u001b[0m \u001b[0mpossibly_batched_index\u001b[0m\u001b[1;33m]\u001b[0m\u001b[1;33m\u001b[0m\u001b[1;33m\u001b[0m\u001b[0m\n\u001b[0m\u001b[0;32m     45\u001b[0m         \u001b[1;32melse\u001b[0m\u001b[1;33m:\u001b[0m\u001b[1;33m\u001b[0m\u001b[1;33m\u001b[0m\u001b[0m\n\u001b[0;32m     46\u001b[0m             \u001b[0mdata\u001b[0m \u001b[1;33m=\u001b[0m \u001b[0mself\u001b[0m\u001b[1;33m.\u001b[0m\u001b[0mdataset\u001b[0m\u001b[1;33m[\u001b[0m\u001b[0mpossibly_batched_index\u001b[0m\u001b[1;33m]\u001b[0m\u001b[1;33m\u001b[0m\u001b[1;33m\u001b[0m\u001b[0m\n",
      "\u001b[1;32m<ipython-input-54-9bb720738266>\u001b[0m in \u001b[0;36m__getitem__\u001b[1;34m(self, item)\u001b[0m\n\u001b[0;32m     43\u001b[0m         \u001b[0mtarget\u001b[0m \u001b[1;33m=\u001b[0m \u001b[0mself\u001b[0m\u001b[1;33m.\u001b[0m\u001b[0mdata_ids\u001b[0m\u001b[1;33m[\u001b[0m\u001b[0mitem\u001b[0m\u001b[1;33m]\u001b[0m\u001b[1;33m\u001b[0m\u001b[1;33m\u001b[0m\u001b[0m\n\u001b[0;32m     44\u001b[0m \u001b[1;33m\u001b[0m\u001b[0m\n\u001b[1;32m---> 45\u001b[1;33m         \u001b[0mimage\u001b[0m \u001b[1;33m=\u001b[0m \u001b[0mcv2\u001b[0m\u001b[1;33m.\u001b[0m\u001b[0mimread\u001b[0m\u001b[1;33m(\u001b[0m\u001b[0mimg_path\u001b[0m\u001b[1;33m)\u001b[0m\u001b[1;33m\u001b[0m\u001b[1;33m\u001b[0m\u001b[0m\n\u001b[0m\u001b[0;32m     46\u001b[0m \u001b[1;33m\u001b[0m\u001b[0m\n\u001b[0;32m     47\u001b[0m         \u001b[1;32mif\u001b[0m \u001b[0mself\u001b[0m\u001b[1;33m.\u001b[0m\u001b[0mtransform\u001b[0m\u001b[1;33m:\u001b[0m\u001b[1;33m\u001b[0m\u001b[1;33m\u001b[0m\u001b[0m\n",
      "\u001b[1;31mKeyboardInterrupt\u001b[0m: "
     ]
    }
   ],
   "source": [
    "optimizer = optim.Adam(model.parameters(), lr=1e-4)\n",
    "n_epochs = 20\n",
    "Train_loss = []\n",
    "Test_loss = []\n",
    "Test_acc = []\n",
    "Val_loss = []\n",
    "Val_acc = []\n",
    "Train_acc=[]\n",
    "for i in range(n_epochs):\n",
    "    if i==8:\n",
    "        for param_group in optimizer.param_groups:\n",
    "            param_group['lr'] = 1e-5\n",
    "    train_loss,train_acc = train_epoch(model, trainloader, criterion, optimizer)\n",
    "    val_loss, val_acc = test_model(model, valloader, criterion)\n",
    "    test_loss, test_acc = test_model(model, testloader, criterion)\n",
    "    Train_acc.append(train_acc)\n",
    "    Train_loss.append(train_loss)\n",
    "    Val_acc.append(val_acc)\n",
    "    Val_loss.append(val_loss)\n",
    "    Test_loss.append(test_loss)\n",
    "    Test_acc.append(test_acc)\n",
    "    print(i,'epoch='*20)\n",
    "    #torch.save(model, 'new/finalsimple'+str(i)+'.pkl')\n",
    "#test_loss, test_acc = test_model(model, testloader, criterion)"
   ]
  },
  {
   "cell_type": "code",
   "execution_count": 29,
   "metadata": {},
   "outputs": [
    {
     "name": "stderr",
     "output_type": "stream",
     "text": [
      "C:\\Users\\zhaoh\\Anaconda3\\lib\\site-packages\\torch\\serialization.py:256: UserWarning: Couldn't retrieve source code for container of type ResNet. It won't be checked for correctness upon loading.\n",
      "  \"type \" + obj.__name__ + \". It won't be checked \"\n",
      "C:\\Users\\zhaoh\\Anaconda3\\lib\\site-packages\\torch\\serialization.py:256: UserWarning: Couldn't retrieve source code for container of type BasicBlock. It won't be checked for correctness upon loading.\n",
      "  \"type \" + obj.__name__ + \". It won't be checked \"\n"
     ]
    }
   ],
   "source": [
    "torch.save(model, 'new/1channel'+str(i)+'.pkl')"
   ]
  },
  {
   "cell_type": "code",
   "execution_count": 74,
   "metadata": {},
   "outputs": [
    {
     "data": {
      "image/png": "[encoded data removed]",
      "text/plain": [
       "<Figure size 432x288 with 1 Axes>"
      ]
     },
     "metadata": {
      "needs_background": "light"
     },
     "output_type": "display_data"
    },
    {
     "data": {
      "text/plain": [
       "<matplotlib.legend.Legend at 0x2670e74e940>"
      ]
     },
     "execution_count": 74,
     "metadata": {},
     "output_type": "execute_result"
    },
    {
     "data": {
      "image/png": "[encoded data removed]",
      "text/plain": [
       "<Figure size 432x288 with 1 Axes>"
      ]
     },
     "metadata": {
      "needs_background": "light"
     },
     "output_type": "display_data"
    },
    {
     "name": "stderr",
     "output_type": "stream",
     "text": [
      "\n",
      "\n",
      "196it [00:20, 21.94it/s]"
     ]
    }
   ],
   "source": [
    "plt.title('Training, validation loss')\n",
    "plt.xlabel('Epoch Number')\n",
    "plt.ylabel('Loss')\n",
    "plt.plot(Val_loss,label='validation loss')\n",
    "plt.plot(Train_loss,label='train loss')\n",
    "plt.plot(Test_loss,label='test loss')\n",
    "plt.plot()\n",
    "plt.legend(loc='upper right')\n",
    "plt.show()\n",
    "\n",
    "plt.title('Training, validation accuracy')\n",
    "plt.xlabel('Epoch Number')\n",
    "plt.ylabel('Accuracy')\n",
    "plt.plot(Val_acc,label='validation accuracy')\n",
    "plt.plot(Train_acc,label='train accuracy')\n",
    "plt.plot(Test_acc,label='test accuracy')\n",
    "plt.plot()\n",
    "plt.legend(loc='lower right')\n"
   ]
  },
  {
   "cell_type": "code",
   "execution_count": 76,
   "metadata": {},
   "outputs": [
    {
     "name": "stdout",
     "output_type": "stream",
     "text": [
      "Testing Loss:  0.09937096553243818\n",
      "Testing Accuracy:  97.79411764705883 %\n"
     ]
    }
   ],
   "source": [
    "test_loss, test_acc = test_model(model, testloader, criterion)"
   ]
  },
  {
   "cell_type": "code",
   "execution_count": 77,
   "metadata": {},
   "outputs": [],
   "source": [
    "model=torch.load('new/final3channel.pkl')\n",
    "torch.save(model.state_dict(),'final3channel')"
   ]
  },
  {
   "cell_type": "code",
   "execution_count": null,
   "metadata": {},
   "outputs": [],
   "source": [
    "im = cv2.imread(\"save.jpg\") \n",
    "#im=PIL.ImageOps.invert(im)\n",
    "#image = transforms.ToTensor()(im)  \n",
    "plt.imshow(255-im, cmap = 'gray')\n",
    "#image=image[0]\n",
    "# This method will show image in any image viewer  \n",
    "\n",
    "image=255-im\n",
    "print(image.shape)"
   ]
  },
  {
   "cell_type": "code",
   "execution_count": null,
   "metadata": {},
   "outputs": [],
   "source": [
    "# image shape: torch.Size([576, 1021])\n",
    "cell0=image[200:400,0:100,:]\n",
    "cell1=image[180:400,150:250,:]\n",
    "cell2=image[180:400,300:400,:]\n",
    "cell3=image[180:400,400:550,:]\n",
    "cell4=image[200:400,550:700,:]\n",
    "cell5=image[180:400,700:800,:]\n",
    "cell6=image[130:400,800:900,:]\n",
    "cell7=image[180:400,400:550,:]\n",
    "cell8=image[100:400,100:400,:]\n",
    "\n",
    "'''\n",
    "cell0=transforms.ToPILImage()(cell0)\n",
    "cell1=transforms.ToPILImage()(cell1)\n",
    "cell2=transforms.ToPILImage()(cell2)\n",
    "cell3=transforms.ToPILImage()(cell3)\n",
    "cell4=transforms.ToPILImage()(cell4)\n",
    "cell5=transforms.ToPILImage()(cell5)\n",
    "cell6=transforms.ToPILImage()(cell6)\n",
    "cell7=transforms.ToPILImage()(cell7)\n",
    "'''\n",
    "#print(cell8.shape)\n",
    "'''\n",
    "cell0=ratio_crop(1.0)(cell0)\n",
    "cell1=ratio_crop(1.0)(cell1)\n",
    "cell2=ratio_crop(1.0)(cell2)\n",
    "cell3=ratio_crop(1.0)(cell3)\n",
    "cell4=ratio_crop(1.0)(cell4)\n",
    "cell5=ratio_crop(1.0)(cell5)\n",
    "cell6=ratio_crop(1.0)(cell6)\n",
    "cell7=ratio_crop(1.0)(cell7)\n",
    "\n",
    "print(cell0.dtype)\n",
    "'''\n",
    "'''\n",
    "cell0=cv2.resize(cell0, (56, 56))\n",
    "cell1=cv2.resize(cell1, (56, 56))\n",
    "cell2=cv2.resize(cell2, (56, 56))\n",
    "cell3=cv2.resize(cell3, (56, 56))\n",
    "cell4=cv2.resize(cell4, (56, 56))\n",
    "cell5=cv2.resize(cell5, (56, 56))\n",
    "cell6=cv2.resize(cell6, (56, 56))\n",
    "cell7=cv2.resize(cell7, (56, 56))\n",
    "'''\n",
    "#cell0=transforms.Pad(10, fill=255, padding_mode='constant')(cell0)\n",
    "#plt.subplot(4,4,1)\n",
    "#img = np.moveaxis(cell0.numpy(),0,2)\n",
    "#cell0=cell0.reshape(56,56,3)\n",
    "plt.imshow(cell0)\n",
    "#plt.savefig(\"C:/Users/zhaoh/Downloads/FYP/deeplearning new/new-number-identification/crop/\"+'1.jpg')\n",
    "plt.show()\n",
    "\n",
    "#plt.subplot(4,4,2)\n",
    "plt.imshow(cell1)\n",
    "#plt.savefig(\"C:/Users/zhaoh/Downloads/FYP/deeplearning new/new-number-identification/crop/\"+'2.jpg')\n",
    "plt.show()\n",
    "\n",
    "#plt.subplot(4,4,3)\n",
    "plt.imshow(cell2)\n",
    "#plt.savefig(\"C:/Users/zhaoh/Downloads/FYP/deeplearning new/new-number-identification/crop/\"+'3.jpg')\n",
    "plt.show()\n",
    "#plt.subplot(4,4,4)\n",
    "plt.imshow(cell3)\n",
    "plt.show()\n",
    "#plt.subplot(4,4,1)\n",
    "plt.imshow(cell4)\n",
    "plt.show()\n",
    "#plt.subplot(4,4,2)\n",
    "plt.imshow(cell5)\n",
    "plt.show()\n",
    "#plt.subplot(4,4,3)\n",
    "plt.imshow(cell6)\n",
    "plt.show()\n",
    "#plt.subplot(4,4,4)\n",
    "plt.imshow(cell7)\n",
    "plt.show()\n",
    "\n",
    "\n",
    "print(cell3.shape)\n",
    "cv2.imwrite(\"C:/Users/zhaoh/Downloads/FYP/deeplearning new/new-number-identification/crop/\"+'1.jpg',cell0)\n",
    "cv2.imwrite(\"C:/Users/zhaoh/Downloads/FYP/deeplearning new/new-number-identification/crop/\"+'2.jpg',cell1)\n",
    "cv2.imwrite(\"C:/Users/zhaoh/Downloads/FYP/deeplearning new/new-number-identification/crop/\"+'3.jpg',cell2)\n",
    "cv2.imwrite(\"C:/Users/zhaoh/Downloads/FYP/deeplearning new/new-number-identification/crop/\"+'4.jpg',cell3)\n",
    "cv2.imwrite(\"C:/Users/zhaoh/Downloads/FYP/deeplearning new/new-number-identification/crop/\"+'5.jpg',cell4)\n",
    "cv2.imwrite(\"C:/Users/zhaoh/Downloads/FYP/deeplearning new/new-number-identification/crop/\"+'6.jpg',cell5)\n",
    "cv2.imwrite(\"C:/Users/zhaoh/Downloads/FYP/deeplearning new/new-number-identification/crop/\"+'7.jpg',cell6)\n",
    "cv2.imwrite(\"C:/Users/zhaoh/Downloads/FYP/deeplearning new/new-number-identification/crop/\"+'8.jpg',cell7)"
   ]
  },
  {
   "cell_type": "code",
   "execution_count": 1,
   "metadata": {},
   "outputs": [
    {
     "ename": "NameError",
     "evalue": "name 'DrivingDataset' is not defined",
     "output_type": "error",
     "traceback": [
      "\u001b[1;31m---------------------------------------------------------------------------\u001b[0m",
      "\u001b[1;31mNameError\u001b[0m                                 Traceback (most recent call last)",
      "\u001b[1;32m<ipython-input-1-3894c0875db7>\u001b[0m in \u001b[0;36m<module>\u001b[1;34m\u001b[0m\n\u001b[0;32m     12\u001b[0m \u001b[0mprint\u001b[0m\u001b[1;33m(\u001b[0m\u001b[0mi\u001b[0m\u001b[1;33m)\u001b[0m\u001b[1;33m\u001b[0m\u001b[1;33m\u001b[0m\u001b[0m\n\u001b[0;32m     13\u001b[0m '''\n\u001b[1;32m---> 14\u001b[1;33m \u001b[0mtest_set\u001b[0m \u001b[1;33m=\u001b[0m \u001b[0mDrivingDataset\u001b[0m\u001b[1;33m(\u001b[0m\u001b[0mdata_dir\u001b[0m\u001b[1;33m=\u001b[0m\u001b[1;34m\"C:/Users/zhaoh/Downloads/FYP/dataset/test/\"\u001b[0m\u001b[1;33m,\u001b[0m \u001b[0mis_train\u001b[0m\u001b[1;33m=\u001b[0m\u001b[1;32mFalse\u001b[0m\u001b[1;33m,\u001b[0m\u001b[0mtransform\u001b[0m\u001b[1;33m=\u001b[0m\u001b[0mtransform\u001b[0m\u001b[1;33m)\u001b[0m\u001b[1;33m\u001b[0m\u001b[1;33m\u001b[0m\u001b[0m\n\u001b[0m\u001b[0;32m     15\u001b[0m testloader = torch.utils.data.DataLoader(test_set, batch_size=5,\n\u001b[0;32m     16\u001b[0m                                           shuffle=True, num_workers=0)\n",
      "\u001b[1;31mNameError\u001b[0m: name 'DrivingDataset' is not defined"
     ]
    }
   ],
   "source": [
    "#\"C:/Users/zhaoh/Downloads/FYP/deeplearning new/new-number-identification/crop/\"\n",
    "#\"C:/Users/zhaoh/Downloads/FYP/dataset/test/\"\n",
    "'''path='C:/Users/zhaoh/Downloads/FYP/dataset/test/'\n",
    "i=0\n",
    "for f in os.listdir(path):\n",
    "    name=os.path.join(path+str(f))\n",
    "    if \"jpg\" in name:\n",
    "        im = cv2.imread(name)\n",
    "        i+=1\n",
    "        flip = 255-im\n",
    "        cv2.imwrite(name,flip)\n",
    "print(i)\n",
    "'''\n",
    "test_set = DrivingDataset(data_dir=\"C:/Users/zhaoh/Downloads/FYP/dataset/test/\", is_train=False,transform=transform)\n",
    "testloader = torch.utils.data.DataLoader(test_set, batch_size=5,\n",
    "                                          shuffle=True, num_workers=0)\n",
    "for i,j in testloader:\n",
    "    #i=255-i\n",
    "    print(i.shape)\n",
    "    for k in range(4):\n",
    "        img = np.moveaxis(i[k].numpy(),0,2)\n",
    "        #print(img.shape)\n",
    "        plt.imshow(img[:,:,0],cmap='gray')\n",
    "        plt.show()\n",
    "    i=i.reshape(-1,3,56,56)\n",
    "    outputs = model(i.to(device))\n",
    "    _, predicted = torch.max(outputs.data, 1)\n",
    "    #outputs = model(cell0.to(device))\n",
    "    #_, predicted = torch.max(outputs.data, 1)\n",
    "    #plt.show()\n",
    "    print(\"prediction\",predicted)"
   ]
  },
  {
   "cell_type": "code",
   "execution_count": null,
   "metadata": {},
   "outputs": [],
   "source": [
    "torch.load"
   ]
  },
  {
   "cell_type": "code",
   "execution_count": null,
   "metadata": {},
   "outputs": [],
   "source": [
    "#torch.save(model.state_dict(),'final')"
   ]
  },
  {
   "cell_type": "code",
   "execution_count": 9,
   "metadata": {},
   "outputs": [
    {
     "name": "stdout",
     "output_type": "stream",
     "text": [
      "868\n"
     ]
    }
   ],
   "source": [
    "#biggest mistake\n",
    "model.eval()\n",
    "test_set = DrivingDataset(data_dir=\"C:/Users/zhaoh/Downloads/FYP/dataset/eval/\", is_train=False,transform=transform2)\n",
    "testloader = torch.utils.data.DataLoader(test_set, batch_size=10,\n",
    "                                          shuffle=False, num_workers=0)\n",
    "\n",
    "a=[[]for i in range(16)]\n",
    "b=[[]for i in range(16)]\n",
    "lab=[[]for i in range(16)]\n",
    "\n",
    "for index,(k,j) in enumerate(testloader):\n",
    "    #i=255-i\n",
    "    #print(i.shape)\n",
    "    data = k[:,0]\n",
    "    data=data.reshape(-1,1,56,56).float().to(device)\n",
    "    target=j.squeeze(1)\n",
    "    target = target.to(device)\n",
    "    outputs = model(data)\n",
    "    score, predicted = torch.max(outputs.data, 1)\n",
    "    #print(\"prediction\",index)#batch result confidence \n",
    "    for i in range(len(score)):\n",
    "        if predicted[i]!=target[i].long():\n",
    "            #ni=ni+1\n",
    "            reg=target[i].item()\n",
    "            #print(target[i].item())\n",
    "            #print(a[reg])\n",
    "            #if score[i].item()>a[reg][0]:\n",
    "            a[reg].append(score[i].item())\n",
    "            b[reg].append(index*10+i)\n",
    "            lab[reg].append(predicted[i])\n",
    "    #for k in range(5):\n",
    "        #img = np.moveaxis(i[k].numpy(),0,2)\n",
    "        #print(img.shape)\n",
    "        #plt.imshow(img[:,:,0],cmap='gray')\n",
    "        #plt.show()\n",
    "    #outputs = model(cell0.to(device))\n",
    "    #_, predicted = torch.max(outputs.data, 1)\n",
    "    #print(predicted)\n",
    "    #plt.show()\n"
   ]
  },
  {
   "cell_type": "code",
   "execution_count": 10,
   "metadata": {},
   "outputs": [
    {
     "name": "stdout",
     "output_type": "stream",
     "text": [
      "no\n",
      "no\n",
      "no\n",
      "no\n",
      "no\n",
      "no\n",
      "no\n",
      "no\n",
      "no\n",
      "no\n",
      "no\n",
      "no\n",
      "no\n",
      "no\n",
      "no\n",
      "no\n",
      "no\n",
      "no\n",
      "no\n",
      "no\n",
      "no\n",
      "no\n",
      "no\n",
      "no\n",
      "no\n",
      "no\n",
      "no\n",
      "no\n",
      "no\n",
      "no\n",
      "no\n",
      "no\n",
      "no\n",
      "no\n",
      "no\n",
      "no\n",
      "no\n",
      "no\n",
      "no\n",
      "no\n",
      "no\n",
      "no\n",
      "no\n",
      "no\n",
      "no\n",
      "no\n",
      "no\n",
      "no\n",
      "no\n",
      "no\n",
      "no\n",
      "no\n",
      "no\n",
      "no\n",
      "no\n",
      "no\n",
      "no\n"
     ]
    }
   ],
   "source": [
    "import heapq\n",
    "c=[]\n",
    "labe=[]\n",
    "for k in range(len(a)):\n",
    "    for i in range (5):\n",
    "        try:\n",
    "            index=a[k].index(heapq.nlargest(5,a[k])[i])\n",
    "            c.append(b[k][index])\n",
    "            labe.append(lab[k][index])\n",
    "        except:\n",
    "            print('no')"
   ]
  },
  {
   "cell_type": "code",
   "execution_count": 11,
   "metadata": {},
   "outputs": [
    {
     "name": "stdout",
     "output_type": "stream",
     "text": [
      "tensor(6, device='cuda:0')\n"
     ]
    },
    {
     "data": {
      "image/png": "[encoded data removed]",
      "text/plain": [
       "<Figure size 432x288 with 1 Axes>"
      ]
     },
     "metadata": {
      "needs_background": "light"
     },
     "output_type": "display_data"
    },
    {
     "name": "stdout",
     "output_type": "stream",
     "text": [
      "tensor(1, device='cuda:0')\n"
     ]
    },
    {
     "data": {
      "image/png": "[encoded data removed]",
      "text/plain": [
       "<Figure size 432x288 with 1 Axes>"
      ]
     },
     "metadata": {
      "needs_background": "light"
     },
     "output_type": "display_data"
    },
    {
     "name": "stdout",
     "output_type": "stream",
     "text": [
      "tensor(2, device='cuda:0')\n"
     ]
    },
    {
     "data": {
      "image/png": "[encoded data removed]",
      "text/plain": [
       "<Figure size 432x288 with 1 Axes>"
      ]
     },
     "metadata": {
      "needs_background": "light"
     },
     "output_type": "display_data"
    },
    {
     "name": "stdout",
     "output_type": "stream",
     "text": [
      "tensor(2, device='cuda:0')\n"
     ]
    },
    {
     "data": {
      "image/png": "[encoded data removed]",
      "text/plain": [
       "<Figure size 432x288 with 1 Axes>"
      ]
     },
     "metadata": {
      "needs_background": "light"
     },
     "output_type": "display_data"
    },
    {
     "name": "stdout",
     "output_type": "stream",
     "text": [
      "tensor(2, device='cuda:0')\n"
     ]
    },
    {
     "data": {
      "image/png": "[encoded data removed]",
      "text/plain": [
       "<Figure size 432x288 with 1 Axes>"
      ]
     },
     "metadata": {
      "needs_background": "light"
     },
     "output_type": "display_data"
    },
    {
     "name": "stdout",
     "output_type": "stream",
     "text": [
      "tensor(2, device='cuda:0')\n"
     ]
    },
    {
     "data": {
      "image/png": "[encoded data removed]",
      "text/plain": [
       "<Figure size 432x288 with 1 Axes>"
      ]
     },
     "metadata": {
      "needs_background": "light"
     },
     "output_type": "display_data"
    },
    {
     "name": "stdout",
     "output_type": "stream",
     "text": [
      "tensor(2, device='cuda:0')\n"
     ]
    },
    {
     "data": {
      "image/png": "[encoded data removed]",
      "text/plain": [
       "<Figure size 432x288 with 1 Axes>"
      ]
     },
     "metadata": {
      "needs_background": "light"
     },
     "output_type": "display_data"
    },
    {
     "name": "stdout",
     "output_type": "stream",
     "text": [
      "tensor(8, device='cuda:0')\n"
     ]
    },
    {
     "data": {
      "image/png": "[encoded data removed]",
      "text/plain": [
       "<Figure size 432x288 with 1 Axes>"
      ]
     },
     "metadata": {
      "needs_background": "light"
     },
     "output_type": "display_data"
    },
    {
     "name": "stdout",
     "output_type": "stream",
     "text": [
      "tensor(1, device='cuda:0')\n"
     ]
    },
    {
     "data": {
      "image/png": "[encoded data removed]",
      "text/plain": [
       "<Figure size 432x288 with 1 Axes>"
      ]
     },
     "metadata": {
      "needs_background": "light"
     },
     "output_type": "display_data"
    },
    {
     "name": "stdout",
     "output_type": "stream",
     "text": [
      "tensor(1, device='cuda:0')\n"
     ]
    },
    {
     "data": {
      "image/png": "[encoded data removed]",
      "text/plain": [
       "<Figure size 432x288 with 1 Axes>"
      ]
     },
     "metadata": {
      "needs_background": "light"
     },
     "output_type": "display_data"
    },
    {
     "name": "stdout",
     "output_type": "stream",
     "text": [
      "tensor(5, device='cuda:0')\n"
     ]
    },
    {
     "data": {
      "image/png": "[encoded data removed]",
      "text/plain": [
       "<Figure size 432x288 with 1 Axes>"
      ]
     },
     "metadata": {
      "needs_background": "light"
     },
     "output_type": "display_data"
    },
    {
     "name": "stdout",
     "output_type": "stream",
     "text": [
      "tensor(6, device='cuda:0')\n"
     ]
    },
    {
     "data": {
      "image/png": "[encoded data removed]",
      "text/plain": [
       "<Figure size 432x288 with 1 Axes>"
      ]
     },
     "metadata": {
      "needs_background": "light"
     },
     "output_type": "display_data"
    },
    {
     "name": "stdout",
     "output_type": "stream",
     "text": [
      "tensor(6, device='cuda:0')\n"
     ]
    },
    {
     "data": {
      "image/png": "[encoded data removed]",
      "text/plain": [
       "<Figure size 432x288 with 1 Axes>"
      ]
     },
     "metadata": {
      "needs_background": "light"
     },
     "output_type": "display_data"
    },
    {
     "name": "stdout",
     "output_type": "stream",
     "text": [
      "tensor(5, device='cuda:0')\n"
     ]
    },
    {
     "data": {
      "image/png": "[encoded data removed]",
      "text/plain": [
       "<Figure size 432x288 with 1 Axes>"
      ]
     },
     "metadata": {
      "needs_background": "light"
     },
     "output_type": "display_data"
    },
    {
     "name": "stdout",
     "output_type": "stream",
     "text": [
      "tensor(6, device='cuda:0')\n"
     ]
    },
    {
     "data": {
      "image/png": "[encoded data removed]",
      "text/plain": [
       "<Figure size 432x288 with 1 Axes>"
      ]
     },
     "metadata": {
      "needs_background": "light"
     },
     "output_type": "display_data"
    },
    {
     "name": "stdout",
     "output_type": "stream",
     "text": [
      "tensor(8, device='cuda:0')\n"
     ]
    },
    {
     "data": {
      "image/png": "[encoded data removed]",
      "text/plain": [
       "<Figure size 432x288 with 1 Axes>"
      ]
     },
     "metadata": {
      "needs_background": "light"
     },
     "output_type": "display_data"
    },
    {
     "name": "stdout",
     "output_type": "stream",
     "text": [
      "tensor(15, device='cuda:0')\n"
     ]
    },
    {
     "data": {
      "image/png": "[encoded data removed]",
      "text/plain": [
       "<Figure size 432x288 with 1 Axes>"
      ]
     },
     "metadata": {
      "needs_background": "light"
     },
     "output_type": "display_data"
    },
    {
     "name": "stdout",
     "output_type": "stream",
     "text": [
      "tensor(15, device='cuda:0')\n"
     ]
    },
    {
     "data": {
      "image/png": "[encoded data removed]",
      "text/plain": [
       "<Figure size 432x288 with 1 Axes>"
      ]
     },
     "metadata": {
      "needs_background": "light"
     },
     "output_type": "display_data"
    },
    {
     "name": "stdout",
     "output_type": "stream",
     "text": [
      "tensor(15, device='cuda:0')\n"
     ]
    },
    {
     "data": {
      "image/png": "[encoded data removed]",
      "text/plain": [
       "<Figure size 432x288 with 1 Axes>"
      ]
     },
     "metadata": {
      "needs_background": "light"
     },
     "output_type": "display_data"
    },
    {
     "name": "stdout",
     "output_type": "stream",
     "text": [
      "tensor(4, device='cuda:0')\n"
     ]
    },
    {
     "data": {
      "image/png": "[encoded data removed]",
      "text/plain": [
       "<Figure size 432x288 with 1 Axes>"
      ]
     },
     "metadata": {
      "needs_background": "light"
     },
     "output_type": "display_data"
    },
    {
     "name": "stdout",
     "output_type": "stream",
     "text": [
      "tensor(12, device='cuda:0')\n"
     ]
    },
    {
     "data": {
      "image/png": "[encoded data removed]",
      "text/plain": [
       "<Figure size 432x288 with 1 Axes>"
      ]
     },
     "metadata": {
      "needs_background": "light"
     },
     "output_type": "display_data"
    },
    {
     "name": "stdout",
     "output_type": "stream",
     "text": [
      "tensor(6, device='cuda:0')\n"
     ]
    },
    {
     "data": {
      "image/png": "[encoded data removed]",
      "text/plain": [
       "<Figure size 432x288 with 1 Axes>"
      ]
     },
     "metadata": {
      "needs_background": "light"
     },
     "output_type": "display_data"
    },
    {
     "name": "stdout",
     "output_type": "stream",
     "text": [
      "tensor(11, device='cuda:0')\n"
     ]
    },
    {
     "data": {
      "image/png": "[encoded data removed]",
      "text/plain": [
       "<Figure size 432x288 with 1 Axes>"
      ]
     },
     "metadata": {
      "needs_background": "light"
     },
     "output_type": "display_data"
    }
   ],
   "source": [
    "n=1\n",
    "for i in range(len(c)):\n",
    "        n+=1\n",
    "        img = np.moveaxis(test_set[c[i]][0].numpy(),0,2)\n",
    "        plt.subplot(2,4,i%8+1)\n",
    "        plt.imshow(img)\n",
    "        print(labe[i])\n",
    "        #if i%8==0:\n",
    "        plt.show()\n",
    "        \n",
    "#print(n)"
   ]
  },
  {
   "cell_type": "code",
   "execution_count": null,
   "metadata": {},
   "outputs": [],
   "source": [
    "model.eval()\n",
    "test_set = DrivingDataset(data_dir=\"C:/Users/zhaoh/Downloads/FYP/UI/master/sliced one/\", is_train=False,transform=transform2)\n",
    "testloader = torch.utils.data.DataLoader(test_set, batch_size=1,\n",
    "                                          shuffle=False, num_workers=0)\n",
    "for i,j in testloader:\n",
    "    #i=255-i\n",
    "    #print(i.shape)\n",
    "    data = i[:,0]\n",
    "    data=data.reshape(-1,1,56,56).float().to(device)\n",
    "    \n",
    "    outputs = model(data)\n",
    "    _, predicted = torch.max(outputs.data, 1)\n",
    "    print(\"prediction\",predicted)\n",
    "    #for k in range(5):\n",
    "        #img = np.moveaxis(i[k].numpy(),0,2)\n",
    "        #print(img.shape)\n",
    "        #plt.imshow(img[:,:,0],cmap='gray')\n",
    "        #plt.show()\n",
    "    #outputs = model(cell0.to(device))\n",
    "    #_, predicted = torch.max(outputs.data, 1)\n",
    "    #print(predicted)\n",
    "    #plt.show()\n",
    "    "
   ]
  },
  {
   "cell_type": "code",
   "execution_count": null,
   "metadata": {},
   "outputs": [],
   "source": [
    "print(c)"
   ]
  },
  {
   "cell_type": "code",
   "execution_count": null,
   "metadata": {},
   "outputs": [],
   "source": [
    "path='C:/Users/zhaoh/Downloads/FYP/dataset/test/'\n",
    "i=0\n",
    "for f in os.listdir(path):\n",
    "    name=os.path.join(path+str(f))\n",
    "    if \"jpg\" in name:\n",
    "        im = cv2.imread(name)\n",
    "        plt.imshow(im)\n",
    "        plt.show()\n",
    "        im1=im[217:312,12:98]#86,4\n",
    "        im2=im[217:312,102:188]\n",
    "        im3=im[217:312,192:278]\n",
    "        im4=im[217:312,282:368]\n",
    "        im5=im[217:312,372:458]\n",
    "        im6=im[217:312,462:548]\n",
    "        im7=im[217:312,552:638]\n",
    "        im8=im[217:312,642:728]\n",
    "        im9=im[217:312,732:818]\n",
    "        im10=im[217:312,822:908]\n",
    "        im11=im[217:312,912:998]\n",
    "        #im5=im[870:990,420:575]\n",
    "        \n",
    "        plt.imshow(im11)\n",
    "        #i+=1\n",
    "        #im=255-im\n",
    "        #flip = cv2.flip(im, 1)\n",
    "        \n",
    "        cv2.imwrite(path+str(np.random.randint(10000,size=1).item())+'.jpg',im1)\n",
    "        cv2.imwrite(path+str(np.random.randint(10000,size=1).item())+'.jpg',im2)\n",
    "        cv2.imwrite(path+str(np.random.randint(10000,size=1).item())+'.jpg',im3)\n",
    "        cv2.imwrite(path+str(np.random.randint(10000,size=1).item())+'.jpg',im4)\n",
    "        cv2.imwrite(path+str(np.random.randint(10000,size=1).item())+'.jpg',im5)\n",
    "        cv2.imwrite(path+str(np.random.randint(10000,size=1).item())+'.jpg',im6)\n",
    "        cv2.imwrite(path+str(np.random.randint(10000,size=1).item())+'.jpg',im7)\n",
    "        cv2.imwrite(path+str(np.random.randint(10000,size=1).item())+'.jpg',im8)\n",
    "        cv2.imwrite(path+str(np.random.randint(10000,size=1).item())+'.jpg',im9) \n",
    "        cv2.imwrite(path+str(np.random.randint(10000,size=1).item())+'.jpg',im10)\n",
    "        cv2.imwrite(path+str(np.random.randint(10000,size=1).item())+'.jpg',im11)\n",
    "        \n",
    "#print(i)"
   ]
  },
  {
   "cell_type": "code",
   "execution_count": 59,
   "metadata": {},
   "outputs": [],
   "source": [
    "class visual(nn.Module):\n",
    "    def __init__(self):\n",
    "        super(visual, self).__init__()\n",
    "        self.conv1 = nn.Sequential(         # input shape (1, 28, 28)\n",
    "            nn.Conv2d(\n",
    "                in_channels=1,              # input height\n",
    "                out_channels=16,            # n_filters\n",
    "                kernel_size=5,              # filter size\n",
    "                stride=2,                   # filter movement/step\n",
    "                padding=1,                  # if want same width and length of this image after con2d, padding=(kernel_size-1)/2 if stride=1\n",
    "            ),                              # output shape (16, 28, 28)\n",
    "            nn.ReLU(),\n",
    "            torch.nn.BatchNorm2d(16),# activation\n",
    "            nn.MaxPool2d(kernel_size=2),    # choose max value in 2x2 area, output shape (16, 14, 14)\n",
    "        )#32\n",
    "        self.conv2 = nn.Sequential(         # input shape (16, 14, 14)\n",
    "            nn.Conv2d(16, 32, 5, 2, 1),     # output shape (32, 14, 14)\n",
    "            nn.ReLU(),\n",
    "            torch.nn.BatchNorm2d(32),# activation\n",
    "            #nn.MaxPool2d(2),                # output shape (32, 7, 7)#16\n",
    "        )\n",
    "        self.conv3 = nn.Sequential(         # input shape (16, 14, 14)\n",
    "            nn.Conv2d(32, 32, 5, 2, 1),     # output shape (32, 14, 14)\n",
    "            nn.ReLU(),\n",
    "            #torch.nn.BatchNorm2d(32),# activation\n",
    "            #nn.MaxPool2d(2),                # output shape (32, 7, 7)#8\n",
    "        )\n",
    "        self.out1 = nn.Sequential(nn.Linear(32*36, 16),\n",
    "            nn.Dropout(0.3)\n",
    "        )\n",
    "        #self.out2 = nn.Linear(512, 16)\n",
    "        # fully connected layer, output 10 classes\n",
    " \n",
    "    def forward(self, x):\n",
    "        x = self.conv1(x)\n",
    "        print(x.shape)\n",
    "        x = self.conv2(x)\n",
    "        print(x.shape)\n",
    "        x = self.conv3(x)\n",
    "        output = x\n",
    "        \n",
    "        x = x.view(x.size(0), -1)   \n",
    "        print(x.shape)\n",
    "        x=self.out1(x)\n",
    "        \n",
    "        ## flatten the output of conv2 to (batch_size, 32 * 7 * 7)\n",
    "        \n",
    "        return output   # return x for visualization"
   ]
  },
  {
   "cell_type": "code",
   "execution_count": 91,
   "metadata": {},
   "outputs": [],
   "source": [
    "class visual2(nn.Module):\n",
    "    def __init__(self):\n",
    "        super(visual2, self).__init__()\n",
    "        self.conv1 = nn.Sequential(         # input shape (1, 28, 28)\n",
    "            nn.Conv2d(\n",
    "                in_channels=1,              # input height\n",
    "                out_channels=16,            # n_filters\n",
    "                kernel_size=5,              # filter size\n",
    "                stride=1,                   # filter movement/step\n",
    "                padding=2,                  # if want same width and length of this image after con2d, padding=(kernel_size-1)/2 if stride=1\n",
    "            ),                              # output shape (16, 28, 28)\n",
    "            nn.ReLU(),\n",
    "            torch.nn.BatchNorm2d(16),# activation\n",
    "            nn.MaxPool2d(kernel_size=2),    # choose max value in 2x2 area, output shape (16, 14, 14)\n",
    "        )#32\n",
    "        self.conv2 = nn.Sequential(         # input shape (16, 14, 14)\n",
    "            nn.Conv2d(16, 32, 5, 1, 2),     # output shape (32, 14, 14)\n",
    "            nn.ReLU(),\n",
    "            torch.nn.BatchNorm2d(32),# activation\n",
    "            nn.MaxPool2d(2),                # output shape (32, 7, 7)#16\n",
    "        )\n",
    "        self.conv3 = nn.Sequential(         # input shape (16, 14, 14)\n",
    "            nn.Conv2d(32, 32, 5, 1, 2),     # output shape (32, 14, 14)\n",
    "            nn.ReLU(),\n",
    "            torch.nn.BatchNorm2d(32),# activation\n",
    "            nn.MaxPool2d(2),                # output shape (32, 7, 7)#8\n",
    "        )\n",
    "        self.out1 = nn.Sequential(nn.Linear(32 * 7 * 7, 512),\n",
    "            nn.Dropout(0.3)\n",
    "        )\n",
    "        self.out2 = nn.Linear(512, 16)\n",
    "        # fully connected layer, output 10 classes\n",
    " \n",
    "    def forward(self, x):\n",
    "        x=x\n",
    "        print(x.shape)\n",
    "        x = self.conv1(x)\n",
    "        #print(x.shape)\n",
    "        output=x\n",
    "        x = self.conv2(x)\n",
    "        #print(x.shape)\n",
    "        x = self.conv3(x)\n",
    "        #print(x.shape)\n",
    "        #output=x\n",
    "        x = x.view(x.size(0), -1)   \n",
    "        x=self.out1(x)\n",
    "        #print(x.shape)\n",
    "        ## flatten the output of conv2 to (batch_size, 32 * 7 * 7)\n",
    "        output = self.out2(x)\n",
    "        return output   # return x for visualization"
   ]
  },
  {
   "cell_type": "code",
   "execution_count": 7,
   "metadata": {},
   "outputs": [
    {
     "ename": "AttributeError",
     "evalue": "Can't get attribute 'Simple' on <module '__main__'>",
     "output_type": "error",
     "traceback": [
      "\u001b[1;31m---------------------------------------------------------------------------\u001b[0m",
      "\u001b[1;31mAttributeError\u001b[0m                            Traceback (most recent call last)",
      "\u001b[1;32m<ipython-input-7-828d7f0ad60e>\u001b[0m in \u001b[0;36m<module>\u001b[1;34m\u001b[0m\n\u001b[1;32m----> 1\u001b[1;33m \u001b[0mmodel\u001b[0m\u001b[1;33m=\u001b[0m\u001b[0mtorch\u001b[0m\u001b[1;33m.\u001b[0m\u001b[0mload\u001b[0m\u001b[1;33m(\u001b[0m\u001b[1;34m'new/simplefinal.pkl'\u001b[0m\u001b[1;33m)\u001b[0m\u001b[1;33m\u001b[0m\u001b[1;33m\u001b[0m\u001b[0m\n\u001b[0m",
      "\u001b[1;32m~\\Anaconda3\\lib\\site-packages\\torch\\serialization.py\u001b[0m in \u001b[0;36mload\u001b[1;34m(f, map_location, pickle_module, **pickle_load_args)\u001b[0m\n\u001b[0;32m    384\u001b[0m         \u001b[0mf\u001b[0m \u001b[1;33m=\u001b[0m \u001b[0mf\u001b[0m\u001b[1;33m.\u001b[0m\u001b[0mopen\u001b[0m\u001b[1;33m(\u001b[0m\u001b[1;34m'rb'\u001b[0m\u001b[1;33m)\u001b[0m\u001b[1;33m\u001b[0m\u001b[1;33m\u001b[0m\u001b[0m\n\u001b[0;32m    385\u001b[0m     \u001b[1;32mtry\u001b[0m\u001b[1;33m:\u001b[0m\u001b[1;33m\u001b[0m\u001b[1;33m\u001b[0m\u001b[0m\n\u001b[1;32m--> 386\u001b[1;33m         \u001b[1;32mreturn\u001b[0m \u001b[0m_load\u001b[0m\u001b[1;33m(\u001b[0m\u001b[0mf\u001b[0m\u001b[1;33m,\u001b[0m \u001b[0mmap_location\u001b[0m\u001b[1;33m,\u001b[0m \u001b[0mpickle_module\u001b[0m\u001b[1;33m,\u001b[0m \u001b[1;33m**\u001b[0m\u001b[0mpickle_load_args\u001b[0m\u001b[1;33m)\u001b[0m\u001b[1;33m\u001b[0m\u001b[1;33m\u001b[0m\u001b[0m\n\u001b[0m\u001b[0;32m    387\u001b[0m     \u001b[1;32mfinally\u001b[0m\u001b[1;33m:\u001b[0m\u001b[1;33m\u001b[0m\u001b[1;33m\u001b[0m\u001b[0m\n\u001b[0;32m    388\u001b[0m         \u001b[1;32mif\u001b[0m \u001b[0mnew_fd\u001b[0m\u001b[1;33m:\u001b[0m\u001b[1;33m\u001b[0m\u001b[1;33m\u001b[0m\u001b[0m\n",
      "\u001b[1;32m~\\Anaconda3\\lib\\site-packages\\torch\\serialization.py\u001b[0m in \u001b[0;36m_load\u001b[1;34m(f, map_location, pickle_module, **pickle_load_args)\u001b[0m\n\u001b[0;32m    571\u001b[0m     \u001b[0munpickler\u001b[0m \u001b[1;33m=\u001b[0m \u001b[0mpickle_module\u001b[0m\u001b[1;33m.\u001b[0m\u001b[0mUnpickler\u001b[0m\u001b[1;33m(\u001b[0m\u001b[0mf\u001b[0m\u001b[1;33m,\u001b[0m \u001b[1;33m**\u001b[0m\u001b[0mpickle_load_args\u001b[0m\u001b[1;33m)\u001b[0m\u001b[1;33m\u001b[0m\u001b[1;33m\u001b[0m\u001b[0m\n\u001b[0;32m    572\u001b[0m     \u001b[0munpickler\u001b[0m\u001b[1;33m.\u001b[0m\u001b[0mpersistent_load\u001b[0m \u001b[1;33m=\u001b[0m \u001b[0mpersistent_load\u001b[0m\u001b[1;33m\u001b[0m\u001b[1;33m\u001b[0m\u001b[0m\n\u001b[1;32m--> 573\u001b[1;33m     \u001b[0mresult\u001b[0m \u001b[1;33m=\u001b[0m \u001b[0munpickler\u001b[0m\u001b[1;33m.\u001b[0m\u001b[0mload\u001b[0m\u001b[1;33m(\u001b[0m\u001b[1;33m)\u001b[0m\u001b[1;33m\u001b[0m\u001b[1;33m\u001b[0m\u001b[0m\n\u001b[0m\u001b[0;32m    574\u001b[0m \u001b[1;33m\u001b[0m\u001b[0m\n\u001b[0;32m    575\u001b[0m     \u001b[0mdeserialized_storage_keys\u001b[0m \u001b[1;33m=\u001b[0m \u001b[0mpickle_module\u001b[0m\u001b[1;33m.\u001b[0m\u001b[0mload\u001b[0m\u001b[1;33m(\u001b[0m\u001b[0mf\u001b[0m\u001b[1;33m,\u001b[0m \u001b[1;33m**\u001b[0m\u001b[0mpickle_load_args\u001b[0m\u001b[1;33m)\u001b[0m\u001b[1;33m\u001b[0m\u001b[1;33m\u001b[0m\u001b[0m\n",
      "\u001b[1;31mAttributeError\u001b[0m: Can't get attribute 'Simple' on <module '__main__'>"
     ]
    }
   ],
   "source": [
    "model=torch.load('new/simplefinal.pkl')"
   ]
  },
  {
   "cell_type": "code",
   "execution_count": 10,
   "metadata": {},
   "outputs": [
    {
     "name": "stdout",
     "output_type": "stream",
     "text": [
      "11\n",
      "o  torch.Size([1, 1568])\n",
      "o  torch.Size([32, 7, 7])\n",
      "torch.Size([7, 7])\n",
      "torch.Size([7, 7])\n",
      "torch.Size([7, 7])\n",
      "torch.Size([7, 7])\n",
      "torch.Size([7, 7])\n",
      "torch.Size([7, 7])\n",
      "torch.Size([7, 7])\n",
      "torch.Size([7, 7])\n"
     ]
    },
    {
     "data": {
      "image/png": "[encoded data removed]",
      "text/plain": [
       "<Figure size 432x288 with 8 Axes>"
      ]
     },
     "metadata": {
      "needs_background": "light"
     },
     "output_type": "display_data"
    },
    {
     "name": "stdout",
     "output_type": "stream",
     "text": [
      "torch.Size([7, 7])\n",
      "torch.Size([7, 7])\n",
      "torch.Size([7, 7])\n",
      "torch.Size([7, 7])\n",
      "torch.Size([7, 7])\n",
      "torch.Size([7, 7])\n",
      "torch.Size([7, 7])\n",
      "torch.Size([7, 7])\n"
     ]
    },
    {
     "data": {
      "image/png": "[encoded data removed]",
      "text/plain": [
       "<Figure size 432x288 with 8 Axes>"
      ]
     },
     "metadata": {
      "needs_background": "light"
     },
     "output_type": "display_data"
    },
    {
     "name": "stdout",
     "output_type": "stream",
     "text": [
      "torch.Size([7, 7])\n",
      "torch.Size([7, 7])\n",
      "torch.Size([7, 7])\n",
      "torch.Size([7, 7])\n",
      "torch.Size([7, 7])\n",
      "torch.Size([7, 7])\n",
      "torch.Size([7, 7])\n",
      "torch.Size([7, 7])\n"
     ]
    },
    {
     "data": {
      "image/png": "[encoded data removed]",
      "text/plain": [
       "<Figure size 432x288 with 8 Axes>"
      ]
     },
     "metadata": {
      "needs_background": "light"
     },
     "output_type": "display_data"
    },
    {
     "name": "stdout",
     "output_type": "stream",
     "text": [
      "torch.Size([7, 7])\n",
      "torch.Size([7, 7])\n",
      "torch.Size([7, 7])\n",
      "torch.Size([7, 7])\n",
      "torch.Size([7, 7])\n",
      "torch.Size([7, 7])\n",
      "torch.Size([7, 7])\n",
      "torch.Size([7, 7])\n"
     ]
    },
    {
     "data": {
      "image/png": "[encoded data removed]",
      "text/plain": [
       "<Figure size 432x288 with 8 Axes>"
      ]
     },
     "metadata": {
      "needs_background": "light"
     },
     "output_type": "display_data"
    },
    {
     "name": "stdout",
     "output_type": "stream",
     "text": [
      "o  torch.Size([1, 1568])\n",
      "o  torch.Size([32, 7, 7])\n",
      "torch.Size([7, 7])\n",
      "torch.Size([7, 7])\n",
      "torch.Size([7, 7])\n",
      "torch.Size([7, 7])\n",
      "torch.Size([7, 7])\n",
      "torch.Size([7, 7])\n",
      "torch.Size([7, 7])\n",
      "torch.Size([7, 7])\n"
     ]
    },
    {
     "data": {
      "image/png": "[encoded data removed]",
      "text/plain": [
       "<Figure size 432x288 with 8 Axes>"
      ]
     },
     "metadata": {
      "needs_background": "light"
     },
     "output_type": "display_data"
    },
    {
     "name": "stdout",
     "output_type": "stream",
     "text": [
      "torch.Size([7, 7])\n",
      "torch.Size([7, 7])\n",
      "torch.Size([7, 7])\n",
      "torch.Size([7, 7])\n",
      "torch.Size([7, 7])\n",
      "torch.Size([7, 7])\n",
      "torch.Size([7, 7])\n",
      "torch.Size([7, 7])\n"
     ]
    },
    {
     "data": {
      "image/png": "[encoded data removed]",
      "text/plain": [
       "<Figure size 432x288 with 8 Axes>"
      ]
     },
     "metadata": {
      "needs_background": "light"
     },
     "output_type": "display_data"
    },
    {
     "name": "stdout",
     "output_type": "stream",
     "text": [
      "torch.Size([7, 7])\n",
      "torch.Size([7, 7])\n",
      "torch.Size([7, 7])\n",
      "torch.Size([7, 7])\n",
      "torch.Size([7, 7])\n",
      "torch.Size([7, 7])\n",
      "torch.Size([7, 7])\n",
      "torch.Size([7, 7])\n"
     ]
    },
    {
     "data": {
      "image/png": "[encoded data removed]",
      "text/plain": [
       "<Figure size 432x288 with 8 Axes>"
      ]
     },
     "metadata": {
      "needs_background": "light"
     },
     "output_type": "display_data"
    },
    {
     "name": "stdout",
     "output_type": "stream",
     "text": [
      "torch.Size([7, 7])\n",
      "torch.Size([7, 7])\n",
      "torch.Size([7, 7])\n",
      "torch.Size([7, 7])\n",
      "torch.Size([7, 7])\n",
      "torch.Size([7, 7])\n",
      "torch.Size([7, 7])\n",
      "torch.Size([7, 7])\n"
     ]
    },
    {
     "data": {
      "image/png": "[encoded data removed]",
      "text/plain": [
       "<Figure size 432x288 with 8 Axes>"
      ]
     },
     "metadata": {
      "needs_background": "light"
     },
     "output_type": "display_data"
    },
    {
     "name": "stdout",
     "output_type": "stream",
     "text": [
      "o  torch.Size([1, 1568])\n",
      "o  torch.Size([32, 7, 7])\n",
      "torch.Size([7, 7])\n",
      "torch.Size([7, 7])\n",
      "torch.Size([7, 7])\n",
      "torch.Size([7, 7])\n",
      "torch.Size([7, 7])\n",
      "torch.Size([7, 7])\n",
      "torch.Size([7, 7])\n",
      "torch.Size([7, 7])\n"
     ]
    },
    {
     "data": {
      "image/png": "[encoded data removed]",
      "text/plain": [
       "<Figure size 432x288 with 8 Axes>"
      ]
     },
     "metadata": {
      "needs_background": "light"
     },
     "output_type": "display_data"
    },
    {
     "name": "stdout",
     "output_type": "stream",
     "text": [
      "torch.Size([7, 7])\n",
      "torch.Size([7, 7])\n",
      "torch.Size([7, 7])\n",
      "torch.Size([7, 7])\n",
      "torch.Size([7, 7])\n",
      "torch.Size([7, 7])\n",
      "torch.Size([7, 7])\n",
      "torch.Size([7, 7])\n"
     ]
    },
    {
     "data": {
      "image/png": "[encoded data removed]",
      "text/plain": [
       "<Figure size 432x288 with 8 Axes>"
      ]
     },
     "metadata": {
      "needs_background": "light"
     },
     "output_type": "display_data"
    },
    {
     "name": "stdout",
     "output_type": "stream",
     "text": [
      "torch.Size([7, 7])\n",
      "torch.Size([7, 7])\n",
      "torch.Size([7, 7])\n",
      "torch.Size([7, 7])\n",
      "torch.Size([7, 7])\n",
      "torch.Size([7, 7])\n",
      "torch.Size([7, 7])\n",
      "torch.Size([7, 7])\n"
     ]
    },
    {
     "data": {
      "image/png": "[encoded data removed]",
      "text/plain": [
       "<Figure size 432x288 with 8 Axes>"
      ]
     },
     "metadata": {
      "needs_background": "light"
     },
     "output_type": "display_data"
    },
    {
     "name": "stdout",
     "output_type": "stream",
     "text": [
      "torch.Size([7, 7])\n",
      "torch.Size([7, 7])\n",
      "torch.Size([7, 7])\n",
      "torch.Size([7, 7])\n",
      "torch.Size([7, 7])\n",
      "torch.Size([7, 7])\n",
      "torch.Size([7, 7])\n",
      "torch.Size([7, 7])\n"
     ]
    },
    {
     "data": {
      "image/png": "[encoded data removed]",
      "text/plain": [
       "<Figure size 432x288 with 8 Axes>"
      ]
     },
     "metadata": {
      "needs_background": "light"
     },
     "output_type": "display_data"
    },
    {
     "name": "stdout",
     "output_type": "stream",
     "text": [
      "o  torch.Size([1, 1568])\n",
      "o  torch.Size([32, 7, 7])\n",
      "torch.Size([7, 7])\n",
      "torch.Size([7, 7])\n",
      "torch.Size([7, 7])\n",
      "torch.Size([7, 7])\n",
      "torch.Size([7, 7])\n",
      "torch.Size([7, 7])\n",
      "torch.Size([7, 7])\n",
      "torch.Size([7, 7])\n"
     ]
    },
    {
     "data": {
      "image/png": "[encoded data removed]",
      "text/plain": [
       "<Figure size 432x288 with 8 Axes>"
      ]
     },
     "metadata": {
      "needs_background": "light"
     },
     "output_type": "display_data"
    },
    {
     "name": "stdout",
     "output_type": "stream",
     "text": [
      "torch.Size([7, 7])\n",
      "torch.Size([7, 7])\n",
      "torch.Size([7, 7])\n",
      "torch.Size([7, 7])\n",
      "torch.Size([7, 7])\n",
      "torch.Size([7, 7])\n",
      "torch.Size([7, 7])\n",
      "torch.Size([7, 7])\n"
     ]
    },
    {
     "data": {
      "image/png": "[encoded data removed]",
      "text/plain": [
       "<Figure size 432x288 with 8 Axes>"
      ]
     },
     "metadata": {
      "needs_background": "light"
     },
     "output_type": "display_data"
    },
    {
     "name": "stdout",
     "output_type": "stream",
     "text": [
      "torch.Size([7, 7])\n",
      "torch.Size([7, 7])\n",
      "torch.Size([7, 7])\n",
      "torch.Size([7, 7])\n",
      "torch.Size([7, 7])\n",
      "torch.Size([7, 7])\n",
      "torch.Size([7, 7])\n",
      "torch.Size([7, 7])\n"
     ]
    },
    {
     "data": {
      "image/png": "[encoded data removed]",
      "text/plain": [
       "<Figure size 432x288 with 8 Axes>"
      ]
     },
     "metadata": {
      "needs_background": "light"
     },
     "output_type": "display_data"
    },
    {
     "name": "stdout",
     "output_type": "stream",
     "text": [
      "torch.Size([7, 7])\n",
      "torch.Size([7, 7])\n",
      "torch.Size([7, 7])\n",
      "torch.Size([7, 7])\n",
      "torch.Size([7, 7])\n",
      "torch.Size([7, 7])\n",
      "torch.Size([7, 7])\n",
      "torch.Size([7, 7])\n"
     ]
    },
    {
     "data": {
      "image/png": "[encoded data removed]",
      "text/plain": [
       "<Figure size 432x288 with 8 Axes>"
      ]
     },
     "metadata": {
      "needs_background": "light"
     },
     "output_type": "display_data"
    },
    {
     "name": "stdout",
     "output_type": "stream",
     "text": [
      "o  torch.Size([1, 1568])\n",
      "o  torch.Size([32, 7, 7])\n",
      "torch.Size([7, 7])\n",
      "torch.Size([7, 7])\n",
      "torch.Size([7, 7])\n",
      "torch.Size([7, 7])\n",
      "torch.Size([7, 7])\n",
      "torch.Size([7, 7])\n",
      "torch.Size([7, 7])\n",
      "torch.Size([7, 7])\n"
     ]
    },
    {
     "data": {
      "image/png": "[encoded data removed]",
      "text/plain": [
       "<Figure size 432x288 with 8 Axes>"
      ]
     },
     "metadata": {
      "needs_background": "light"
     },
     "output_type": "display_data"
    },
    {
     "name": "stdout",
     "output_type": "stream",
     "text": [
      "torch.Size([7, 7])\n",
      "torch.Size([7, 7])\n",
      "torch.Size([7, 7])\n",
      "torch.Size([7, 7])\n",
      "torch.Size([7, 7])\n",
      "torch.Size([7, 7])\n",
      "torch.Size([7, 7])\n",
      "torch.Size([7, 7])\n"
     ]
    },
    {
     "data": {
      "image/png": "[encoded data removed]",
      "text/plain": [
       "<Figure size 432x288 with 8 Axes>"
      ]
     },
     "metadata": {
      "needs_background": "light"
     },
     "output_type": "display_data"
    },
    {
     "name": "stdout",
     "output_type": "stream",
     "text": [
      "torch.Size([7, 7])\n",
      "torch.Size([7, 7])\n",
      "torch.Size([7, 7])\n",
      "torch.Size([7, 7])\n",
      "torch.Size([7, 7])\n",
      "torch.Size([7, 7])\n",
      "torch.Size([7, 7])\n",
      "torch.Size([7, 7])\n"
     ]
    },
    {
     "data": {
      "image/png": "[encoded data removed]",
      "text/plain": [
       "<Figure size 432x288 with 8 Axes>"
      ]
     },
     "metadata": {
      "needs_background": "light"
     },
     "output_type": "display_data"
    },
    {
     "name": "stdout",
     "output_type": "stream",
     "text": [
      "torch.Size([7, 7])\n",
      "torch.Size([7, 7])\n",
      "torch.Size([7, 7])\n",
      "torch.Size([7, 7])\n",
      "torch.Size([7, 7])\n",
      "torch.Size([7, 7])\n",
      "torch.Size([7, 7])\n",
      "torch.Size([7, 7])\n"
     ]
    },
    {
     "data": {
      "image/png": "[encoded data removed]",
      "text/plain": [
       "<Figure size 432x288 with 8 Axes>"
      ]
     },
     "metadata": {
      "needs_background": "light"
     },
     "output_type": "display_data"
    },
    {
     "name": "stdout",
     "output_type": "stream",
     "text": [
      "o  torch.Size([1, 1568])\n",
      "o  torch.Size([32, 7, 7])\n",
      "torch.Size([7, 7])\n",
      "torch.Size([7, 7])\n",
      "torch.Size([7, 7])\n",
      "torch.Size([7, 7])\n",
      "torch.Size([7, 7])\n",
      "torch.Size([7, 7])\n",
      "torch.Size([7, 7])\n",
      "torch.Size([7, 7])\n"
     ]
    },
    {
     "data": {
      "image/png": "[encoded data removed]",
      "text/plain": [
       "<Figure size 432x288 with 8 Axes>"
      ]
     },
     "metadata": {
      "needs_background": "light"
     },
     "output_type": "display_data"
    },
    {
     "name": "stdout",
     "output_type": "stream",
     "text": [
      "torch.Size([7, 7])\n",
      "torch.Size([7, 7])\n",
      "torch.Size([7, 7])\n",
      "torch.Size([7, 7])\n",
      "torch.Size([7, 7])\n",
      "torch.Size([7, 7])\n",
      "torch.Size([7, 7])\n",
      "torch.Size([7, 7])\n"
     ]
    },
    {
     "data": {
      "image/png": "[encoded data removed]",
      "text/plain": [
       "<Figure size 432x288 with 8 Axes>"
      ]
     },
     "metadata": {
      "needs_background": "light"
     },
     "output_type": "display_data"
    },
    {
     "name": "stdout",
     "output_type": "stream",
     "text": [
      "torch.Size([7, 7])\n",
      "torch.Size([7, 7])\n",
      "torch.Size([7, 7])\n",
      "torch.Size([7, 7])\n",
      "torch.Size([7, 7])\n",
      "torch.Size([7, 7])\n",
      "torch.Size([7, 7])\n",
      "torch.Size([7, 7])\n"
     ]
    },
    {
     "data": {
      "image/png": "[encoded data removed]",
      "text/plain": [
       "<Figure size 432x288 with 8 Axes>"
      ]
     },
     "metadata": {
      "needs_background": "light"
     },
     "output_type": "display_data"
    },
    {
     "name": "stdout",
     "output_type": "stream",
     "text": [
      "torch.Size([7, 7])\n",
      "torch.Size([7, 7])\n",
      "torch.Size([7, 7])\n",
      "torch.Size([7, 7])\n",
      "torch.Size([7, 7])\n",
      "torch.Size([7, 7])\n",
      "torch.Size([7, 7])\n",
      "torch.Size([7, 7])\n"
     ]
    },
    {
     "data": {
      "image/png": "[encoded data removed]",
      "text/plain": [
       "<Figure size 432x288 with 8 Axes>"
      ]
     },
     "metadata": {
      "needs_background": "light"
     },
     "output_type": "display_data"
    },
    {
     "name": "stdout",
     "output_type": "stream",
     "text": [
      "o  torch.Size([1, 1568])\n",
      "o  torch.Size([32, 7, 7])\n",
      "torch.Size([7, 7])\n",
      "torch.Size([7, 7])\n",
      "torch.Size([7, 7])\n",
      "torch.Size([7, 7])\n",
      "torch.Size([7, 7])\n",
      "torch.Size([7, 7])\n",
      "torch.Size([7, 7])\n",
      "torch.Size([7, 7])\n"
     ]
    },
    {
     "data": {
      "image/png": "[encoded data removed]",
      "text/plain": [
       "<Figure size 432x288 with 8 Axes>"
      ]
     },
     "metadata": {
      "needs_background": "light"
     },
     "output_type": "display_data"
    },
    {
     "name": "stdout",
     "output_type": "stream",
     "text": [
      "torch.Size([7, 7])\n",
      "torch.Size([7, 7])\n",
      "torch.Size([7, 7])\n",
      "torch.Size([7, 7])\n",
      "torch.Size([7, 7])\n",
      "torch.Size([7, 7])\n",
      "torch.Size([7, 7])\n",
      "torch.Size([7, 7])\n"
     ]
    },
    {
     "data": {
      "image/png": "[encoded data removed]",
      "text/plain": [
       "<Figure size 432x288 with 8 Axes>"
      ]
     },
     "metadata": {
      "needs_background": "light"
     },
     "output_type": "display_data"
    },
    {
     "name": "stdout",
     "output_type": "stream",
     "text": [
      "torch.Size([7, 7])\n",
      "torch.Size([7, 7])\n",
      "torch.Size([7, 7])\n",
      "torch.Size([7, 7])\n",
      "torch.Size([7, 7])\n",
      "torch.Size([7, 7])\n",
      "torch.Size([7, 7])\n",
      "torch.Size([7, 7])\n"
     ]
    },
    {
     "data": {
      "image/png": "[encoded data removed]",
      "text/plain": [
       "<Figure size 432x288 with 8 Axes>"
      ]
     },
     "metadata": {
      "needs_background": "light"
     },
     "output_type": "display_data"
    },
    {
     "name": "stdout",
     "output_type": "stream",
     "text": [
      "torch.Size([7, 7])\n",
      "torch.Size([7, 7])\n",
      "torch.Size([7, 7])\n",
      "torch.Size([7, 7])\n",
      "torch.Size([7, 7])\n",
      "torch.Size([7, 7])\n",
      "torch.Size([7, 7])\n",
      "torch.Size([7, 7])\n"
     ]
    },
    {
     "data": {
      "image/png": "[encoded data removed]",
      "text/plain": [
       "<Figure size 432x288 with 8 Axes>"
      ]
     },
     "metadata": {
      "needs_background": "light"
     },
     "output_type": "display_data"
    },
    {
     "name": "stdout",
     "output_type": "stream",
     "text": [
      "o  torch.Size([1, 1568])\n",
      "o  torch.Size([32, 7, 7])\n",
      "torch.Size([7, 7])\n",
      "torch.Size([7, 7])\n",
      "torch.Size([7, 7])\n",
      "torch.Size([7, 7])\n",
      "torch.Size([7, 7])\n",
      "torch.Size([7, 7])\n",
      "torch.Size([7, 7])\n",
      "torch.Size([7, 7])\n"
     ]
    },
    {
     "data": {
      "image/png": "[encoded data removed]",
      "text/plain": [
       "<Figure size 432x288 with 8 Axes>"
      ]
     },
     "metadata": {
      "needs_background": "light"
     },
     "output_type": "display_data"
    },
    {
     "name": "stdout",
     "output_type": "stream",
     "text": [
      "torch.Size([7, 7])\n",
      "torch.Size([7, 7])\n",
      "torch.Size([7, 7])\n",
      "torch.Size([7, 7])\n",
      "torch.Size([7, 7])\n",
      "torch.Size([7, 7])\n",
      "torch.Size([7, 7])\n",
      "torch.Size([7, 7])\n"
     ]
    },
    {
     "data": {
      "image/png": "[encoded data removed]",
      "text/plain": [
       "<Figure size 432x288 with 8 Axes>"
      ]
     },
     "metadata": {
      "needs_background": "light"
     },
     "output_type": "display_data"
    },
    {
     "name": "stdout",
     "output_type": "stream",
     "text": [
      "torch.Size([7, 7])\n",
      "torch.Size([7, 7])\n",
      "torch.Size([7, 7])\n",
      "torch.Size([7, 7])\n",
      "torch.Size([7, 7])\n",
      "torch.Size([7, 7])\n",
      "torch.Size([7, 7])\n",
      "torch.Size([7, 7])\n"
     ]
    },
    {
     "data": {
      "image/png": "[encoded data removed]",
      "text/plain": [
       "<Figure size 432x288 with 8 Axes>"
      ]
     },
     "metadata": {
      "needs_background": "light"
     },
     "output_type": "display_data"
    },
    {
     "name": "stdout",
     "output_type": "stream",
     "text": [
      "torch.Size([7, 7])\n",
      "torch.Size([7, 7])\n",
      "torch.Size([7, 7])\n",
      "torch.Size([7, 7])\n",
      "torch.Size([7, 7])\n",
      "torch.Size([7, 7])\n",
      "torch.Size([7, 7])\n",
      "torch.Size([7, 7])\n"
     ]
    },
    {
     "data": {
      "image/png": "[encoded data removed]",
      "text/plain": [
       "<Figure size 432x288 with 8 Axes>"
      ]
     },
     "metadata": {
      "needs_background": "light"
     },
     "output_type": "display_data"
    },
    {
     "name": "stdout",
     "output_type": "stream",
     "text": [
      "o  torch.Size([1, 1568])\n",
      "o  torch.Size([32, 7, 7])\n",
      "torch.Size([7, 7])\n",
      "torch.Size([7, 7])\n",
      "torch.Size([7, 7])\n",
      "torch.Size([7, 7])\n",
      "torch.Size([7, 7])\n",
      "torch.Size([7, 7])\n",
      "torch.Size([7, 7])\n",
      "torch.Size([7, 7])\n"
     ]
    },
    {
     "data": {
      "image/png": "[encoded data removed]",
      "text/plain": [
       "<Figure size 432x288 with 8 Axes>"
      ]
     },
     "metadata": {
      "needs_background": "light"
     },
     "output_type": "display_data"
    },
    {
     "name": "stdout",
     "output_type": "stream",
     "text": [
      "torch.Size([7, 7])\n",
      "torch.Size([7, 7])\n",
      "torch.Size([7, 7])\n",
      "torch.Size([7, 7])\n",
      "torch.Size([7, 7])\n",
      "torch.Size([7, 7])\n",
      "torch.Size([7, 7])\n",
      "torch.Size([7, 7])\n"
     ]
    },
    {
     "data": {
      "image/png": "[encoded data removed]",
      "text/plain": [
       "<Figure size 432x288 with 8 Axes>"
      ]
     },
     "metadata": {
      "needs_background": "light"
     },
     "output_type": "display_data"
    },
    {
     "name": "stdout",
     "output_type": "stream",
     "text": [
      "torch.Size([7, 7])\n",
      "torch.Size([7, 7])\n",
      "torch.Size([7, 7])\n",
      "torch.Size([7, 7])\n",
      "torch.Size([7, 7])\n",
      "torch.Size([7, 7])\n",
      "torch.Size([7, 7])\n",
      "torch.Size([7, 7])\n"
     ]
    },
    {
     "data": {
      "image/png": "[encoded data removed]",
      "text/plain": [
       "<Figure size 432x288 with 8 Axes>"
      ]
     },
     "metadata": {
      "needs_background": "light"
     },
     "output_type": "display_data"
    },
    {
     "name": "stdout",
     "output_type": "stream",
     "text": [
      "torch.Size([7, 7])\n",
      "torch.Size([7, 7])\n",
      "torch.Size([7, 7])\n",
      "torch.Size([7, 7])\n",
      "torch.Size([7, 7])\n",
      "torch.Size([7, 7])\n",
      "torch.Size([7, 7])\n",
      "torch.Size([7, 7])\n"
     ]
    },
    {
     "data": {
      "image/png": "[encoded data removed]",
      "text/plain": [
       "<Figure size 432x288 with 8 Axes>"
      ]
     },
     "metadata": {
      "needs_background": "light"
     },
     "output_type": "display_data"
    },
    {
     "name": "stdout",
     "output_type": "stream",
     "text": [
      "o  torch.Size([1, 1568])\n",
      "o  torch.Size([32, 7, 7])\n",
      "torch.Size([7, 7])\n",
      "torch.Size([7, 7])\n",
      "torch.Size([7, 7])\n",
      "torch.Size([7, 7])\n",
      "torch.Size([7, 7])\n",
      "torch.Size([7, 7])\n",
      "torch.Size([7, 7])\n",
      "torch.Size([7, 7])\n"
     ]
    },
    {
     "data": {
      "image/png": "[encoded data removed]",
      "text/plain": [
       "<Figure size 432x288 with 8 Axes>"
      ]
     },
     "metadata": {
      "needs_background": "light"
     },
     "output_type": "display_data"
    },
    {
     "name": "stdout",
     "output_type": "stream",
     "text": [
      "torch.Size([7, 7])\n",
      "torch.Size([7, 7])\n",
      "torch.Size([7, 7])\n",
      "torch.Size([7, 7])\n",
      "torch.Size([7, 7])\n",
      "torch.Size([7, 7])\n",
      "torch.Size([7, 7])\n",
      "torch.Size([7, 7])\n"
     ]
    },
    {
     "data": {
      "image/png": "[encoded data removed]",
      "text/plain": [
       "<Figure size 432x288 with 8 Axes>"
      ]
     },
     "metadata": {
      "needs_background": "light"
     },
     "output_type": "display_data"
    },
    {
     "name": "stdout",
     "output_type": "stream",
     "text": [
      "torch.Size([7, 7])\n",
      "torch.Size([7, 7])\n",
      "torch.Size([7, 7])\n",
      "torch.Size([7, 7])\n",
      "torch.Size([7, 7])\n",
      "torch.Size([7, 7])\n",
      "torch.Size([7, 7])\n",
      "torch.Size([7, 7])\n"
     ]
    },
    {
     "data": {
      "image/png": "[encoded data removed]",
      "text/plain": [
       "<Figure size 432x288 with 8 Axes>"
      ]
     },
     "metadata": {
      "needs_background": "light"
     },
     "output_type": "display_data"
    },
    {
     "name": "stdout",
     "output_type": "stream",
     "text": [
      "torch.Size([7, 7])\n",
      "torch.Size([7, 7])\n",
      "torch.Size([7, 7])\n",
      "torch.Size([7, 7])\n",
      "torch.Size([7, 7])\n",
      "torch.Size([7, 7])\n",
      "torch.Size([7, 7])\n",
      "torch.Size([7, 7])\n"
     ]
    },
    {
     "data": {
      "image/png": "[encoded data removed]",
      "text/plain": [
       "<Figure size 432x288 with 8 Axes>"
      ]
     },
     "metadata": {
      "needs_background": "light"
     },
     "output_type": "display_data"
    },
    {
     "name": "stdout",
     "output_type": "stream",
     "text": [
      "o  torch.Size([1, 1568])\n",
      "o  torch.Size([32, 7, 7])\n",
      "torch.Size([7, 7])\n",
      "torch.Size([7, 7])\n",
      "torch.Size([7, 7])\n",
      "torch.Size([7, 7])\n",
      "torch.Size([7, 7])\n",
      "torch.Size([7, 7])\n",
      "torch.Size([7, 7])\n",
      "torch.Size([7, 7])\n"
     ]
    },
    {
     "data": {
      "image/png": "[encoded data removed]",
      "text/plain": [
       "<Figure size 432x288 with 8 Axes>"
      ]
     },
     "metadata": {
      "needs_background": "light"
     },
     "output_type": "display_data"
    },
    {
     "name": "stdout",
     "output_type": "stream",
     "text": [
      "torch.Size([7, 7])\n",
      "torch.Size([7, 7])\n",
      "torch.Size([7, 7])\n",
      "torch.Size([7, 7])\n",
      "torch.Size([7, 7])\n",
      "torch.Size([7, 7])\n",
      "torch.Size([7, 7])\n",
      "torch.Size([7, 7])\n"
     ]
    },
    {
     "data": {
      "image/png": "[encoded data removed]",
      "text/plain": [
       "<Figure size 432x288 with 8 Axes>"
      ]
     },
     "metadata": {
      "needs_background": "light"
     },
     "output_type": "display_data"
    },
    {
     "name": "stdout",
     "output_type": "stream",
     "text": [
      "torch.Size([7, 7])\n",
      "torch.Size([7, 7])\n",
      "torch.Size([7, 7])\n",
      "torch.Size([7, 7])\n",
      "torch.Size([7, 7])\n",
      "torch.Size([7, 7])\n",
      "torch.Size([7, 7])\n",
      "torch.Size([7, 7])\n"
     ]
    },
    {
     "data": {
      "image/png": "[encoded data removed]",
      "text/plain": [
       "<Figure size 432x288 with 8 Axes>"
      ]
     },
     "metadata": {
      "needs_background": "light"
     },
     "output_type": "display_data"
    },
    {
     "name": "stdout",
     "output_type": "stream",
     "text": [
      "torch.Size([7, 7])\n",
      "torch.Size([7, 7])\n",
      "torch.Size([7, 7])\n",
      "torch.Size([7, 7])\n",
      "torch.Size([7, 7])\n",
      "torch.Size([7, 7])\n",
      "torch.Size([7, 7])\n",
      "torch.Size([7, 7])\n"
     ]
    },
    {
     "data": {
      "image/png": "[encoded data removed]",
      "text/plain": [
       "<Figure size 432x288 with 8 Axes>"
      ]
     },
     "metadata": {
      "needs_background": "light"
     },
     "output_type": "display_data"
    }
   ],
   "source": [
    "#visualize\n",
    "\n",
    "#model=visual2()\n",
    "#model.to(device) \n",
    "model=torch.load('new/simplefinal.pkl')\n",
    "#model.conv2 = nn.Dropout(0)\n",
    "#model.conv3 = nn.Dropout(0)\n",
    "model.out1 = nn.Dropout(0)\n",
    "model.out2 = nn.Dropout(0)\n",
    "#print(model)\n",
    "model.eval()\n",
    "test_set = DrivingDataset(data_dir=\"C:/Users/zhaoh/Downloads/FYP/UI/master/sliced one/\", is_train=False,transform=transform2)\n",
    "testloader = torch.utils.data.DataLoader(test_set, batch_size=1,\n",
    "                                          shuffle=False, num_workers=0)\n",
    "for i,j in testloader:\n",
    "    #i=255-i\n",
    "    #print(i.shape)\n",
    "    data = i[:,0]\n",
    "    data=data.reshape(-1,1,56,56).float().to(device)\n",
    "    \n",
    "    outputs = model(data)\n",
    "    print('o ',outputs.shape)\n",
    "    channel=32\n",
    "    size=7\n",
    "    outputs=np.reshape(outputs.cpu().detach(),(channel,size,size))\n",
    "    print('o ',outputs.shape)\n",
    "    #_, predicted = torch.max(outputs.data, 1)\n",
    "    #print(\"prediction\",predicted)\n",
    "    \n",
    "    for k in range(channel):\n",
    "        plt.subplot(2,4,k%8+1)\n",
    "        #img = np.moveaxis(i[:,k].numpy(),0,2)\n",
    "        print(outputs[k].shape)\n",
    "        img=np.reshape(outputs[k].cpu().detach(),(size,size))\n",
    "        #img = np.moveaxis(i[:,k].numpy(),0,2)\n",
    "        plt.imshow(img,cmap='gray')\n",
    "        if k%8==7:\n",
    "            plt.show()\n",
    "    \n",
    "    #outputs = model(cell0.to(device))\n",
    "    #_, predicted = torch.max(outputs.data, 1)\n",
    "    #print(predicted)\n",
    "    #plt.show()\n",
    "    "
   ]
  },
  {
   "cell_type": "code",
   "execution_count": 64,
   "metadata": {},
   "outputs": [
    {
     "name": "stdout",
     "output_type": "stream",
     "text": [
      "11\n",
      "torch.Size([1, 1, 56, 56])\n",
      "torch.Size([1, 16, 28, 28])\n",
      "torch.Size([1, 32, 14, 14])\n",
      "torch.Size([1, 32, 7, 7])\n",
      "torch.Size([1, 32, 7, 7])\n",
      "torch.Size([1, 1, 56, 56])\n",
      "torch.Size([1, 16, 28, 28])\n",
      "torch.Size([1, 32, 14, 14])\n",
      "torch.Size([1, 32, 7, 7])\n",
      "torch.Size([1, 32, 7, 7])\n",
      "torch.Size([1, 1, 56, 56])\n",
      "torch.Size([1, 16, 28, 28])\n",
      "torch.Size([1, 32, 14, 14])\n",
      "torch.Size([1, 32, 7, 7])\n",
      "torch.Size([1, 32, 7, 7])\n",
      "torch.Size([1, 1, 56, 56])\n",
      "torch.Size([1, 16, 28, 28])\n",
      "torch.Size([1, 32, 14, 14])\n",
      "torch.Size([1, 32, 7, 7])\n",
      "torch.Size([1, 32, 7, 7])\n",
      "torch.Size([1, 1, 56, 56])\n",
      "torch.Size([1, 16, 28, 28])\n",
      "torch.Size([1, 32, 14, 14])\n",
      "torch.Size([1, 32, 7, 7])\n",
      "torch.Size([1, 32, 7, 7])\n",
      "torch.Size([1, 1, 56, 56])\n",
      "torch.Size([1, 16, 28, 28])\n",
      "torch.Size([1, 32, 14, 14])\n",
      "torch.Size([1, 32, 7, 7])\n",
      "torch.Size([1, 32, 7, 7])\n",
      "torch.Size([1, 1, 56, 56])\n",
      "torch.Size([1, 16, 28, 28])\n",
      "torch.Size([1, 32, 14, 14])\n",
      "torch.Size([1, 32, 7, 7])\n",
      "torch.Size([1, 32, 7, 7])\n",
      "torch.Size([1, 1, 56, 56])\n",
      "torch.Size([1, 16, 28, 28])\n",
      "torch.Size([1, 32, 14, 14])\n",
      "torch.Size([1, 32, 7, 7])\n",
      "torch.Size([1, 32, 7, 7])\n",
      "torch.Size([1, 1, 56, 56])\n",
      "torch.Size([1, 16, 28, 28])\n",
      "torch.Size([1, 32, 14, 14])\n",
      "torch.Size([1, 32, 7, 7])\n",
      "torch.Size([1, 32, 7, 7])\n",
      "torch.Size([1, 1, 56, 56])\n",
      "torch.Size([1, 16, 28, 28])\n",
      "torch.Size([1, 32, 14, 14])\n",
      "torch.Size([1, 32, 7, 7])\n",
      "torch.Size([1, 32, 7, 7])\n",
      "torch.Size([1, 1, 56, 56])\n",
      "torch.Size([1, 16, 28, 28])\n",
      "torch.Size([1, 32, 14, 14])\n",
      "torch.Size([1, 32, 7, 7])\n",
      "torch.Size([1, 32, 7, 7])\n"
     ]
    }
   ],
   "source": [
    "model=visual2()\n",
    "#print(model)\n",
    "model.to(device)    \n",
    "model.eval()\n",
    "test_set = DrivingDataset(data_dir=\"C:/Users/zhaoh/Downloads/FYP/UI/master/sliced one/\", is_train=False,transform=transform2)\n",
    "testloader = torch.utils.data.DataLoader(test_set, batch_size=1,\n",
    "                                          shuffle=False, num_workers=0)\n",
    "for i,j in testloader:\n",
    "    #i=255-i\n",
    "    #print(i.shape)\n",
    "    data = i[:,0]\n",
    "    data=data.reshape(-1,1,56,56).float().to(device)\n",
    "    \n",
    "    outputs = model(data)\n",
    "    print(outputs.shape)"
   ]
  },
  {
   "cell_type": "code",
   "execution_count": 84,
   "metadata": {},
   "outputs": [],
   "source": [
    "a='1568778798'"
   ]
  },
  {
   "cell_type": "code",
   "execution_count": 90,
   "metadata": {},
   "outputs": [],
   "source": [
    "for i in range(2,len(a)):\n",
    "    a=a.replace(a[i],'')"
   ]
  },
  {
   "cell_type": "code",
   "execution_count": null,
   "metadata": {},
   "outputs": [],
   "source": []
  }
 ],
 "metadata": {
  "kernelspec": {
   "display_name": "Python 3",
   "language": "python",
   "name": "python3"
  },
  "language_info": {
   "codemirror_mode": {
    "name": "ipython",
    "version": 3
   },
   "file_extension": ".py",
   "mimetype": "text/x-python",
   "name": "python",
   "nbconvert_exporter": "python",
   "pygments_lexer": "ipython3",
   "version": "3.7.3"
  }
 },
 "nbformat": 4,
 "nbformat_minor": 2
}
